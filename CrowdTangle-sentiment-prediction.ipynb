{
  "cells": [
    {
      "cell_type": "markdown",
      "source": [
        "# Forward prediction of Hindi sentiment(s) in CrowdTangle dataset"
      ],
      "metadata": {
        "id": "vdh6covbp1Gr"
      }
    },
    {
      "cell_type": "markdown",
      "metadata": {
        "id": "6rk1dAvSLOtS"
      },
      "source": [
        "## Installs and imports"
      ]
    },
    {
      "cell_type": "code",
      "execution_count": 1,
      "metadata": {
        "colab": {
          "base_uri": "https://localhost:8080/"
        },
        "id": "nKftOu9fyC8R",
        "outputId": "0dc17eb5-1b53-43ed-d9e4-8acfef05e630"
      },
      "outputs": [
        {
          "output_type": "stream",
          "name": "stdout",
          "text": [
            "Looking in indexes: https://pypi.org/simple, https://us-python.pkg.dev/colab-wheels/public/simple/\n",
            "Requirement already satisfied: pip in /usr/local/lib/python3.7/dist-packages (21.1.3)\n",
            "Collecting pip\n",
            "  Downloading pip-22.2.2-py3-none-any.whl (2.0 MB)\n",
            "\u001b[K     |████████████████████████████████| 2.0 MB 15.5 MB/s \n",
            "\u001b[?25hInstalling collected packages: pip\n",
            "  Attempting uninstall: pip\n",
            "    Found existing installation: pip 21.1.3\n",
            "    Uninstalling pip-21.1.3:\n",
            "      Successfully uninstalled pip-21.1.3\n",
            "Successfully installed pip-22.2.2\n",
            "Looking in indexes: https://pypi.org/simple, https://us-python.pkg.dev/colab-wheels/public/simple/\n",
            "Collecting sentencepiece\n",
            "  Downloading sentencepiece-0.1.97-cp37-cp37m-manylinux_2_17_x86_64.manylinux2014_x86_64.whl (1.3 MB)\n",
            "\u001b[2K     \u001b[90m━━━━━━━━━━━━━━━━━━━━━━━━━━━━━━━━━━━━━━━━\u001b[0m \u001b[32m1.3/1.3 MB\u001b[0m \u001b[31m27.4 MB/s\u001b[0m eta \u001b[36m0:00:00\u001b[0m\n",
            "\u001b[?25hInstalling collected packages: sentencepiece\n",
            "Successfully installed sentencepiece-0.1.97\n",
            "\u001b[33mWARNING: Running pip as the 'root' user can result in broken permissions and conflicting behaviour with the system package manager. It is recommended to use a virtual environment instead: https://pip.pypa.io/warnings/venv\u001b[0m\u001b[33m\n",
            "\u001b[0mLooking in indexes: https://pypi.org/simple, https://us-python.pkg.dev/colab-wheels/public/simple/\n",
            "Collecting datasets\n",
            "  Downloading datasets-2.5.1-py3-none-any.whl (431 kB)\n",
            "\u001b[2K     \u001b[90m━━━━━━━━━━━━━━━━━━━━━━━━━━━━━━━━━━━━━━\u001b[0m \u001b[32m431.2/431.2 kB\u001b[0m \u001b[31m14.2 MB/s\u001b[0m eta \u001b[36m0:00:00\u001b[0m\n",
            "\u001b[?25hRequirement already satisfied: importlib-metadata in /usr/local/lib/python3.7/dist-packages (from datasets) (4.12.0)\n",
            "Requirement already satisfied: aiohttp in /usr/local/lib/python3.7/dist-packages (from datasets) (3.8.1)\n",
            "Requirement already satisfied: packaging in /usr/local/lib/python3.7/dist-packages (from datasets) (21.3)\n",
            "Requirement already satisfied: pyarrow>=6.0.0 in /usr/local/lib/python3.7/dist-packages (from datasets) (6.0.1)\n",
            "Collecting huggingface-hub<1.0.0,>=0.1.0\n",
            "  Downloading huggingface_hub-0.9.1-py3-none-any.whl (120 kB)\n",
            "\u001b[2K     \u001b[90m━━━━━━━━━━━━━━━━━━━━━━━━━━━━━━━━━━━━━━\u001b[0m \u001b[32m120.7/120.7 kB\u001b[0m \u001b[31m15.0 MB/s\u001b[0m eta \u001b[36m0:00:00\u001b[0m\n",
            "\u001b[?25hRequirement already satisfied: fsspec[http]>=2021.11.1 in /usr/local/lib/python3.7/dist-packages (from datasets) (2022.8.2)\n",
            "Requirement already satisfied: requests>=2.19.0 in /usr/local/lib/python3.7/dist-packages (from datasets) (2.23.0)\n",
            "Requirement already satisfied: numpy>=1.17 in /usr/local/lib/python3.7/dist-packages (from datasets) (1.21.6)\n",
            "Requirement already satisfied: tqdm>=4.62.1 in /usr/local/lib/python3.7/dist-packages (from datasets) (4.64.1)\n",
            "Requirement already satisfied: dill<0.3.6 in /usr/local/lib/python3.7/dist-packages (from datasets) (0.3.5.1)\n",
            "Collecting responses<0.19\n",
            "  Downloading responses-0.18.0-py3-none-any.whl (38 kB)\n",
            "Collecting multiprocess\n",
            "  Downloading multiprocess-0.70.13-py37-none-any.whl (115 kB)\n",
            "\u001b[2K     \u001b[90m━━━━━━━━━━━━━━━━━━━━━━━━━━━━━━━━━━━━━━━\u001b[0m \u001b[32m115.1/115.1 kB\u001b[0m \u001b[31m1.9 MB/s\u001b[0m eta \u001b[36m0:00:00\u001b[0m\n",
            "\u001b[?25hCollecting xxhash\n",
            "  Downloading xxhash-3.0.0-cp37-cp37m-manylinux_2_17_x86_64.manylinux2014_x86_64.whl (212 kB)\n",
            "\u001b[2K     \u001b[90m━━━━━━━━━━━━━━━━━━━━━━━━━━━━━━━━━━━━━━\u001b[0m \u001b[32m212.2/212.2 kB\u001b[0m \u001b[31m24.3 MB/s\u001b[0m eta \u001b[36m0:00:00\u001b[0m\n",
            "\u001b[?25hRequirement already satisfied: pandas in /usr/local/lib/python3.7/dist-packages (from datasets) (1.3.5)\n",
            "Requirement already satisfied: attrs>=17.3.0 in /usr/local/lib/python3.7/dist-packages (from aiohttp->datasets) (22.1.0)\n",
            "Requirement already satisfied: asynctest==0.13.0 in /usr/local/lib/python3.7/dist-packages (from aiohttp->datasets) (0.13.0)\n",
            "Requirement already satisfied: charset-normalizer<3.0,>=2.0 in /usr/local/lib/python3.7/dist-packages (from aiohttp->datasets) (2.1.1)\n",
            "Requirement already satisfied: yarl<2.0,>=1.0 in /usr/local/lib/python3.7/dist-packages (from aiohttp->datasets) (1.8.1)\n",
            "Requirement already satisfied: typing-extensions>=3.7.4 in /usr/local/lib/python3.7/dist-packages (from aiohttp->datasets) (4.1.1)\n",
            "Requirement already satisfied: frozenlist>=1.1.1 in /usr/local/lib/python3.7/dist-packages (from aiohttp->datasets) (1.3.1)\n",
            "Requirement already satisfied: multidict<7.0,>=4.5 in /usr/local/lib/python3.7/dist-packages (from aiohttp->datasets) (6.0.2)\n",
            "Requirement already satisfied: async-timeout<5.0,>=4.0.0a3 in /usr/local/lib/python3.7/dist-packages (from aiohttp->datasets) (4.0.2)\n",
            "Requirement already satisfied: aiosignal>=1.1.2 in /usr/local/lib/python3.7/dist-packages (from aiohttp->datasets) (1.2.0)\n",
            "Requirement already satisfied: pyyaml>=5.1 in /usr/local/lib/python3.7/dist-packages (from huggingface-hub<1.0.0,>=0.1.0->datasets) (6.0)\n",
            "Requirement already satisfied: filelock in /usr/local/lib/python3.7/dist-packages (from huggingface-hub<1.0.0,>=0.1.0->datasets) (3.8.0)\n",
            "Requirement already satisfied: pyparsing!=3.0.5,>=2.0.2 in /usr/local/lib/python3.7/dist-packages (from packaging->datasets) (3.0.9)\n",
            "Requirement already satisfied: idna<3,>=2.5 in /usr/local/lib/python3.7/dist-packages (from requests>=2.19.0->datasets) (2.10)\n",
            "Requirement already satisfied: certifi>=2017.4.17 in /usr/local/lib/python3.7/dist-packages (from requests>=2.19.0->datasets) (2022.6.15)\n",
            "Requirement already satisfied: urllib3!=1.25.0,!=1.25.1,<1.26,>=1.21.1 in /usr/local/lib/python3.7/dist-packages (from requests>=2.19.0->datasets) (1.24.3)\n",
            "Requirement already satisfied: chardet<4,>=3.0.2 in /usr/local/lib/python3.7/dist-packages (from requests>=2.19.0->datasets) (3.0.4)\n",
            "Collecting urllib3!=1.25.0,!=1.25.1,<1.26,>=1.21.1\n",
            "  Downloading urllib3-1.25.11-py2.py3-none-any.whl (127 kB)\n",
            "\u001b[2K     \u001b[90m━━━━━━━━━━━━━━━━━━━━━━━━━━━━━━━━━━━━━━\u001b[0m \u001b[32m128.0/128.0 kB\u001b[0m \u001b[31m17.8 MB/s\u001b[0m eta \u001b[36m0:00:00\u001b[0m\n",
            "\u001b[?25hRequirement already satisfied: zipp>=0.5 in /usr/local/lib/python3.7/dist-packages (from importlib-metadata->datasets) (3.8.1)\n",
            "Requirement already satisfied: python-dateutil>=2.7.3 in /usr/local/lib/python3.7/dist-packages (from pandas->datasets) (2.8.2)\n",
            "Requirement already satisfied: pytz>=2017.3 in /usr/local/lib/python3.7/dist-packages (from pandas->datasets) (2022.2.1)\n",
            "Requirement already satisfied: six>=1.5 in /usr/local/lib/python3.7/dist-packages (from python-dateutil>=2.7.3->pandas->datasets) (1.15.0)\n",
            "Installing collected packages: xxhash, urllib3, multiprocess, responses, huggingface-hub, datasets\n",
            "  Attempting uninstall: urllib3\n",
            "    Found existing installation: urllib3 1.24.3\n",
            "    Uninstalling urllib3-1.24.3:\n",
            "      Successfully uninstalled urllib3-1.24.3\n",
            "Successfully installed datasets-2.5.1 huggingface-hub-0.9.1 multiprocess-0.70.13 responses-0.18.0 urllib3-1.25.11 xxhash-3.0.0\n",
            "\u001b[33mWARNING: Running pip as the 'root' user can result in broken permissions and conflicting behaviour with the system package manager. It is recommended to use a virtual environment instead: https://pip.pypa.io/warnings/venv\u001b[0m\u001b[33m\n",
            "\u001b[0mLooking in indexes: https://pypi.org/simple, https://us-python.pkg.dev/colab-wheels/public/simple/\n",
            "Collecting transformers\n",
            "  Downloading transformers-4.22.1-py3-none-any.whl (4.9 MB)\n",
            "\u001b[2K     \u001b[90m━━━━━━━━━━━━━━━━━━━━━━━━━━━━━━━━━━━━━━━━\u001b[0m \u001b[32m4.9/4.9 MB\u001b[0m \u001b[31m52.1 MB/s\u001b[0m eta \u001b[36m0:00:00\u001b[0m\n",
            "\u001b[?25hRequirement already satisfied: packaging>=20.0 in /usr/local/lib/python3.7/dist-packages (from transformers) (21.3)\n",
            "Requirement already satisfied: requests in /usr/local/lib/python3.7/dist-packages (from transformers) (2.23.0)\n",
            "Requirement already satisfied: tqdm>=4.27 in /usr/local/lib/python3.7/dist-packages (from transformers) (4.64.1)\n",
            "Requirement already satisfied: huggingface-hub<1.0,>=0.9.0 in /usr/local/lib/python3.7/dist-packages (from transformers) (0.9.1)\n",
            "Requirement already satisfied: importlib-metadata in /usr/local/lib/python3.7/dist-packages (from transformers) (4.12.0)\n",
            "Requirement already satisfied: filelock in /usr/local/lib/python3.7/dist-packages (from transformers) (3.8.0)\n",
            "Requirement already satisfied: regex!=2019.12.17 in /usr/local/lib/python3.7/dist-packages (from transformers) (2022.6.2)\n",
            "Requirement already satisfied: numpy>=1.17 in /usr/local/lib/python3.7/dist-packages (from transformers) (1.21.6)\n",
            "Requirement already satisfied: pyyaml>=5.1 in /usr/local/lib/python3.7/dist-packages (from transformers) (6.0)\n",
            "Collecting tokenizers!=0.11.3,<0.13,>=0.11.1\n",
            "  Downloading tokenizers-0.12.1-cp37-cp37m-manylinux_2_12_x86_64.manylinux2010_x86_64.whl (6.6 MB)\n",
            "\u001b[2K     \u001b[90m━━━━━━━━━━━━━━━━━━━━━━━━━━━━━━━━━━━━━━━━\u001b[0m \u001b[32m6.6/6.6 MB\u001b[0m \u001b[31m77.8 MB/s\u001b[0m eta \u001b[36m0:00:00\u001b[0m\n",
            "\u001b[?25hRequirement already satisfied: typing-extensions>=3.7.4.3 in /usr/local/lib/python3.7/dist-packages (from huggingface-hub<1.0,>=0.9.0->transformers) (4.1.1)\n",
            "Requirement already satisfied: pyparsing!=3.0.5,>=2.0.2 in /usr/local/lib/python3.7/dist-packages (from packaging>=20.0->transformers) (3.0.9)\n",
            "Requirement already satisfied: zipp>=0.5 in /usr/local/lib/python3.7/dist-packages (from importlib-metadata->transformers) (3.8.1)\n",
            "Requirement already satisfied: chardet<4,>=3.0.2 in /usr/local/lib/python3.7/dist-packages (from requests->transformers) (3.0.4)\n",
            "Requirement already satisfied: idna<3,>=2.5 in /usr/local/lib/python3.7/dist-packages (from requests->transformers) (2.10)\n",
            "Requirement already satisfied: certifi>=2017.4.17 in /usr/local/lib/python3.7/dist-packages (from requests->transformers) (2022.6.15)\n",
            "Requirement already satisfied: urllib3!=1.25.0,!=1.25.1,<1.26,>=1.21.1 in /usr/local/lib/python3.7/dist-packages (from requests->transformers) (1.25.11)\n",
            "Installing collected packages: tokenizers, transformers\n",
            "Successfully installed tokenizers-0.12.1 transformers-4.22.1\n",
            "\u001b[33mWARNING: Running pip as the 'root' user can result in broken permissions and conflicting behaviour with the system package manager. It is recommended to use a virtual environment instead: https://pip.pypa.io/warnings/venv\u001b[0m\u001b[33m\n",
            "\u001b[0m"
          ]
        }
      ],
      "source": [
        "!pip install --upgrade pip\n",
        "!pip install sentencepiece\n",
        "!pip install datasets\n",
        "!pip install transformers"
      ]
    },
    {
      "cell_type": "code",
      "execution_count": 54,
      "metadata": {
        "id": "Y5f1fFbETSbM"
      },
      "outputs": [],
      "source": [
        "from transformers import AutoTokenizer, AutoConfig, AutoModelForSequenceClassification\n",
        "\n",
        "from matplotlib import pyplot as plt\n",
        "from matplotlib.font_manager import FontProperties\n",
        "\n",
        "from scipy.special import softmax\n",
        "from torch.utils.data import DataLoader\n",
        "\n",
        "import numpy as np\n",
        "import pandas as pd"
      ]
    },
    {
      "cell_type": "markdown",
      "metadata": {
        "id": "XWqZ7LGMFeHV"
      },
      "source": [
        "## Load the `CrowdTangle` dataset"
      ]
    },
    {
      "cell_type": "code",
      "execution_count": 4,
      "metadata": {
        "id": "dZ-s12zoL_1Q",
        "colab": {
          "base_uri": "https://localhost:8080/"
        },
        "outputId": "e7e77bcd-1006-4fe6-9d4f-dfdf66c88063"
      },
      "outputs": [
        {
          "output_type": "stream",
          "name": "stdout",
          "text": [
            "Mounted at /content/drive\n"
          ]
        }
      ],
      "source": [
        "from google.colab import drive\n",
        "drive.mount('/content/drive')"
      ]
    },
    {
      "cell_type": "code",
      "source": [
        "df = pd.read_csv (\n",
        "    '/content/drive/My Drive/The-London-Story/CrowdTangle-TLS-workspace/2022-07-11-16-34-58-CEST-Historical-Report-2016-12-31--2022-07-11.csv',\n",
        "    low_memory=False,  \n",
        "    lineterminator='\\n', \n",
        "    sep=';', \n",
        "    error_bad_lines=False)"
      ],
      "metadata": {
        "colab": {
          "base_uri": "https://localhost:8080/"
        },
        "id": "x-ykm1bLqhRO",
        "outputId": "9ec4cb5e-65e6-4f81-c7f5-fd95b7593857"
      },
      "execution_count": 5,
      "outputs": [
        {
          "output_type": "stream",
          "name": "stderr",
          "text": [
            "/usr/local/lib/python3.7/dist-packages/IPython/core/interactiveshell.py:3326: FutureWarning: The error_bad_lines argument has been deprecated and will be removed in a future version.\n",
            "\n",
            "\n",
            "  exec(code_obj, self.user_global_ns, self.user_ns)\n"
          ]
        }
      ]
    },
    {
      "cell_type": "code",
      "source": [
        "df.shape"
      ],
      "metadata": {
        "colab": {
          "base_uri": "https://localhost:8080/"
        },
        "id": "uQbWJhqPqmQP",
        "outputId": "4e244672-7a17-4109-f367-4c5b7ea413d2"
      },
      "execution_count": 6,
      "outputs": [
        {
          "output_type": "execute_result",
          "data": {
            "text/plain": [
              "(604703, 40)"
            ]
          },
          "metadata": {},
          "execution_count": 6
        }
      ]
    },
    {
      "cell_type": "markdown",
      "source": [
        "Because the size of the dataset is too large, let's choose first N values from the dataframe"
      ],
      "metadata": {
        "id": "PH02aXhgqoJl"
      }
    },
    {
      "cell_type": "code",
      "source": [
        "df = df.head(500)"
      ],
      "metadata": {
        "id": "-R37iCUSqqmW"
      },
      "execution_count": 7,
      "outputs": []
    },
    {
      "cell_type": "code",
      "source": [
        "df.columns"
      ],
      "metadata": {
        "colab": {
          "base_uri": "https://localhost:8080/"
        },
        "id": "xkdDMZqKqvK7",
        "outputId": "7c7f14a5-7166-4004-8d08-33dd766214d1"
      },
      "execution_count": 8,
      "outputs": [
        {
          "output_type": "execute_result",
          "data": {
            "text/plain": [
              "Index(['account.name', 'account.handle', 'platformId', 'Page Category',\n",
              "       'Page Admin Top Country', 'Page Description', 'Page Created',\n",
              "       'subscriberCount', 'Followers at Posting', 'date', 'Post Created Date',\n",
              "       'Post Created Time', 'type', 'totalInteraction',\n",
              "       'statistics.actual.likeCount', 'statistics.actual.commentCount',\n",
              "       'statistics.actual.shareCount', 'statistics.actual.loveCount',\n",
              "       'statistics.actual.wowCount', 'statistics.actual.hahaCount',\n",
              "       'statistics.actual.sadCount', 'statistics.actual.angryCount',\n",
              "       'statistics.actual.careCount', 'Video Share Status', 'Is Video Owner?',\n",
              "       'statistics.actual.videoPostViewCount',\n",
              "       'statistics.actual.videoTotalViewCount',\n",
              "       'statistics.actual.videoAllCrosspostsViewCount', 'Video Length',\n",
              "       'postUrl', 'message', 'expandedLinks.original',\n",
              "       'expandedLinks.expanded', 'imageText', 'title', 'description',\n",
              "       'brandedContentSponsor.platformId', 'brandedContentSponsor.name',\n",
              "       'brandedContentSponsor.category', 'score'],\n",
              "      dtype='object')"
            ]
          },
          "metadata": {},
          "execution_count": 8
        }
      ]
    },
    {
      "cell_type": "markdown",
      "source": [
        "## Data preprocessing"
      ],
      "metadata": {
        "id": "SBtNHbPOqzz9"
      }
    },
    {
      "cell_type": "markdown",
      "source": [
        "Replace NaN values in particular columns with empty string"
      ],
      "metadata": {
        "id": "UzlAZ2FtrFab"
      }
    },
    {
      "cell_type": "code",
      "source": [
        "df.message = df.message.fillna('')\n",
        "df.description = df.description.fillna('')\n",
        "df.imageText = df.imageText.fillna('')"
      ],
      "metadata": {
        "id": "VF_hTSmRrGRR"
      },
      "execution_count": 9,
      "outputs": []
    },
    {
      "cell_type": "markdown",
      "source": [
        "Extract particular columns and convert into lists"
      ],
      "metadata": {
        "id": "f1GJoq_B9wW3"
      }
    },
    {
      "cell_type": "code",
      "source": [
        "message_list = df ['message'].tolist()\n",
        "imageText_list = df ['imageText'].tolist()\n",
        "\n",
        "print (\"Total number of entries in the dataset:\", len(message_list))"
      ],
      "metadata": {
        "colab": {
          "base_uri": "https://localhost:8080/"
        },
        "id": "do3WSEobrK1I",
        "outputId": "01ba11c9-f85f-4fc7-82b5-44175c9391aa"
      },
      "execution_count": 10,
      "outputs": [
        {
          "output_type": "stream",
          "name": "stdout",
          "text": [
            "Total number of entries in the dataset: 500\n"
          ]
        }
      ]
    },
    {
      "cell_type": "markdown",
      "metadata": {
        "id": "LM0f-PnLV8kR"
      },
      "source": [
        "## Load the sentiment analysis model and the tokenizer\n"
      ]
    },
    {
      "cell_type": "markdown",
      "metadata": {
        "id": "QF5Lmm-VyVW4"
      },
      "source": [
        "Define parameters"
      ]
    },
    {
      "cell_type": "code",
      "execution_count": 11,
      "metadata": {
        "id": "4sRwYU_UWU2d"
      },
      "outputs": [],
      "source": [
        "CUDA = True # set to true if using GPU (Runtime -> Change runtime Type -> GPU)\n",
        "\n",
        "BATCH_SIZE = 32\n",
        "\n",
        "n_labels = 3\n",
        "\n",
        "labels_ids = {'negative': 0, 'neutral': 1, 'positive':2}\n",
        "\n",
        "max_length = 312\n",
        "\n",
        "MODEL = \"cardiffnlp/twitter-xlm-roberta-base-sentiment\""
      ]
    },
    {
      "cell_type": "markdown",
      "source": [
        "Load the model and the tokenizer"
      ],
      "metadata": {
        "id": "tVqd_hQVJ_6O"
      }
    },
    {
      "cell_type": "code",
      "execution_count": 14,
      "metadata": {
        "id": "RhvpuzKtXVu4",
        "colab": {
          "base_uri": "https://localhost:8080/",
          "height": 49,
          "referenced_widgets": [
            "920ea1ec6bba40f29e09d609f775c64a",
            "a4e39a2c1898462ab3694e633d88571b",
            "bb536b87559f48238e76a4f159c9163f",
            "b9208fe1a5864af3a846cb65e40421d5",
            "8e91d215156847e3a8fac0e02401a138",
            "437ee94ce67e40eda6451c3690440372",
            "21df9f8c5b8b4383a95d26f1c8575ab1",
            "7506dffd9b7e4374a73fd5312d921cad",
            "b1d3e05eaf274faba7245e03fb311357",
            "20d01c22f5034378afaf75e8d15bb718",
            "e15a30a7ca3345c78da867106d5bf35d"
          ]
        },
        "outputId": "d026c492-bca5-45d7-c71e-9f013430f671"
      },
      "outputs": [
        {
          "output_type": "display_data",
          "data": {
            "text/plain": [
              "Downloading:   0%|          | 0.00/1.11G [00:00<?, ?B/s]"
            ],
            "application/vnd.jupyter.widget-view+json": {
              "version_major": 2,
              "version_minor": 0,
              "model_id": "920ea1ec6bba40f29e09d609f775c64a"
            }
          },
          "metadata": {}
        }
      ],
      "source": [
        "tokenizer = AutoTokenizer.from_pretrained(MODEL, use_fast=True)\n",
        "\n",
        "config = AutoConfig.from_pretrained(MODEL) # used for id to label name (optional)\n",
        "\n",
        "model = AutoModelForSequenceClassification.from_pretrained(MODEL)\n",
        "\n",
        "if CUDA:\n",
        "  model = model.to('cuda')\n",
        "_ = model.eval()"
      ]
    },
    {
      "cell_type": "markdown",
      "source": [
        "## Define the forward prediction functions"
      ],
      "metadata": {
        "id": "2yOoZ-NHB3WW"
      }
    },
    {
      "cell_type": "code",
      "source": [
        "def forward (text, cuda=True):\n",
        "  encoded_input = tokenizer(text, return_tensors='pt', padding=True, truncation=True, max_length = max_length)\n",
        "  if cuda:\n",
        "    encoded_input.to('cuda')\n",
        "    output = model(**encoded_input)\n",
        "    scores = output[0].detach().cpu().numpy()\n",
        "  else:\n",
        "    output = model(**encoded_input)\n",
        "    scores = output[0].detach().numpy()\n",
        "  \n",
        "  scores = softmax(scores, axis=-1)\n",
        "  return scores"
      ],
      "metadata": {
        "id": "VgwQnVha37uL"
      },
      "execution_count": 25,
      "outputs": []
    },
    {
      "cell_type": "code",
      "source": [
        "def sentiment_pred_score (data_list):\n",
        "  dl = DataLoader(data_list, batch_size=BATCH_SIZE)\n",
        "  sentiment_pred = []\n",
        "\n",
        "  for idx, batch in enumerate(dl):\n",
        "    print('Batch ',idx+1,' of ', len(dl))\n",
        "\n",
        "    if (batch != ''):\n",
        "      scores = forward(batch, cuda=CUDA)\n",
        "      preds = np.argmax(scores, axis=-1)\n",
        "    else:\n",
        "      preds = 1\n",
        "    sentiment_pred.extend(preds)\n",
        "  \n",
        "  return sentiment_pred"
      ],
      "metadata": {
        "id": "1JaK7jX8-vK4"
      },
      "execution_count": 29,
      "outputs": []
    },
    {
      "cell_type": "markdown",
      "source": [
        "## Run sentiment prediction task on the dataset(s) and save the results"
      ],
      "metadata": {
        "id": "HoW8qBfXvJcp"
      }
    },
    {
      "cell_type": "code",
      "source": [
        "message_sentiment_score = sentiment_pred_score (message_list)"
      ],
      "metadata": {
        "colab": {
          "base_uri": "https://localhost:8080/"
        },
        "id": "MrUJoWFA465G",
        "outputId": "66586320-dd68-4949-ca76-6bf3e542c696"
      },
      "execution_count": 30,
      "outputs": [
        {
          "output_type": "stream",
          "name": "stdout",
          "text": [
            "Batch  1  of  16\n",
            "Batch  2  of  16\n",
            "Batch  3  of  16\n",
            "Batch  4  of  16\n",
            "Batch  5  of  16\n",
            "Batch  6  of  16\n",
            "Batch  7  of  16\n",
            "Batch  8  of  16\n",
            "Batch  9  of  16\n",
            "Batch  10  of  16\n",
            "Batch  11  of  16\n",
            "Batch  12  of  16\n",
            "Batch  13  of  16\n",
            "Batch  14  of  16\n",
            "Batch  15  of  16\n",
            "Batch  16  of  16\n"
          ]
        }
      ]
    },
    {
      "cell_type": "code",
      "source": [
        "imageText_sentiment_score = sentiment_pred_score (imageText_list)"
      ],
      "metadata": {
        "colab": {
          "base_uri": "https://localhost:8080/"
        },
        "id": "mC7O7yw9Ikz8",
        "outputId": "d5c8abe4-4ba6-4694-ce6a-34077774cf9c"
      },
      "execution_count": 59,
      "outputs": [
        {
          "output_type": "stream",
          "name": "stdout",
          "text": [
            "Batch  1  of  16\n",
            "Batch  2  of  16\n",
            "Batch  3  of  16\n",
            "Batch  4  of  16\n",
            "Batch  5  of  16\n",
            "Batch  6  of  16\n",
            "Batch  7  of  16\n",
            "Batch  8  of  16\n",
            "Batch  9  of  16\n",
            "Batch  10  of  16\n",
            "Batch  11  of  16\n",
            "Batch  12  of  16\n",
            "Batch  13  of  16\n",
            "Batch  14  of  16\n",
            "Batch  15  of  16\n",
            "Batch  16  of  16\n"
          ]
        }
      ]
    },
    {
      "cell_type": "markdown",
      "source": [
        "Append the prediction scores to the original pandas dataframe"
      ],
      "metadata": {
        "id": "EIyYNT3AB0aZ"
      }
    },
    {
      "cell_type": "code",
      "source": [
        "df ['messageSentiment.score'] = message_sentiment_score\n",
        "df ['imageTextSentiment.score'] = imageText_sentiment_score"
      ],
      "metadata": {
        "id": "gEVp5nbiB5UC"
      },
      "execution_count": 60,
      "outputs": []
    },
    {
      "cell_type": "code",
      "source": [
        "df.head()"
      ],
      "metadata": {
        "colab": {
          "base_uri": "https://localhost:8080/",
          "height": 739
        },
        "id": "XKzQW-IKCF13",
        "outputId": "db40d3a9-997c-4534-df10-989eb33e9e7e"
      },
      "execution_count": 61,
      "outputs": [
        {
          "output_type": "execute_result",
          "data": {
            "text/plain": [
              "                       account.name           account.handle       platformId  \\\n",
              "0                      Bajrangi Dal        BajrangDalKolkata  354861651263021   \n",
              "1                  True Nationalist  TrueNationalistOfficial  623564924746688   \n",
              "2  Pushpendra Kulshrestha Fans Club            Pushpendrarss  313739616231431   \n",
              "3                  True Nationalist  TrueNationalistOfficial  623564924746688   \n",
              "4  Pushpendra Kulshrestha Fans Club            Pushpendrarss  313739616231431   \n",
              "\n",
              "            Page Category Page Admin Top Country  \\\n",
              "0  RELIGIOUS_ORGANIZATION                     IN   \n",
              "1                   LOCAL                     IN   \n",
              "2        ACTIVITY_GENERAL                     IN   \n",
              "3                   LOCAL                     IN   \n",
              "4        ACTIVITY_GENERAL                     IN   \n",
              "\n",
              "                                    Page Description         Page Created  \\\n",
              "0   अपने और अपनोँ के सुरक्षित भविष्य हेतु बँगाली ...  2012-09-12 10:38:05   \n",
              "1  हिन्दू धर्म से संबंधित वीडियो के लिए हमारे पेज...  2019-03-09 08:12:47   \n",
              "2  पेज से जुड़ने के लिए आपका धन्यवाद, आशा करते है ...  2019-06-07 08:59:33   \n",
              "3  हिन्दू धर्म से संबंधित वीडियो के लिए हमारे पेज...  2019-03-09 08:12:47   \n",
              "4  पेज से जुड़ने के लिए आपका धन्यवाद, आशा करते है ...  2019-06-07 08:59:33   \n",
              "\n",
              "   subscriberCount  Followers at Posting                      date  ...  \\\n",
              "0          35222.0               41363.0  2022-07-11 13:08:35 CEST  ...   \n",
              "1         275031.0              555551.0  2022-07-11 12:41:07 CEST  ...   \n",
              "2         445145.0              848530.0  2022-07-11 12:38:52 CEST  ...   \n",
              "3         275063.0              555595.0  2022-07-11 12:09:08 CEST  ...   \n",
              "4         445145.0              848530.0  2022-07-11 12:06:36 CEST  ...   \n",
              "\n",
              "  expandedLinks.expanded imageText  \\\n",
              "0                    NaN             \n",
              "1                    NaN             \n",
              "2                    NaN             \n",
              "3                    NaN             \n",
              "4                    NaN             \n",
              "\n",
              "                                               title  \\\n",
              "0                                                NaN   \n",
              "1  अनिल कपूर गुंजी बच्चे की किलकारियां बन गए नाना...   \n",
              "2  अनिल कपूर गुंजी बच्चे की किलकारियां बन गए नाना...   \n",
              "3  पट्रोल-डीजल को लेकर आई खुशखबरी मिल रहा है मात्...   \n",
              "4  पट्रोल-डीजल को लेकर आई खुशखबरी मिल रहा है मात्...   \n",
              "\n",
              "                                         description  \\\n",
              "0                                                      \n",
              "1  बॉलीवुड के मशहूर अभिनेता अनिल कपूर एक ऐसे अभिन...   \n",
              "2  बॉलीवुड के मशहूर अभिनेता अनिल कपूर एक ऐसे अभिन...   \n",
              "3  पेट्रोलियम कंपनियों ने रोज की तरह आज सुबह 6 बज...   \n",
              "4  पेट्रोलियम कंपनियों ने रोज की तरह आज सुबह 6 बज...   \n",
              "\n",
              "   brandedContentSponsor.platformId  brandedContentSponsor.name  \\\n",
              "0                               NaN                         NaN   \n",
              "1                               NaN                         NaN   \n",
              "2                               NaN                         NaN   \n",
              "3                               NaN                         NaN   \n",
              "4                               NaN                         NaN   \n",
              "\n",
              "   brandedContentSponsor.category  score  messageSentiment.score  \\\n",
              "0                             NaN  -2.82                       1   \n",
              "1                             NaN  -0.64                       2   \n",
              "2                             NaN   1.37                       2   \n",
              "3                             NaN  -0.71                       2   \n",
              "4                             NaN   1.53                       2   \n",
              "\n",
              "   imageTextSentiment.score  \n",
              "0                         0  \n",
              "1                         0  \n",
              "2                         0  \n",
              "3                         0  \n",
              "4                         0  \n",
              "\n",
              "[5 rows x 42 columns]"
            ],
            "text/html": [
              "\n",
              "  <div id=\"df-339c0415-c518-4db8-8bbc-3b2ef0147452\">\n",
              "    <div class=\"colab-df-container\">\n",
              "      <div>\n",
              "<style scoped>\n",
              "    .dataframe tbody tr th:only-of-type {\n",
              "        vertical-align: middle;\n",
              "    }\n",
              "\n",
              "    .dataframe tbody tr th {\n",
              "        vertical-align: top;\n",
              "    }\n",
              "\n",
              "    .dataframe thead th {\n",
              "        text-align: right;\n",
              "    }\n",
              "</style>\n",
              "<table border=\"1\" class=\"dataframe\">\n",
              "  <thead>\n",
              "    <tr style=\"text-align: right;\">\n",
              "      <th></th>\n",
              "      <th>account.name</th>\n",
              "      <th>account.handle</th>\n",
              "      <th>platformId</th>\n",
              "      <th>Page Category</th>\n",
              "      <th>Page Admin Top Country</th>\n",
              "      <th>Page Description</th>\n",
              "      <th>Page Created</th>\n",
              "      <th>subscriberCount</th>\n",
              "      <th>Followers at Posting</th>\n",
              "      <th>date</th>\n",
              "      <th>...</th>\n",
              "      <th>expandedLinks.expanded</th>\n",
              "      <th>imageText</th>\n",
              "      <th>title</th>\n",
              "      <th>description</th>\n",
              "      <th>brandedContentSponsor.platformId</th>\n",
              "      <th>brandedContentSponsor.name</th>\n",
              "      <th>brandedContentSponsor.category</th>\n",
              "      <th>score</th>\n",
              "      <th>messageSentiment.score</th>\n",
              "      <th>imageTextSentiment.score</th>\n",
              "    </tr>\n",
              "  </thead>\n",
              "  <tbody>\n",
              "    <tr>\n",
              "      <th>0</th>\n",
              "      <td>Bajrangi Dal</td>\n",
              "      <td>BajrangDalKolkata</td>\n",
              "      <td>354861651263021</td>\n",
              "      <td>RELIGIOUS_ORGANIZATION</td>\n",
              "      <td>IN</td>\n",
              "      <td>अपने और अपनोँ के सुरक्षित भविष्य हेतु बँगाली ...</td>\n",
              "      <td>2012-09-12 10:38:05</td>\n",
              "      <td>35222.0</td>\n",
              "      <td>41363.0</td>\n",
              "      <td>2022-07-11 13:08:35 CEST</td>\n",
              "      <td>...</td>\n",
              "      <td>NaN</td>\n",
              "      <td></td>\n",
              "      <td>NaN</td>\n",
              "      <td></td>\n",
              "      <td>NaN</td>\n",
              "      <td>NaN</td>\n",
              "      <td>NaN</td>\n",
              "      <td>-2.82</td>\n",
              "      <td>1</td>\n",
              "      <td>0</td>\n",
              "    </tr>\n",
              "    <tr>\n",
              "      <th>1</th>\n",
              "      <td>True Nationalist</td>\n",
              "      <td>TrueNationalistOfficial</td>\n",
              "      <td>623564924746688</td>\n",
              "      <td>LOCAL</td>\n",
              "      <td>IN</td>\n",
              "      <td>हिन्दू धर्म से संबंधित वीडियो के लिए हमारे पेज...</td>\n",
              "      <td>2019-03-09 08:12:47</td>\n",
              "      <td>275031.0</td>\n",
              "      <td>555551.0</td>\n",
              "      <td>2022-07-11 12:41:07 CEST</td>\n",
              "      <td>...</td>\n",
              "      <td>NaN</td>\n",
              "      <td></td>\n",
              "      <td>अनिल कपूर गुंजी बच्चे की किलकारियां बन गए नाना...</td>\n",
              "      <td>बॉलीवुड के मशहूर अभिनेता अनिल कपूर एक ऐसे अभिन...</td>\n",
              "      <td>NaN</td>\n",
              "      <td>NaN</td>\n",
              "      <td>NaN</td>\n",
              "      <td>-0.64</td>\n",
              "      <td>2</td>\n",
              "      <td>0</td>\n",
              "    </tr>\n",
              "    <tr>\n",
              "      <th>2</th>\n",
              "      <td>Pushpendra Kulshrestha Fans Club</td>\n",
              "      <td>Pushpendrarss</td>\n",
              "      <td>313739616231431</td>\n",
              "      <td>ACTIVITY_GENERAL</td>\n",
              "      <td>IN</td>\n",
              "      <td>पेज से जुड़ने के लिए आपका धन्यवाद, आशा करते है ...</td>\n",
              "      <td>2019-06-07 08:59:33</td>\n",
              "      <td>445145.0</td>\n",
              "      <td>848530.0</td>\n",
              "      <td>2022-07-11 12:38:52 CEST</td>\n",
              "      <td>...</td>\n",
              "      <td>NaN</td>\n",
              "      <td></td>\n",
              "      <td>अनिल कपूर गुंजी बच्चे की किलकारियां बन गए नाना...</td>\n",
              "      <td>बॉलीवुड के मशहूर अभिनेता अनिल कपूर एक ऐसे अभिन...</td>\n",
              "      <td>NaN</td>\n",
              "      <td>NaN</td>\n",
              "      <td>NaN</td>\n",
              "      <td>1.37</td>\n",
              "      <td>2</td>\n",
              "      <td>0</td>\n",
              "    </tr>\n",
              "    <tr>\n",
              "      <th>3</th>\n",
              "      <td>True Nationalist</td>\n",
              "      <td>TrueNationalistOfficial</td>\n",
              "      <td>623564924746688</td>\n",
              "      <td>LOCAL</td>\n",
              "      <td>IN</td>\n",
              "      <td>हिन्दू धर्म से संबंधित वीडियो के लिए हमारे पेज...</td>\n",
              "      <td>2019-03-09 08:12:47</td>\n",
              "      <td>275063.0</td>\n",
              "      <td>555595.0</td>\n",
              "      <td>2022-07-11 12:09:08 CEST</td>\n",
              "      <td>...</td>\n",
              "      <td>NaN</td>\n",
              "      <td></td>\n",
              "      <td>पट्रोल-डीजल को लेकर आई खुशखबरी मिल रहा है मात्...</td>\n",
              "      <td>पेट्रोलियम कंपनियों ने रोज की तरह आज सुबह 6 बज...</td>\n",
              "      <td>NaN</td>\n",
              "      <td>NaN</td>\n",
              "      <td>NaN</td>\n",
              "      <td>-0.71</td>\n",
              "      <td>2</td>\n",
              "      <td>0</td>\n",
              "    </tr>\n",
              "    <tr>\n",
              "      <th>4</th>\n",
              "      <td>Pushpendra Kulshrestha Fans Club</td>\n",
              "      <td>Pushpendrarss</td>\n",
              "      <td>313739616231431</td>\n",
              "      <td>ACTIVITY_GENERAL</td>\n",
              "      <td>IN</td>\n",
              "      <td>पेज से जुड़ने के लिए आपका धन्यवाद, आशा करते है ...</td>\n",
              "      <td>2019-06-07 08:59:33</td>\n",
              "      <td>445145.0</td>\n",
              "      <td>848530.0</td>\n",
              "      <td>2022-07-11 12:06:36 CEST</td>\n",
              "      <td>...</td>\n",
              "      <td>NaN</td>\n",
              "      <td></td>\n",
              "      <td>पट्रोल-डीजल को लेकर आई खुशखबरी मिल रहा है मात्...</td>\n",
              "      <td>पेट्रोलियम कंपनियों ने रोज की तरह आज सुबह 6 बज...</td>\n",
              "      <td>NaN</td>\n",
              "      <td>NaN</td>\n",
              "      <td>NaN</td>\n",
              "      <td>1.53</td>\n",
              "      <td>2</td>\n",
              "      <td>0</td>\n",
              "    </tr>\n",
              "  </tbody>\n",
              "</table>\n",
              "<p>5 rows × 42 columns</p>\n",
              "</div>\n",
              "      <button class=\"colab-df-convert\" onclick=\"convertToInteractive('df-339c0415-c518-4db8-8bbc-3b2ef0147452')\"\n",
              "              title=\"Convert this dataframe to an interactive table.\"\n",
              "              style=\"display:none;\">\n",
              "        \n",
              "  <svg xmlns=\"http://www.w3.org/2000/svg\" height=\"24px\"viewBox=\"0 0 24 24\"\n",
              "       width=\"24px\">\n",
              "    <path d=\"M0 0h24v24H0V0z\" fill=\"none\"/>\n",
              "    <path d=\"M18.56 5.44l.94 2.06.94-2.06 2.06-.94-2.06-.94-.94-2.06-.94 2.06-2.06.94zm-11 1L8.5 8.5l.94-2.06 2.06-.94-2.06-.94L8.5 2.5l-.94 2.06-2.06.94zm10 10l.94 2.06.94-2.06 2.06-.94-2.06-.94-.94-2.06-.94 2.06-2.06.94z\"/><path d=\"M17.41 7.96l-1.37-1.37c-.4-.4-.92-.59-1.43-.59-.52 0-1.04.2-1.43.59L10.3 9.45l-7.72 7.72c-.78.78-.78 2.05 0 2.83L4 21.41c.39.39.9.59 1.41.59.51 0 1.02-.2 1.41-.59l7.78-7.78 2.81-2.81c.8-.78.8-2.07 0-2.86zM5.41 20L4 18.59l7.72-7.72 1.47 1.35L5.41 20z\"/>\n",
              "  </svg>\n",
              "      </button>\n",
              "      \n",
              "  <style>\n",
              "    .colab-df-container {\n",
              "      display:flex;\n",
              "      flex-wrap:wrap;\n",
              "      gap: 12px;\n",
              "    }\n",
              "\n",
              "    .colab-df-convert {\n",
              "      background-color: #E8F0FE;\n",
              "      border: none;\n",
              "      border-radius: 50%;\n",
              "      cursor: pointer;\n",
              "      display: none;\n",
              "      fill: #1967D2;\n",
              "      height: 32px;\n",
              "      padding: 0 0 0 0;\n",
              "      width: 32px;\n",
              "    }\n",
              "\n",
              "    .colab-df-convert:hover {\n",
              "      background-color: #E2EBFA;\n",
              "      box-shadow: 0px 1px 2px rgba(60, 64, 67, 0.3), 0px 1px 3px 1px rgba(60, 64, 67, 0.15);\n",
              "      fill: #174EA6;\n",
              "    }\n",
              "\n",
              "    [theme=dark] .colab-df-convert {\n",
              "      background-color: #3B4455;\n",
              "      fill: #D2E3FC;\n",
              "    }\n",
              "\n",
              "    [theme=dark] .colab-df-convert:hover {\n",
              "      background-color: #434B5C;\n",
              "      box-shadow: 0px 1px 3px 1px rgba(0, 0, 0, 0.15);\n",
              "      filter: drop-shadow(0px 1px 2px rgba(0, 0, 0, 0.3));\n",
              "      fill: #FFFFFF;\n",
              "    }\n",
              "  </style>\n",
              "\n",
              "      <script>\n",
              "        const buttonEl =\n",
              "          document.querySelector('#df-339c0415-c518-4db8-8bbc-3b2ef0147452 button.colab-df-convert');\n",
              "        buttonEl.style.display =\n",
              "          google.colab.kernel.accessAllowed ? 'block' : 'none';\n",
              "\n",
              "        async function convertToInteractive(key) {\n",
              "          const element = document.querySelector('#df-339c0415-c518-4db8-8bbc-3b2ef0147452');\n",
              "          const dataTable =\n",
              "            await google.colab.kernel.invokeFunction('convertToInteractive',\n",
              "                                                     [key], {});\n",
              "          if (!dataTable) return;\n",
              "\n",
              "          const docLinkHtml = 'Like what you see? Visit the ' +\n",
              "            '<a target=\"_blank\" href=https://colab.research.google.com/notebooks/data_table.ipynb>data table notebook</a>'\n",
              "            + ' to learn more about interactive tables.';\n",
              "          element.innerHTML = '';\n",
              "          dataTable['output_type'] = 'display_data';\n",
              "          await google.colab.output.renderOutput(dataTable, element);\n",
              "          const docLink = document.createElement('div');\n",
              "          docLink.innerHTML = docLinkHtml;\n",
              "          element.appendChild(docLink);\n",
              "        }\n",
              "      </script>\n",
              "    </div>\n",
              "  </div>\n",
              "  "
            ]
          },
          "metadata": {},
          "execution_count": 61
        }
      ]
    },
    {
      "cell_type": "markdown",
      "source": [
        "Save the dataframe (along with the results)"
      ],
      "metadata": {
        "id": "8Lj55xDhKFXw"
      }
    },
    {
      "cell_type": "code",
      "source": [
        "df.to_csv('/content/drive/MyDrive/CT_sentiment_prediction.csv', index=False)"
      ],
      "metadata": {
        "id": "BQbQHCj2J8Ql"
      },
      "execution_count": 65,
      "outputs": []
    },
    {
      "cell_type": "markdown",
      "source": [
        "## Visualization of the results"
      ],
      "metadata": {
        "id": "6_TDEoVaJRj6"
      }
    },
    {
      "cell_type": "markdown",
      "source": [
        "Histograms of the predicted scores"
      ],
      "metadata": {
        "id": "gUXlf-HfBKOO"
      }
    },
    {
      "cell_type": "code",
      "source": [
        "x = np.arange(n_labels)\n",
        "bins = np.linspace(0, 2, 10)\n",
        "\n",
        "fig, ax = plt.subplots (figsize=(8, 6))\n",
        "plt.title ('Histogram of all the predicted labels (messages)\\n')\n",
        "plt.hist (df ['messageSentiment.score'], bins, label=['label'] )\n",
        "ax.set_ylabel ('Count')\n",
        "ax.set_xticks (x)\n",
        "ax.set_xticklabels (list(labels_ids.keys()))\n",
        "ax.legend (loc='upper right')\n",
        "plt.show ()"
      ],
      "metadata": {
        "colab": {
          "base_uri": "https://localhost:8080/",
          "height": 405
        },
        "id": "fKxEXoxOBM7M",
        "outputId": "bfef84f1-35a1-4190-d51a-eebabf5a7c31"
      },
      "execution_count": 62,
      "outputs": [
        {
          "output_type": "display_data",
          "data": {
            "text/plain": [
              "<Figure size 576x432 with 1 Axes>"
            ],
            "image/png": "[encoded data removed]"
          },
          "metadata": {
            "needs_background": "light"
          }
        }
      ]
    },
    {
      "cell_type": "code",
      "source": [
        "x = np.arange(n_labels)\n",
        "bins = np.linspace(0, 2, 10)\n",
        "\n",
        "fig, ax = plt.subplots (figsize=(8, 6))\n",
        "plt.title ('Histogram of all the predicted labels (image texts)\\n')\n",
        "plt.hist (df ['imageTextSentiment.score'], bins, label=['label'] )\n",
        "ax.set_ylabel ('Count')\n",
        "ax.set_xticks (x)\n",
        "ax.set_xticklabels (list(labels_ids.keys()))\n",
        "ax.legend (loc='upper right')\n",
        "plt.show ()"
      ],
      "metadata": {
        "colab": {
          "base_uri": "https://localhost:8080/",
          "height": 405
        },
        "id": "8r3LZGXXJGs0",
        "outputId": "403acf7a-b362-49da-cfed-fb8b28ef121b"
      },
      "execution_count": 63,
      "outputs": [
        {
          "output_type": "display_data",
          "data": {
            "text/plain": [
              "<Figure size 576x432 with 1 Axes>"
            ],
            "image/png": "[encoded data removed]"
          },
          "metadata": {
            "needs_background": "light"
          }
        }
      ]
    },
    {
      "cell_type": "markdown",
      "source": [
        "Bar plot of top actors"
      ],
      "metadata": {
        "id": "QgGoef2RKYBw"
      }
    },
    {
      "cell_type": "code",
      "source": [
        "plt.figure(figsize=(7,5),dpi=100)\n",
        "\n",
        "negative_sentiment = df [df['messageSentiment.score'] == 0]\n",
        "negative_sentiment ['account.name'].value_counts()[:10].plot(kind='bar')\n",
        "\n",
        "# Customize matplotlib\n",
        "hindi_font = FontProperties(fname = '/content/drive/MyDrive/The-London-Story/Nirmala.ttf')\n",
        "\n",
        "plt.xticks(fontproperties=hindi_font)\n",
        "\n",
        "plt.title('Top accounts with negative sentiment (messages)')\n",
        "plt.ylabel('count')\n",
        "\n",
        "plt.show()"
      ],
      "metadata": {
        "colab": {
          "base_uri": "https://localhost:8080/",
          "height": 659
        },
        "id": "x-DPjVKJC2fD",
        "outputId": "9883f5bf-036a-41c8-b582-46525d8a710b"
      },
      "execution_count": 66,
      "outputs": [
        {
          "output_type": "display_data",
          "data": {
            "text/plain": [
              "<Figure size 700x500 with 1 Axes>"
            ],
            "image/png": "[encoded data removed]"
          },
          "metadata": {
            "needs_background": "light"
          }
        }
      ]
    },
    {
      "cell_type": "code",
      "source": [
        "plt.figure(figsize=(7,5),dpi=100)\n",
        "\n",
        "negative_sentiment = df [df['imageTextSentiment.score'] == 0]\n",
        "negative_sentiment ['account.name'].value_counts()[:10].plot(kind='bar')\n",
        "\n",
        "# Customize matplotlib\n",
        "hindi_font = FontProperties(fname = '/content/drive/MyDrive/The-London-Story/Nirmala.ttf')\n",
        "\n",
        "plt.xticks(fontproperties=hindi_font)\n",
        "\n",
        "plt.title('Top accounts with negative sentiment (image texts)')\n",
        "plt.ylabel('count')\n",
        "\n",
        "plt.show()"
      ],
      "metadata": {
        "colab": {
          "base_uri": "https://localhost:8080/",
          "height": 656
        },
        "id": "F_RgBy1bJmuE",
        "outputId": "9fec21b5-14bb-46cf-fbf5-42c31687bf3c"
      },
      "execution_count": 64,
      "outputs": [
        {
          "output_type": "display_data",
          "data": {
            "text/plain": [
              "<Figure size 700x500 with 1 Axes>"
            ],
            "image/png": "[encoded data removed]"
          },
          "metadata": {
            "needs_background": "light"
          }
        }
      ]
    }
  ],
  "metadata": {
    "accelerator": "GPU",
    "colab": {
      "collapsed_sections": [],
      "provenance": []
    },
    "kernelspec": {
      "display_name": "Python 3",
      "name": "python3"
    },
    "language_info": {
      "name": "python"
    },
    "widgets": {
      "application/vnd.jupyter.widget-state+json": {
        "920ea1ec6bba40f29e09d609f775c64a": {
          "model_module": "@jupyter-widgets/controls",
          "model_name": "HBoxModel",
          "model_module_version": "1.5.0",
          "state": {
            "_dom_classes": [],
            "_model_module": "@jupyter-widgets/controls",
            "_model_module_version": "1.5.0",
            "_model_name": "HBoxModel",
            "_view_count": null,
            "_view_module": "@jupyter-widgets/controls",
            "_view_module_version": "1.5.0",
            "_view_name": "HBoxView",
            "box_style": "",
            "children": [
              "IPY_MODEL_a4e39a2c1898462ab3694e633d88571b",
              "IPY_MODEL_bb536b87559f48238e76a4f159c9163f",
              "IPY_MODEL_b9208fe1a5864af3a846cb65e40421d5"
            ],
            "layout": "IPY_MODEL_8e91d215156847e3a8fac0e02401a138"
          }
        },
        "a4e39a2c1898462ab3694e633d88571b": {
          "model_module": "@jupyter-widgets/controls",
          "model_name": "HTMLModel",
          "model_module_version": "1.5.0",
          "state": {
            "_dom_classes": [],
            "_model_module": "@jupyter-widgets/controls",
            "_model_module_version": "1.5.0",
            "_model_name": "HTMLModel",
            "_view_count": null,
            "_view_module": "@jupyter-widgets/controls",
            "_view_module_version": "1.5.0",
            "_view_name": "HTMLView",
            "description": "",
            "description_tooltip": null,
            "layout": "IPY_MODEL_437ee94ce67e40eda6451c3690440372",
            "placeholder": "​",
            "style": "IPY_MODEL_21df9f8c5b8b4383a95d26f1c8575ab1",
            "value": "Downloading: 100%"
          }
        },
        "bb536b87559f48238e76a4f159c9163f": {
          "model_module": "@jupyter-widgets/controls",
          "model_name": "FloatProgressModel",
          "model_module_version": "1.5.0",
          "state": {
            "_dom_classes": [],
            "_model_module": "@jupyter-widgets/controls",
            "_model_module_version": "1.5.0",
            "_model_name": "FloatProgressModel",
            "_view_count": null,
            "_view_module": "@jupyter-widgets/controls",
            "_view_module_version": "1.5.0",
            "_view_name": "ProgressView",
            "bar_style": "success",
            "description": "",
            "description_tooltip": null,
            "layout": "IPY_MODEL_7506dffd9b7e4374a73fd5312d921cad",
            "max": 1112271561,
            "min": 0,
            "orientation": "horizontal",
            "style": "IPY_MODEL_b1d3e05eaf274faba7245e03fb311357",
            "value": 1112271561
          }
        },
        "b9208fe1a5864af3a846cb65e40421d5": {
          "model_module": "@jupyter-widgets/controls",
          "model_name": "HTMLModel",
          "model_module_version": "1.5.0",
          "state": {
            "_dom_classes": [],
            "_model_module": "@jupyter-widgets/controls",
            "_model_module_version": "1.5.0",
            "_model_name": "HTMLModel",
            "_view_count": null,
            "_view_module": "@jupyter-widgets/controls",
            "_view_module_version": "1.5.0",
            "_view_name": "HTMLView",
            "description": "",
            "description_tooltip": null,
            "layout": "IPY_MODEL_20d01c22f5034378afaf75e8d15bb718",
            "placeholder": "​",
            "style": "IPY_MODEL_e15a30a7ca3345c78da867106d5bf35d",
            "value": " 1.11G/1.11G [00:19&lt;00:00, 62.9MB/s]"
          }
        },
        "8e91d215156847e3a8fac0e02401a138": {
          "model_module": "@jupyter-widgets/base",
          "model_name": "LayoutModel",
          "model_module_version": "1.2.0",
          "state": {
            "_model_module": "@jupyter-widgets/base",
            "_model_module_version": "1.2.0",
            "_model_name": "LayoutModel",
            "_view_count": null,
            "_view_module": "@jupyter-widgets/base",
            "_view_module_version": "1.2.0",
            "_view_name": "LayoutView",
            "align_content": null,
            "align_items": null,
            "align_self": null,
            "border": null,
            "bottom": null,
            "display": null,
            "flex": null,
            "flex_flow": null,
            "grid_area": null,
            "grid_auto_columns": null,
            "grid_auto_flow": null,
            "grid_auto_rows": null,
            "grid_column": null,
            "grid_gap": null,
            "grid_row": null,
            "grid_template_areas": null,
            "grid_template_columns": null,
            "grid_template_rows": null,
            "height": null,
            "justify_content": null,
            "justify_items": null,
            "left": null,
            "margin": null,
            "max_height": null,
            "max_width": null,
            "min_height": null,
            "min_width": null,
            "object_fit": null,
            "object_position": null,
            "order": null,
            "overflow": null,
            "overflow_x": null,
            "overflow_y": null,
            "padding": null,
            "right": null,
            "top": null,
            "visibility": null,
            "width": null
          }
        },
        "437ee94ce67e40eda6451c3690440372": {
          "model_module": "@jupyter-widgets/base",
          "model_name": "LayoutModel",
          "model_module_version": "1.2.0",
          "state": {
            "_model_module": "@jupyter-widgets/base",
            "_model_module_version": "1.2.0",
            "_model_name": "LayoutModel",
            "_view_count": null,
            "_view_module": "@jupyter-widgets/base",
            "_view_module_version": "1.2.0",
            "_view_name": "LayoutView",
            "align_content": null,
            "align_items": null,
            "align_self": null,
            "border": null,
            "bottom": null,
            "display": null,
            "flex": null,
            "flex_flow": null,
            "grid_area": null,
            "grid_auto_columns": null,
            "grid_auto_flow": null,
            "grid_auto_rows": null,
            "grid_column": null,
            "grid_gap": null,
            "grid_row": null,
            "grid_template_areas": null,
            "grid_template_columns": null,
            "grid_template_rows": null,
            "height": null,
            "justify_content": null,
            "justify_items": null,
            "left": null,
            "margin": null,
            "max_height": null,
            "max_width": null,
            "min_height": null,
            "min_width": null,
            "object_fit": null,
            "object_position": null,
            "order": null,
            "overflow": null,
            "overflow_x": null,
            "overflow_y": null,
            "padding": null,
            "right": null,
            "top": null,
            "visibility": null,
            "width": null
          }
        },
        "21df9f8c5b8b4383a95d26f1c8575ab1": {
          "model_module": "@jupyter-widgets/controls",
          "model_name": "DescriptionStyleModel",
          "model_module_version": "1.5.0",
          "state": {
            "_model_module": "@jupyter-widgets/controls",
            "_model_module_version": "1.5.0",
            "_model_name": "DescriptionStyleModel",
            "_view_count": null,
            "_view_module": "@jupyter-widgets/base",
            "_view_module_version": "1.2.0",
            "_view_name": "StyleView",
            "description_width": ""
          }
        },
        "7506dffd9b7e4374a73fd5312d921cad": {
          "model_module": "@jupyter-widgets/base",
          "model_name": "LayoutModel",
          "model_module_version": "1.2.0",
          "state": {
            "_model_module": "@jupyter-widgets/base",
            "_model_module_version": "1.2.0",
            "_model_name": "LayoutModel",
            "_view_count": null,
            "_view_module": "@jupyter-widgets/base",
            "_view_module_version": "1.2.0",
            "_view_name": "LayoutView",
            "align_content": null,
            "align_items": null,
            "align_self": null,
            "border": null,
            "bottom": null,
            "display": null,
            "flex": null,
            "flex_flow": null,
            "grid_area": null,
            "grid_auto_columns": null,
            "grid_auto_flow": null,
            "grid_auto_rows": null,
            "grid_column": null,
            "grid_gap": null,
            "grid_row": null,
            "grid_template_areas": null,
            "grid_template_columns": null,
            "grid_template_rows": null,
            "height": null,
            "justify_content": null,
            "justify_items": null,
            "left": null,
            "margin": null,
            "max_height": null,
            "max_width": null,
            "min_height": null,
            "min_width": null,
            "object_fit": null,
            "object_position": null,
            "order": null,
            "overflow": null,
            "overflow_x": null,
            "overflow_y": null,
            "padding": null,
            "right": null,
            "top": null,
            "visibility": null,
            "width": null
          }
        },
        "b1d3e05eaf274faba7245e03fb311357": {
          "model_module": "@jupyter-widgets/controls",
          "model_name": "ProgressStyleModel",
          "model_module_version": "1.5.0",
          "state": {
            "_model_module": "@jupyter-widgets/controls",
            "_model_module_version": "1.5.0",
            "_model_name": "ProgressStyleModel",
            "_view_count": null,
            "_view_module": "@jupyter-widgets/base",
            "_view_module_version": "1.2.0",
            "_view_name": "StyleView",
            "bar_color": null,
            "description_width": ""
          }
        },
        "20d01c22f5034378afaf75e8d15bb718": {
          "model_module": "@jupyter-widgets/base",
          "model_name": "LayoutModel",
          "model_module_version": "1.2.0",
          "state": {
            "_model_module": "@jupyter-widgets/base",
            "_model_module_version": "1.2.0",
            "_model_name": "LayoutModel",
            "_view_count": null,
            "_view_module": "@jupyter-widgets/base",
            "_view_module_version": "1.2.0",
            "_view_name": "LayoutView",
            "align_content": null,
            "align_items": null,
            "align_self": null,
            "border": null,
            "bottom": null,
            "display": null,
            "flex": null,
            "flex_flow": null,
            "grid_area": null,
            "grid_auto_columns": null,
            "grid_auto_flow": null,
            "grid_auto_rows": null,
            "grid_column": null,
            "grid_gap": null,
            "grid_row": null,
            "grid_template_areas": null,
            "grid_template_columns": null,
            "grid_template_rows": null,
            "height": null,
            "justify_content": null,
            "justify_items": null,
            "left": null,
            "margin": null,
            "max_height": null,
            "max_width": null,
            "min_height": null,
            "min_width": null,
            "object_fit": null,
            "object_position": null,
            "order": null,
            "overflow": null,
            "overflow_x": null,
            "overflow_y": null,
            "padding": null,
            "right": null,
            "top": null,
            "visibility": null,
            "width": null
          }
        },
        "e15a30a7ca3345c78da867106d5bf35d": {
          "model_module": "@jupyter-widgets/controls",
          "model_name": "DescriptionStyleModel",
          "model_module_version": "1.5.0",
          "state": {
            "_model_module": "@jupyter-widgets/controls",
            "_model_module_version": "1.5.0",
            "_model_name": "DescriptionStyleModel",
            "_view_count": null,
            "_view_module": "@jupyter-widgets/base",
            "_view_module_version": "1.2.0",
            "_view_name": "StyleView",
            "description_width": ""
          }
        }
      }
    }
  },
  "nbformat": 4,
  "nbformat_minor": 0
}