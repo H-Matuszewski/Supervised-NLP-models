{
  "nbformat": 4,
  "nbformat_minor": 0,
  "metadata": {
    "colab": {
      "name": "Toxicity-inference-on-CrowdTangle-data-with-Perspective-API.ipynb",
      "provenance": []
    },
    "kernelspec": {
      "name": "python3",
      "display_name": "Python 3"
    },
    "language_info": {
      "name": "python"
    }
  },
  "cells": [
    {
      "cell_type": "markdown",
      "source": [
        "#**Inference of toxicity scores of CrowdTangle (Hindi + English) dataset by using Perspective API**\n"
      ],
      "metadata": {
        "id": "D5B_iUUYqqkq"
      }
    },
    {
      "cell_type": "markdown",
      "source": [
        "For details on Google's Perspective API, see the [`get started documentation`](https://support.perspectiveapi.com/s/docs-get-started) and also the [`full documentation`](https://developers.perspectiveapi.com/s/about-the-api).\n",
        "\n",
        "\n",
        "\n"
      ],
      "metadata": {
        "id": "CFmgrxN-q8H-"
      }
    },
    {
      "cell_type": "markdown",
      "source": [
        "##**Installs and imports**\n",
        "---"
      ],
      "metadata": {
        "id": "AQu-2L9X2I_o"
      }
    },
    {
      "cell_type": "markdown",
      "source": [
        "### Installation of the Google API Python client library\n"
      ],
      "metadata": {
        "id": "2y5dhbp3OiPX"
      }
    },
    {
      "cell_type": "code",
      "execution_count": 1,
      "metadata": {
        "colab": {
          "base_uri": "https://localhost:8080/"
        },
        "id": "wo2aUY3jKz-G",
        "outputId": "04c83626-0db3-4bd2-d3cd-f13a29ece192"
      },
      "outputs": [
        {
          "output_type": "stream",
          "name": "stdout",
          "text": [
            "Looking in indexes: https://pypi.org/simple, https://us-python.pkg.dev/colab-wheels/public/simple/\n",
            "Requirement already satisfied: google-api-python-client in /usr/local/lib/python3.7/dist-packages (1.12.11)\n",
            "Collecting flatdict\n",
            "  Downloading flatdict-4.0.1.tar.gz (8.3 kB)\n",
            "Requirement already satisfied: uritemplate<4dev,>=3.0.0 in /usr/local/lib/python3.7/dist-packages (from google-api-python-client) (3.0.1)\n",
            "Requirement already satisfied: google-auth<3dev,>=1.16.0 in /usr/local/lib/python3.7/dist-packages (from google-api-python-client) (1.35.0)\n",
            "Requirement already satisfied: httplib2<1dev,>=0.15.0 in /usr/local/lib/python3.7/dist-packages (from google-api-python-client) (0.17.4)\n",
            "Requirement already satisfied: google-auth-httplib2>=0.0.3 in /usr/local/lib/python3.7/dist-packages (from google-api-python-client) (0.0.4)\n",
            "Requirement already satisfied: google-api-core<3dev,>=1.21.0 in /usr/local/lib/python3.7/dist-packages (from google-api-python-client) (1.31.6)\n",
            "Requirement already satisfied: six<2dev,>=1.13.0 in /usr/local/lib/python3.7/dist-packages (from google-api-python-client) (1.15.0)\n",
            "Requirement already satisfied: googleapis-common-protos<2.0dev,>=1.6.0 in /usr/local/lib/python3.7/dist-packages (from google-api-core<3dev,>=1.21.0->google-api-python-client) (1.56.4)\n",
            "Requirement already satisfied: setuptools>=40.3.0 in /usr/local/lib/python3.7/dist-packages (from google-api-core<3dev,>=1.21.0->google-api-python-client) (57.4.0)\n",
            "Requirement already satisfied: protobuf<4.0.0dev,>=3.12.0 in /usr/local/lib/python3.7/dist-packages (from google-api-core<3dev,>=1.21.0->google-api-python-client) (3.17.3)\n",
            "Requirement already satisfied: requests<3.0.0dev,>=2.18.0 in /usr/local/lib/python3.7/dist-packages (from google-api-core<3dev,>=1.21.0->google-api-python-client) (2.23.0)\n",
            "Requirement already satisfied: pytz in /usr/local/lib/python3.7/dist-packages (from google-api-core<3dev,>=1.21.0->google-api-python-client) (2022.1)\n",
            "Requirement already satisfied: packaging>=14.3 in /usr/local/lib/python3.7/dist-packages (from google-api-core<3dev,>=1.21.0->google-api-python-client) (21.3)\n",
            "Requirement already satisfied: pyasn1-modules>=0.2.1 in /usr/local/lib/python3.7/dist-packages (from google-auth<3dev,>=1.16.0->google-api-python-client) (0.2.8)\n",
            "Requirement already satisfied: cachetools<5.0,>=2.0.0 in /usr/local/lib/python3.7/dist-packages (from google-auth<3dev,>=1.16.0->google-api-python-client) (4.2.4)\n",
            "Requirement already satisfied: rsa<5,>=3.1.4 in /usr/local/lib/python3.7/dist-packages (from google-auth<3dev,>=1.16.0->google-api-python-client) (4.8)\n",
            "Requirement already satisfied: pyparsing!=3.0.5,>=2.0.2 in /usr/local/lib/python3.7/dist-packages (from packaging>=14.3->google-api-core<3dev,>=1.21.0->google-api-python-client) (3.0.9)\n",
            "Requirement already satisfied: pyasn1<0.5.0,>=0.4.6 in /usr/local/lib/python3.7/dist-packages (from pyasn1-modules>=0.2.1->google-auth<3dev,>=1.16.0->google-api-python-client) (0.4.8)\n",
            "Requirement already satisfied: certifi>=2017.4.17 in /usr/local/lib/python3.7/dist-packages (from requests<3.0.0dev,>=2.18.0->google-api-core<3dev,>=1.21.0->google-api-python-client) (2022.6.15)\n",
            "Requirement already satisfied: idna<3,>=2.5 in /usr/local/lib/python3.7/dist-packages (from requests<3.0.0dev,>=2.18.0->google-api-core<3dev,>=1.21.0->google-api-python-client) (2.10)\n",
            "Requirement already satisfied: urllib3!=1.25.0,!=1.25.1,<1.26,>=1.21.1 in /usr/local/lib/python3.7/dist-packages (from requests<3.0.0dev,>=2.18.0->google-api-core<3dev,>=1.21.0->google-api-python-client) (1.24.3)\n",
            "Requirement already satisfied: chardet<4,>=3.0.2 in /usr/local/lib/python3.7/dist-packages (from requests<3.0.0dev,>=2.18.0->google-api-core<3dev,>=1.21.0->google-api-python-client) (3.0.4)\n",
            "Building wheels for collected packages: flatdict\n",
            "  Building wheel for flatdict (setup.py) ... \u001b[?25l\u001b[?25hdone\n",
            "  Created wheel for flatdict: filename=flatdict-4.0.1-py3-none-any.whl size=6946 sha256=cd699fdc0461e6ec4a80fb653132f25f0a2ca2e71e79bbe5fa2a2a798238b8ac\n",
            "  Stored in directory: /root/.cache/pip/wheels/45/8e/ad/5b3f88ff913fa6563c5eb2c84cc0cd78ca223548ff913ca822\n",
            "Successfully built flatdict\n",
            "Installing collected packages: flatdict\n",
            "Successfully installed flatdict-4.0.1\n"
          ]
        }
      ],
      "source": [
        "!pip3 install google-api-python-client flatdict"
      ]
    },
    {
      "cell_type": "markdown",
      "source": [
        "### Import `discovery` module and other necessary modules\n"
      ],
      "metadata": {
        "id": "I7IxT1t2Orll"
      }
    },
    {
      "cell_type": "code",
      "source": [
        "from googleapiclient import discovery\n",
        "import json\n",
        "import flatdict\n",
        "import math\n",
        "import numpy as np\n",
        "import pandas as pd\n",
        "from matplotlib import pyplot as plt\n",
        "import seaborn as sns"
      ],
      "metadata": {
        "id": "XDlse2_dLTBa"
      },
      "execution_count": 89,
      "outputs": []
    },
    {
      "cell_type": "markdown",
      "source": [
        "Declare the API key"
      ],
      "metadata": {
        "id": "sIr8aBkNasOC"
      }
    },
    {
      "cell_type": "code",
      "source": [
        "API_KEY = 'XYZXYZXYZXYZXYZXYZXYZXYZ'"
      ],
      "metadata": {
        "id": "RED1IHARLUat"
      },
      "execution_count": 25,
      "outputs": []
    },
    {
      "cell_type": "markdown",
      "source": [
        "##**Load and pre-process the CrowdTangle dataset for inference**\n",
        "---"
      ],
      "metadata": {
        "id": "ADhcx7-B5TQ-"
      }
    },
    {
      "cell_type": "markdown",
      "source": [
        "### Mount the drive and load the CrowdTangle CSV as a dataframe"
      ],
      "metadata": {
        "id": "-xgQNne7Yuf8"
      }
    },
    {
      "cell_type": "code",
      "source": [
        "from google.colab import drive\n",
        "drive.mount('/content/drive/')"
      ],
      "metadata": {
        "colab": {
          "base_uri": "https://localhost:8080/"
        },
        "id": "WxMxFULo5biM",
        "outputId": "0b524a13-2807-4270-9b69-3efcb252ed80"
      },
      "execution_count": 4,
      "outputs": [
        {
          "output_type": "stream",
          "name": "stdout",
          "text": [
            "Mounted at /content/drive/\n"
          ]
        }
      ]
    },
    {
      "cell_type": "code",
      "source": [
        "CT_data = pd.read_csv ('/content/drive/My Drive/datasets/CT_dataset.csv', low_memory=False,  lineterminator='\\n', sep=';', error_bad_lines=False)"
      ],
      "metadata": {
        "id": "XBykV2J_7XF9",
        "colab": {
          "base_uri": "https://localhost:8080/"
        },
        "outputId": "0ad82001-63e1-4b58-8942-9210663349fa"
      },
      "execution_count": 100,
      "outputs": [
        {
          "output_type": "stream",
          "name": "stderr",
          "text": [
            "/usr/local/lib/python3.7/dist-packages/IPython/core/interactiveshell.py:2882: FutureWarning: The error_bad_lines argument has been deprecated and will be removed in a future version.\n",
            "\n",
            "\n",
            "  exec(code_obj, self.user_global_ns, self.user_ns)\n"
          ]
        }
      ]
    },
    {
      "cell_type": "code",
      "source": [
        "CT_data.shape"
      ],
      "metadata": {
        "colab": {
          "base_uri": "https://localhost:8080/"
        },
        "id": "HXFcC4e2oMdc",
        "outputId": "027fa653-f728-4057-d242-747d2d702f82"
      },
      "execution_count": 101,
      "outputs": [
        {
          "output_type": "execute_result",
          "data": {
            "text/plain": [
              "(604703, 40)"
            ]
          },
          "metadata": {},
          "execution_count": 101
        }
      ]
    },
    {
      "cell_type": "markdown",
      "source": [
        "Because the size of the dataset is too large, let's choose first N values from the dataframe for a proof-of-concept (PoC) run"
      ],
      "metadata": {
        "id": "8InqKdRyn8_a"
      }
    },
    {
      "cell_type": "code",
      "source": [
        "CT_data = CT_data.head(5000)"
      ],
      "metadata": {
        "id": "scQxIvn98eh9"
      },
      "execution_count": 102,
      "outputs": []
    },
    {
      "cell_type": "code",
      "source": [
        "CT_data.shape"
      ],
      "metadata": {
        "colab": {
          "base_uri": "https://localhost:8080/"
        },
        "id": "EiBZmTYEVMKH",
        "outputId": "17260a2e-4920-4432-e910-afbc4e2ea374"
      },
      "execution_count": 103,
      "outputs": [
        {
          "output_type": "execute_result",
          "data": {
            "text/plain": [
              "(5000, 40)"
            ]
          },
          "metadata": {},
          "execution_count": 103
        }
      ]
    },
    {
      "cell_type": "code",
      "source": [
        "CT_data.columns"
      ],
      "metadata": {
        "colab": {
          "base_uri": "https://localhost:8080/"
        },
        "id": "oHJi1dq1VQ8B",
        "outputId": "24c5db51-3733-4c9d-de7b-ad74ebb4c622"
      },
      "execution_count": 104,
      "outputs": [
        {
          "output_type": "execute_result",
          "data": {
            "text/plain": [
              "Index(['account.name', 'account.handle', 'platformId', 'Page Category',\n",
              "       'Page Admin Top Country', 'Page Description', 'Page Created',\n",
              "       'subscriberCount', 'Followers at Posting', 'date', 'Post Created Date',\n",
              "       'Post Created Time', 'type', 'totalInteraction',\n",
              "       'statistics.actual.likeCount', 'statistics.actual.commentCount',\n",
              "       'statistics.actual.shareCount', 'statistics.actual.loveCount',\n",
              "       'statistics.actual.wowCount', 'statistics.actual.hahaCount',\n",
              "       'statistics.actual.sadCount', 'statistics.actual.angryCount',\n",
              "       'statistics.actual.careCount', 'Video Share Status', 'Is Video Owner?',\n",
              "       'statistics.actual.videoPostViewCount',\n",
              "       'statistics.actual.videoTotalViewCount',\n",
              "       'statistics.actual.videoAllCrosspostsViewCount', 'Video Length',\n",
              "       'postUrl', 'message', 'expandedLinks.original',\n",
              "       'expandedLinks.expanded', 'imageText', 'title', 'description',\n",
              "       'brandedContentSponsor.platformId', 'brandedContentSponsor.name',\n",
              "       'brandedContentSponsor.category', 'score'],\n",
              "      dtype='object')"
            ]
          },
          "metadata": {},
          "execution_count": 104
        }
      ]
    },
    {
      "cell_type": "markdown",
      "source": [
        "### Preprocess the dataset for toxicity prediction task"
      ],
      "metadata": {
        "id": "UoEZebUwYlDi"
      }
    },
    {
      "cell_type": "code",
      "source": [
        "#replace NaN values in particular columns with empty string\n",
        "CT_data.message = CT_data.message.fillna('')\n",
        "CT_data.description = CT_data.description.fillna('')\n",
        "CT_data.imageText = CT_data.imageText.fillna('')"
      ],
      "metadata": {
        "id": "ju0TnUqgcc_S"
      },
      "execution_count": 107,
      "outputs": []
    },
    {
      "cell_type": "code",
      "source": [
        "# extract different column entries\n",
        "message_df = CT_data ['message']\n",
        "description_df = CT_data['description']\n",
        "imageText_df = CT_data['imageText']\n",
        "\n",
        "print (\"Total number of entries in the message dataset:\", len(message_df))\n",
        "message_df.tail()"
      ],
      "metadata": {
        "colab": {
          "base_uri": "https://localhost:8080/"
        },
        "id": "1ASbUtAE_tBK",
        "outputId": "8d4f0a69-6b32-43ea-f895-d32d2fef762f"
      },
      "execution_count": 108,
      "outputs": [
        {
          "output_type": "stream",
          "name": "stdout",
          "text": [
            "Total number of entries in the message dataset: 5000\n"
          ]
        },
        {
          "output_type": "execute_result",
          "data": {
            "text/plain": [
              "4995    फार्ट चेकर जुबैर की बढ़ी मुश्किलें, 2 और मुकदम...\n",
              "4996                         जय श्रीराम BJP Uttar Pradesh\n",
              "4997    आज उदयपुर में #kanahiyalal जी के परिवार के मिल...\n",
              "4998                                                 none\n",
              "4999                                                 none\n",
              "Name: message, dtype: object"
            ]
          },
          "metadata": {},
          "execution_count": 108
        }
      ]
    },
    {
      "cell_type": "code",
      "source": [
        "description_df.head()"
      ],
      "metadata": {
        "colab": {
          "base_uri": "https://localhost:8080/"
        },
        "id": "pZyHqSy8ayeb",
        "outputId": "5451c124-7f7a-4033-91b1-b71acd672539"
      },
      "execution_count": 109,
      "outputs": [
        {
          "output_type": "execute_result",
          "data": {
            "text/plain": [
              "0                                                 none\n",
              "1    बॉलीवुड के मशहूर अभिनेता अनिल कपूर एक ऐसे अभिन...\n",
              "2    बॉलीवुड के मशहूर अभिनेता अनिल कपूर एक ऐसे अभिन...\n",
              "3    पेट्रोलियम कंपनियों ने रोज की तरह आज सुबह 6 बज...\n",
              "4    पेट्रोलियम कंपनियों ने रोज की तरह आज सुबह 6 बज...\n",
              "Name: description, dtype: object"
            ]
          },
          "metadata": {},
          "execution_count": 109
        }
      ]
    },
    {
      "cell_type": "code",
      "source": [
        "imageText_df.tail()"
      ],
      "metadata": {
        "colab": {
          "base_uri": "https://localhost:8080/"
        },
        "id": "l7xEwyTfa-tF",
        "outputId": "56c42300-8962-4e6b-8368-3a17e99b4271"
      },
      "execution_count": 110,
      "outputs": [
        {
          "output_type": "execute_result",
          "data": {
            "text/plain": [
              "4995                                                 none\n",
              "4996                                                 none\n",
              "4997                                                 none\n",
              "4998    Ashok Shrivastav @AshokShrivasta6 कपिल जी ने #...\n",
              "4999                                                 none\n",
              "Name: imageText, dtype: object"
            ]
          },
          "metadata": {},
          "execution_count": 110
        }
      ]
    },
    {
      "cell_type": "code",
      "source": [
        "# convert dataframes to list\n",
        "message_list = message_df.tolist()\n",
        "description_list = description_df.tolist()\n",
        "imageText_list = imageText_df.tolist()"
      ],
      "metadata": {
        "id": "zI0z2cbYGoIJ"
      },
      "execution_count": 111,
      "outputs": []
    },
    {
      "cell_type": "markdown",
      "source": [
        "##**Define necessary functions to retrieve the `CommentAnalyzer` responses**\n",
        "---"
      ],
      "metadata": {
        "id": "ViuGqRzZ22Ck"
      }
    },
    {
      "cell_type": "markdown",
      "source": [
        "### Define a `discovery` client\n"
      ],
      "metadata": {
        "id": "R6xmT8oiXUYx"
      }
    },
    {
      "cell_type": "markdown",
      "source": [
        "To inspect further details about the module `discovery`, see [here](https://googleapis.github.io/google-api-python-client/docs/epy/googleapiclient.discovery-module.html)."
      ],
      "metadata": {
        "id": "JweNXlGQaEXU"
      }
    },
    {
      "cell_type": "code",
      "source": [
        "client = discovery.build (\n",
        "  serviceName = \"commentanalyzer\",\n",
        "  version = \"v1alpha1\",\n",
        "  discoveryServiceUrl=\"https://commentanalyzer.googleapis.com/$discovery/rest?version=v1alpha1\",\n",
        "  developerKey=API_KEY\n",
        ")"
      ],
      "metadata": {
        "id": "kEH44RdfLaLg",
        "colab": {
          "base_uri": "https://localhost:8080/"
        },
        "outputId": "4aee92df-1866-4df1-926b-33af97c59768"
      },
      "execution_count": 112,
      "outputs": [
        {
          "output_type": "stream",
          "name": "stderr",
          "text": [
            "WARNING:googleapiclient.discovery_cache:file_cache is unavailable when using oauth2client >= 4.0.0 or google-auth\n",
            "Traceback (most recent call last):\n",
            "  File \"/usr/local/lib/python3.7/dist-packages/googleapiclient/discovery_cache/file_cache.py\", line 33, in <module>\n",
            "    from oauth2client.contrib.locked_file import LockedFile\n",
            "ModuleNotFoundError: No module named 'oauth2client.contrib.locked_file'\n",
            "\n",
            "During handling of the above exception, another exception occurred:\n",
            "\n",
            "Traceback (most recent call last):\n",
            "  File \"/usr/local/lib/python3.7/dist-packages/googleapiclient/discovery_cache/file_cache.py\", line 37, in <module>\n",
            "    from oauth2client.locked_file import LockedFile\n",
            "ModuleNotFoundError: No module named 'oauth2client.locked_file'\n",
            "\n",
            "During handling of the above exception, another exception occurred:\n",
            "\n",
            "Traceback (most recent call last):\n",
            "  File \"/usr/local/lib/python3.7/dist-packages/googleapiclient/discovery_cache/__init__.py\", line 44, in autodetect\n",
            "    from . import file_cache\n",
            "  File \"/usr/local/lib/python3.7/dist-packages/googleapiclient/discovery_cache/file_cache.py\", line 41, in <module>\n",
            "    \"file_cache is unavailable when using oauth2client >= 4.0.0 or google-auth\"\n",
            "ImportError: file_cache is unavailable when using oauth2client >= 4.0.0 or google-auth\n"
          ]
        }
      ]
    },
    {
      "cell_type": "markdown",
      "source": [
        "### Define `AnalyzeComment` request to the Perspective API and retrieve the response\n"
      ],
      "metadata": {
        "id": "jQlC0K3EXeD7"
      }
    },
    {
      "cell_type": "markdown",
      "source": [
        "For more details on the `Attributes` and `Languages`, see [here](https://developers.perspectiveapi.com/s/about-the-api-attributes-and-languages)."
      ],
      "metadata": {
        "id": "JvW4aTGdlLxU"
      }
    },
    {
      "cell_type": "code",
      "source": [
        "def analyzer (TEXT: str):\n",
        "  analyze_input = {\n",
        "  \"comment\": { \n",
        "      \"text\": TEXT,\n",
        "      \"type\": 'PLAIN_TEXT'\n",
        "  },\n",
        "  'requestedAttributes': {\n",
        "      'TOXICITY': {}\n",
        "  },\n",
        "  'spanAnnotations': False,\n",
        "  \"doNotStore\": False,\n",
        "  \"languages\": [\"en\", \"hi\"]\n",
        "  }\n",
        "  return analyze_input"
      ],
      "metadata": {
        "id": "wX9kWnohXijW"
      },
      "execution_count": 113,
      "outputs": []
    },
    {
      "cell_type": "markdown",
      "source": [
        "Retrieve the response of the request"
      ],
      "metadata": {
        "id": "aDMusdbaa77J"
      }
    },
    {
      "cell_type": "code",
      "source": [
        "def get_response (analyzer_input):\n",
        "  response = client.comments().analyze(body=analyzer_input).execute()\n",
        "  return response"
      ],
      "metadata": {
        "id": "cHq5NWFV2A4U"
      },
      "execution_count": 114,
      "outputs": []
    },
    {
      "cell_type": "markdown",
      "source": [
        "## **Running inference task over the CrowdTangle dataset**\n",
        "---"
      ],
      "metadata": {
        "id": "v3jplk8nEqb6"
      }
    },
    {
      "cell_type": "markdown",
      "source": [
        "### Define function that returns the forward score of the toxicity prediction task for a given list input"
      ],
      "metadata": {
        "id": "GvDPG9JdiOtG"
      }
    },
    {
      "cell_type": "code",
      "source": [
        "def forward (TEXT_LIST):\n",
        "  score = [0] * len(TEXT_LIST)\n",
        "\n",
        "  for i in range (len(TEXT_LIST)):\n",
        "    if i % 50 == 0:\n",
        "      print('Batch ', i+1,' of ',len(TEXT_LIST))\n",
        "\n",
        "    if TEXT_LIST [i] != '':\n",
        "      analyze_request = analyzer (TEXT_LIST[i])\n",
        "      response = get_response (analyze_request)\n",
        "\n",
        "      score [i] = float(response['attributeScores']['TOXICITY']['summaryScore']['value'])\n",
        "  \n",
        "  return score "
      ],
      "metadata": {
        "id": "2EsQZORzE83w"
      },
      "execution_count": 115,
      "outputs": []
    },
    {
      "cell_type": "markdown",
      "source": [
        "### Running the forward function through the `message` list"
      ],
      "metadata": {
        "id": "xkUUqjRxsrot"
      }
    },
    {
      "cell_type": "code",
      "source": [
        "message_score_list = forward(message_list)"
      ],
      "metadata": {
        "colab": {
          "base_uri": "https://localhost:8080/"
        },
        "id": "zMSSZLZGY8Bs",
        "outputId": "80c4fce3-10e3-49ca-8be7-e8634537ea94"
      },
      "execution_count": 116,
      "outputs": [
        {
          "output_type": "stream",
          "name": "stdout",
          "text": [
            "Batch  1  of  5000\n",
            "Batch  51  of  5000\n",
            "Batch  101  of  5000\n",
            "Batch  151  of  5000\n",
            "Batch  201  of  5000\n",
            "Batch  251  of  5000\n",
            "Batch  301  of  5000\n",
            "Batch  351  of  5000\n",
            "Batch  401  of  5000\n",
            "Batch  451  of  5000\n",
            "Batch  501  of  5000\n",
            "Batch  551  of  5000\n",
            "Batch  601  of  5000\n",
            "Batch  651  of  5000\n",
            "Batch  701  of  5000\n",
            "Batch  751  of  5000\n",
            "Batch  801  of  5000\n",
            "Batch  851  of  5000\n",
            "Batch  901  of  5000\n",
            "Batch  951  of  5000\n",
            "Batch  1001  of  5000\n",
            "Batch  1051  of  5000\n",
            "Batch  1101  of  5000\n",
            "Batch  1151  of  5000\n",
            "Batch  1201  of  5000\n",
            "Batch  1251  of  5000\n",
            "Batch  1301  of  5000\n",
            "Batch  1351  of  5000\n",
            "Batch  1401  of  5000\n",
            "Batch  1451  of  5000\n",
            "Batch  1501  of  5000\n",
            "Batch  1551  of  5000\n",
            "Batch  1601  of  5000\n",
            "Batch  1651  of  5000\n",
            "Batch  1701  of  5000\n",
            "Batch  1751  of  5000\n",
            "Batch  1801  of  5000\n",
            "Batch  1851  of  5000\n",
            "Batch  1901  of  5000\n",
            "Batch  1951  of  5000\n",
            "Batch  2001  of  5000\n",
            "Batch  2051  of  5000\n",
            "Batch  2101  of  5000\n",
            "Batch  2151  of  5000\n",
            "Batch  2201  of  5000\n",
            "Batch  2251  of  5000\n",
            "Batch  2301  of  5000\n",
            "Batch  2351  of  5000\n",
            "Batch  2401  of  5000\n",
            "Batch  2451  of  5000\n",
            "Batch  2501  of  5000\n",
            "Batch  2551  of  5000\n",
            "Batch  2601  of  5000\n",
            "Batch  2651  of  5000\n",
            "Batch  2701  of  5000\n",
            "Batch  2751  of  5000\n",
            "Batch  2801  of  5000\n",
            "Batch  2851  of  5000\n",
            "Batch  2901  of  5000\n",
            "Batch  2951  of  5000\n",
            "Batch  3001  of  5000\n",
            "Batch  3051  of  5000\n",
            "Batch  3101  of  5000\n",
            "Batch  3151  of  5000\n",
            "Batch  3201  of  5000\n",
            "Batch  3251  of  5000\n",
            "Batch  3301  of  5000\n",
            "Batch  3351  of  5000\n",
            "Batch  3401  of  5000\n",
            "Batch  3451  of  5000\n",
            "Batch  3501  of  5000\n",
            "Batch  3551  of  5000\n",
            "Batch  3601  of  5000\n",
            "Batch  3651  of  5000\n",
            "Batch  3701  of  5000\n",
            "Batch  3751  of  5000\n",
            "Batch  3801  of  5000\n",
            "Batch  3851  of  5000\n",
            "Batch  3901  of  5000\n",
            "Batch  3951  of  5000\n",
            "Batch  4001  of  5000\n",
            "Batch  4051  of  5000\n",
            "Batch  4101  of  5000\n",
            "Batch  4151  of  5000\n",
            "Batch  4201  of  5000\n",
            "Batch  4251  of  5000\n",
            "Batch  4301  of  5000\n",
            "Batch  4351  of  5000\n",
            "Batch  4401  of  5000\n",
            "Batch  4451  of  5000\n",
            "Batch  4501  of  5000\n",
            "Batch  4551  of  5000\n",
            "Batch  4601  of  5000\n",
            "Batch  4651  of  5000\n",
            "Batch  4701  of  5000\n",
            "Batch  4751  of  5000\n",
            "Batch  4801  of  5000\n",
            "Batch  4851  of  5000\n",
            "Batch  4901  of  5000\n",
            "Batch  4951  of  5000\n"
          ]
        }
      ]
    },
    {
      "cell_type": "markdown",
      "source": [
        "### Appending the scores to the pandas dataframe"
      ],
      "metadata": {
        "id": "e5ZKMTXy3zY-"
      }
    },
    {
      "cell_type": "code",
      "source": [
        "CT_data ['messageToxicity.score'] = message_score_list"
      ],
      "metadata": {
        "id": "X9xEyvsOsKKD"
      },
      "execution_count": 117,
      "outputs": []
    },
    {
      "cell_type": "code",
      "source": [
        "CT_data.head()"
      ],
      "metadata": {
        "colab": {
          "base_uri": "https://localhost:8080/",
          "height": 739
        },
        "id": "YeCBRNsutLPc",
        "outputId": "6955fc50-9462-41c0-df45-3dda45ad101b"
      },
      "execution_count": 118,
      "outputs": [
        {
          "output_type": "execute_result",
          "data": {
            "text/plain": [
              "                       account.name           account.handle       platformId  \\\n",
              "0                      Bajrangi Dal        BajrangDalKolkata  354861651263021   \n",
              "1                  True Nationalist  TrueNationalistOfficial  623564924746688   \n",
              "2  Pushpendra Kulshrestha Fans Club            Pushpendrarss  313739616231431   \n",
              "3                  True Nationalist  TrueNationalistOfficial  623564924746688   \n",
              "4  Pushpendra Kulshrestha Fans Club            Pushpendrarss  313739616231431   \n",
              "\n",
              "            Page Category Page Admin Top Country  \\\n",
              "0  RELIGIOUS_ORGANIZATION                     IN   \n",
              "1                   LOCAL                     IN   \n",
              "2        ACTIVITY_GENERAL                     IN   \n",
              "3                   LOCAL                     IN   \n",
              "4        ACTIVITY_GENERAL                     IN   \n",
              "\n",
              "                                    Page Description         Page Created  \\\n",
              "0   अपने और अपनोँ के सुरक्षित भविष्य हेतु बँगाली ...  2012-09-12 10:38:05   \n",
              "1  हिन्दू धर्म से संबंधित वीडियो के लिए हमारे पेज...  2019-03-09 08:12:47   \n",
              "2  पेज से जुड़ने के लिए आपका धन्यवाद, आशा करते है ...  2019-06-07 08:59:33   \n",
              "3  हिन्दू धर्म से संबंधित वीडियो के लिए हमारे पेज...  2019-03-09 08:12:47   \n",
              "4  पेज से जुड़ने के लिए आपका धन्यवाद, आशा करते है ...  2019-06-07 08:59:33   \n",
              "\n",
              "   subscriberCount  Followers at Posting                      date  ...  \\\n",
              "0          35222.0               41363.0  2022-07-11 13:08:35 CEST  ...   \n",
              "1         275031.0              555551.0  2022-07-11 12:41:07 CEST  ...   \n",
              "2         445145.0              848530.0  2022-07-11 12:38:52 CEST  ...   \n",
              "3         275063.0              555595.0  2022-07-11 12:09:08 CEST  ...   \n",
              "4         445145.0              848530.0  2022-07-11 12:06:36 CEST  ...   \n",
              "\n",
              "                              expandedLinks.original expandedLinks.expanded  \\\n",
              "0  https://www.facebook.com/BajrangDalKolkata/vid...                    NaN   \n",
              "1  https://appearnews.com/anil-kapoor-has-become-...                    NaN   \n",
              "2  https://appearnews.com/anil-kapoor-has-become-...                    NaN   \n",
              "3  https://appearnews.com/there-is-good-news-abou...                    NaN   \n",
              "4  https://appearnews.com/there-is-good-news-abou...                    NaN   \n",
              "\n",
              "  imageText                                              title  \\\n",
              "0      none                                                NaN   \n",
              "1      none  अनिल कपूर गुंजी बच्चे की किलकारियां बन गए नाना...   \n",
              "2      none  अनिल कपूर गुंजी बच्चे की किलकारियां बन गए नाना...   \n",
              "3      none  पट्रोल-डीजल को लेकर आई खुशखबरी मिल रहा है मात्...   \n",
              "4      none  पट्रोल-डीजल को लेकर आई खुशखबरी मिल रहा है मात्...   \n",
              "\n",
              "                                         description  \\\n",
              "0                                               none   \n",
              "1  बॉलीवुड के मशहूर अभिनेता अनिल कपूर एक ऐसे अभिन...   \n",
              "2  बॉलीवुड के मशहूर अभिनेता अनिल कपूर एक ऐसे अभिन...   \n",
              "3  पेट्रोलियम कंपनियों ने रोज की तरह आज सुबह 6 बज...   \n",
              "4  पेट्रोलियम कंपनियों ने रोज की तरह आज सुबह 6 बज...   \n",
              "\n",
              "   brandedContentSponsor.platformId  brandedContentSponsor.name  \\\n",
              "0                               NaN                         NaN   \n",
              "1                               NaN                         NaN   \n",
              "2                               NaN                         NaN   \n",
              "3                               NaN                         NaN   \n",
              "4                               NaN                         NaN   \n",
              "\n",
              "   brandedContentSponsor.category  score  messageToxicity.score  \n",
              "0                             NaN  -2.82               0.007011  \n",
              "1                             NaN  -0.64               0.392301  \n",
              "2                             NaN   1.37               0.392301  \n",
              "3                             NaN  -0.71               0.026207  \n",
              "4                             NaN   1.53               0.026207  \n",
              "\n",
              "[5 rows x 41 columns]"
            ],
            "text/html": [
              "\n",
              "  <div id=\"df-0bebe900-2a75-4d54-a9a2-bd2ae044176f\">\n",
              "    <div class=\"colab-df-container\">\n",
              "      <div>\n",
              "<style scoped>\n",
              "    .dataframe tbody tr th:only-of-type {\n",
              "        vertical-align: middle;\n",
              "    }\n",
              "\n",
              "    .dataframe tbody tr th {\n",
              "        vertical-align: top;\n",
              "    }\n",
              "\n",
              "    .dataframe thead th {\n",
              "        text-align: right;\n",
              "    }\n",
              "</style>\n",
              "<table border=\"1\" class=\"dataframe\">\n",
              "  <thead>\n",
              "    <tr style=\"text-align: right;\">\n",
              "      <th></th>\n",
              "      <th>account.name</th>\n",
              "      <th>account.handle</th>\n",
              "      <th>platformId</th>\n",
              "      <th>Page Category</th>\n",
              "      <th>Page Admin Top Country</th>\n",
              "      <th>Page Description</th>\n",
              "      <th>Page Created</th>\n",
              "      <th>subscriberCount</th>\n",
              "      <th>Followers at Posting</th>\n",
              "      <th>date</th>\n",
              "      <th>...</th>\n",
              "      <th>expandedLinks.original</th>\n",
              "      <th>expandedLinks.expanded</th>\n",
              "      <th>imageText</th>\n",
              "      <th>title</th>\n",
              "      <th>description</th>\n",
              "      <th>brandedContentSponsor.platformId</th>\n",
              "      <th>brandedContentSponsor.name</th>\n",
              "      <th>brandedContentSponsor.category</th>\n",
              "      <th>score</th>\n",
              "      <th>messageToxicity.score</th>\n",
              "    </tr>\n",
              "  </thead>\n",
              "  <tbody>\n",
              "    <tr>\n",
              "      <th>0</th>\n",
              "      <td>Bajrangi Dal</td>\n",
              "      <td>BajrangDalKolkata</td>\n",
              "      <td>354861651263021</td>\n",
              "      <td>RELIGIOUS_ORGANIZATION</td>\n",
              "      <td>IN</td>\n",
              "      <td>अपने और अपनोँ के सुरक्षित भविष्य हेतु बँगाली ...</td>\n",
              "      <td>2012-09-12 10:38:05</td>\n",
              "      <td>35222.0</td>\n",
              "      <td>41363.0</td>\n",
              "      <td>2022-07-11 13:08:35 CEST</td>\n",
              "      <td>...</td>\n",
              "      <td>https://www.facebook.com/BajrangDalKolkata/vid...</td>\n",
              "      <td>NaN</td>\n",
              "      <td>none</td>\n",
              "      <td>NaN</td>\n",
              "      <td>none</td>\n",
              "      <td>NaN</td>\n",
              "      <td>NaN</td>\n",
              "      <td>NaN</td>\n",
              "      <td>-2.82</td>\n",
              "      <td>0.007011</td>\n",
              "    </tr>\n",
              "    <tr>\n",
              "      <th>1</th>\n",
              "      <td>True Nationalist</td>\n",
              "      <td>TrueNationalistOfficial</td>\n",
              "      <td>623564924746688</td>\n",
              "      <td>LOCAL</td>\n",
              "      <td>IN</td>\n",
              "      <td>हिन्दू धर्म से संबंधित वीडियो के लिए हमारे पेज...</td>\n",
              "      <td>2019-03-09 08:12:47</td>\n",
              "      <td>275031.0</td>\n",
              "      <td>555551.0</td>\n",
              "      <td>2022-07-11 12:41:07 CEST</td>\n",
              "      <td>...</td>\n",
              "      <td>https://appearnews.com/anil-kapoor-has-become-...</td>\n",
              "      <td>NaN</td>\n",
              "      <td>none</td>\n",
              "      <td>अनिल कपूर गुंजी बच्चे की किलकारियां बन गए नाना...</td>\n",
              "      <td>बॉलीवुड के मशहूर अभिनेता अनिल कपूर एक ऐसे अभिन...</td>\n",
              "      <td>NaN</td>\n",
              "      <td>NaN</td>\n",
              "      <td>NaN</td>\n",
              "      <td>-0.64</td>\n",
              "      <td>0.392301</td>\n",
              "    </tr>\n",
              "    <tr>\n",
              "      <th>2</th>\n",
              "      <td>Pushpendra Kulshrestha Fans Club</td>\n",
              "      <td>Pushpendrarss</td>\n",
              "      <td>313739616231431</td>\n",
              "      <td>ACTIVITY_GENERAL</td>\n",
              "      <td>IN</td>\n",
              "      <td>पेज से जुड़ने के लिए आपका धन्यवाद, आशा करते है ...</td>\n",
              "      <td>2019-06-07 08:59:33</td>\n",
              "      <td>445145.0</td>\n",
              "      <td>848530.0</td>\n",
              "      <td>2022-07-11 12:38:52 CEST</td>\n",
              "      <td>...</td>\n",
              "      <td>https://appearnews.com/anil-kapoor-has-become-...</td>\n",
              "      <td>NaN</td>\n",
              "      <td>none</td>\n",
              "      <td>अनिल कपूर गुंजी बच्चे की किलकारियां बन गए नाना...</td>\n",
              "      <td>बॉलीवुड के मशहूर अभिनेता अनिल कपूर एक ऐसे अभिन...</td>\n",
              "      <td>NaN</td>\n",
              "      <td>NaN</td>\n",
              "      <td>NaN</td>\n",
              "      <td>1.37</td>\n",
              "      <td>0.392301</td>\n",
              "    </tr>\n",
              "    <tr>\n",
              "      <th>3</th>\n",
              "      <td>True Nationalist</td>\n",
              "      <td>TrueNationalistOfficial</td>\n",
              "      <td>623564924746688</td>\n",
              "      <td>LOCAL</td>\n",
              "      <td>IN</td>\n",
              "      <td>हिन्दू धर्म से संबंधित वीडियो के लिए हमारे पेज...</td>\n",
              "      <td>2019-03-09 08:12:47</td>\n",
              "      <td>275063.0</td>\n",
              "      <td>555595.0</td>\n",
              "      <td>2022-07-11 12:09:08 CEST</td>\n",
              "      <td>...</td>\n",
              "      <td>https://appearnews.com/there-is-good-news-abou...</td>\n",
              "      <td>NaN</td>\n",
              "      <td>none</td>\n",
              "      <td>पट्रोल-डीजल को लेकर आई खुशखबरी मिल रहा है मात्...</td>\n",
              "      <td>पेट्रोलियम कंपनियों ने रोज की तरह आज सुबह 6 बज...</td>\n",
              "      <td>NaN</td>\n",
              "      <td>NaN</td>\n",
              "      <td>NaN</td>\n",
              "      <td>-0.71</td>\n",
              "      <td>0.026207</td>\n",
              "    </tr>\n",
              "    <tr>\n",
              "      <th>4</th>\n",
              "      <td>Pushpendra Kulshrestha Fans Club</td>\n",
              "      <td>Pushpendrarss</td>\n",
              "      <td>313739616231431</td>\n",
              "      <td>ACTIVITY_GENERAL</td>\n",
              "      <td>IN</td>\n",
              "      <td>पेज से जुड़ने के लिए आपका धन्यवाद, आशा करते है ...</td>\n",
              "      <td>2019-06-07 08:59:33</td>\n",
              "      <td>445145.0</td>\n",
              "      <td>848530.0</td>\n",
              "      <td>2022-07-11 12:06:36 CEST</td>\n",
              "      <td>...</td>\n",
              "      <td>https://appearnews.com/there-is-good-news-abou...</td>\n",
              "      <td>NaN</td>\n",
              "      <td>none</td>\n",
              "      <td>पट्रोल-डीजल को लेकर आई खुशखबरी मिल रहा है मात्...</td>\n",
              "      <td>पेट्रोलियम कंपनियों ने रोज की तरह आज सुबह 6 बज...</td>\n",
              "      <td>NaN</td>\n",
              "      <td>NaN</td>\n",
              "      <td>NaN</td>\n",
              "      <td>1.53</td>\n",
              "      <td>0.026207</td>\n",
              "    </tr>\n",
              "  </tbody>\n",
              "</table>\n",
              "<p>5 rows × 41 columns</p>\n",
              "</div>\n",
              "      <button class=\"colab-df-convert\" onclick=\"convertToInteractive('df-0bebe900-2a75-4d54-a9a2-bd2ae044176f')\"\n",
              "              title=\"Convert this dataframe to an interactive table.\"\n",
              "              style=\"display:none;\">\n",
              "        \n",
              "  <svg xmlns=\"http://www.w3.org/2000/svg\" height=\"24px\"viewBox=\"0 0 24 24\"\n",
              "       width=\"24px\">\n",
              "    <path d=\"M0 0h24v24H0V0z\" fill=\"none\"/>\n",
              "    <path d=\"M18.56 5.44l.94 2.06.94-2.06 2.06-.94-2.06-.94-.94-2.06-.94 2.06-2.06.94zm-11 1L8.5 8.5l.94-2.06 2.06-.94-2.06-.94L8.5 2.5l-.94 2.06-2.06.94zm10 10l.94 2.06.94-2.06 2.06-.94-2.06-.94-.94-2.06-.94 2.06-2.06.94z\"/><path d=\"M17.41 7.96l-1.37-1.37c-.4-.4-.92-.59-1.43-.59-.52 0-1.04.2-1.43.59L10.3 9.45l-7.72 7.72c-.78.78-.78 2.05 0 2.83L4 21.41c.39.39.9.59 1.41.59.51 0 1.02-.2 1.41-.59l7.78-7.78 2.81-2.81c.8-.78.8-2.07 0-2.86zM5.41 20L4 18.59l7.72-7.72 1.47 1.35L5.41 20z\"/>\n",
              "  </svg>\n",
              "      </button>\n",
              "      \n",
              "  <style>\n",
              "    .colab-df-container {\n",
              "      display:flex;\n",
              "      flex-wrap:wrap;\n",
              "      gap: 12px;\n",
              "    }\n",
              "\n",
              "    .colab-df-convert {\n",
              "      background-color: #E8F0FE;\n",
              "      border: none;\n",
              "      border-radius: 50%;\n",
              "      cursor: pointer;\n",
              "      display: none;\n",
              "      fill: #1967D2;\n",
              "      height: 32px;\n",
              "      padding: 0 0 0 0;\n",
              "      width: 32px;\n",
              "    }\n",
              "\n",
              "    .colab-df-convert:hover {\n",
              "      background-color: #E2EBFA;\n",
              "      box-shadow: 0px 1px 2px rgba(60, 64, 67, 0.3), 0px 1px 3px 1px rgba(60, 64, 67, 0.15);\n",
              "      fill: #174EA6;\n",
              "    }\n",
              "\n",
              "    [theme=dark] .colab-df-convert {\n",
              "      background-color: #3B4455;\n",
              "      fill: #D2E3FC;\n",
              "    }\n",
              "\n",
              "    [theme=dark] .colab-df-convert:hover {\n",
              "      background-color: #434B5C;\n",
              "      box-shadow: 0px 1px 3px 1px rgba(0, 0, 0, 0.15);\n",
              "      filter: drop-shadow(0px 1px 2px rgba(0, 0, 0, 0.3));\n",
              "      fill: #FFFFFF;\n",
              "    }\n",
              "  </style>\n",
              "\n",
              "      <script>\n",
              "        const buttonEl =\n",
              "          document.querySelector('#df-0bebe900-2a75-4d54-a9a2-bd2ae044176f button.colab-df-convert');\n",
              "        buttonEl.style.display =\n",
              "          google.colab.kernel.accessAllowed ? 'block' : 'none';\n",
              "\n",
              "        async function convertToInteractive(key) {\n",
              "          const element = document.querySelector('#df-0bebe900-2a75-4d54-a9a2-bd2ae044176f');\n",
              "          const dataTable =\n",
              "            await google.colab.kernel.invokeFunction('convertToInteractive',\n",
              "                                                     [key], {});\n",
              "          if (!dataTable) return;\n",
              "\n",
              "          const docLinkHtml = 'Like what you see? Visit the ' +\n",
              "            '<a target=\"_blank\" href=https://colab.research.google.com/notebooks/data_table.ipynb>data table notebook</a>'\n",
              "            + ' to learn more about interactive tables.';\n",
              "          element.innerHTML = '';\n",
              "          dataTable['output_type'] = 'display_data';\n",
              "          await google.colab.output.renderOutput(dataTable, element);\n",
              "          const docLink = document.createElement('div');\n",
              "          docLink.innerHTML = docLinkHtml;\n",
              "          element.appendChild(docLink);\n",
              "        }\n",
              "      </script>\n",
              "    </div>\n",
              "  </div>\n",
              "  "
            ]
          },
          "metadata": {},
          "execution_count": 118
        }
      ]
    },
    {
      "cell_type": "markdown",
      "source": [
        "### Vizualisations of the scores and their correlations with actors & page categories"
      ],
      "metadata": {
        "id": "hvSwVdoe37tf"
      }
    },
    {
      "cell_type": "code",
      "source": [
        "plt.figure(figsize=(6,4),dpi=100)\n",
        "#plt.hist(CT_data['messageToxicity.score'], bins=30, range=[0.022, 1.0], align='mid')\n",
        "non_zero = CT_data [CT_data['messageToxicity.score'] > 0.022]\n",
        "non_zero['messageToxicity.score'].hist(bins=30)\n",
        "plt.title('Histogram of message toxicity scores\\n')\n",
        "plt.ylabel('count')\n",
        "plt.xlabel('toxicity score')\n",
        "plt.show()"
      ],
      "metadata": {
        "colab": {
          "base_uri": "https://localhost:8080/",
          "height": 425
        },
        "id": "xaYqqC2xtcg8",
        "outputId": "77459881-54f3-4d47-a4c1-f35afbcacc89"
      },
      "execution_count": 146,
      "outputs": [
        {
          "output_type": "display_data",
          "data": {
            "text/plain": [
              "<Figure size 600x400 with 1 Axes>"
            ],
            "image/png": "[encoded data removed]"
          },
          "metadata": {
            "needs_background": "light"
          }
        }
      ]
    },
    {
      "cell_type": "code",
      "source": [
        "plt.figure(figsize=(6,4),dpi=100)\n",
        "\n",
        "mid_toxic = CT_data [ (CT_data['messageToxicity.score'] >= 0.4) & (CT_data['messageToxicity.score'] <= 0.8)]\n",
        "mid_toxic['account.name'].value_counts()[:10].plot(kind='bar')\n",
        "\n",
        "plt.title('Top toxic actors \\n (0.4 <= messageToxicity.score <= 0.8)')\n",
        "plt.ylabel('count')\n",
        "\n",
        "plt.show()"
      ],
      "metadata": {
        "colab": {
          "base_uri": "https://localhost:8080/",
          "height": 1000
        },
        "id": "y03Nho0p0DWx",
        "outputId": "eaa3c7c4-9b09-448d-d4f7-3253c04b63b0"
      },
      "execution_count": 158,
      "outputs": [
        {
          "output_type": "stream",
          "name": "stderr",
          "text": [
            "/usr/local/lib/python3.7/dist-packages/matplotlib/backends/backend_agg.py:214: RuntimeWarning: Glyph 2346 missing from current font.\n",
            "  font.set_text(s, 0.0, flags=flags)\n",
            "/usr/local/lib/python3.7/dist-packages/matplotlib/backends/backend_agg.py:214: RuntimeWarning: Glyph 2369 missing from current font.\n",
            "  font.set_text(s, 0.0, flags=flags)\n",
            "/usr/local/lib/python3.7/dist-packages/matplotlib/backends/backend_agg.py:214: RuntimeWarning: Glyph 2359 missing from current font.\n",
            "  font.set_text(s, 0.0, flags=flags)\n",
            "/usr/local/lib/python3.7/dist-packages/matplotlib/backends/backend_agg.py:214: RuntimeWarning: Glyph 2381 missing from current font.\n",
            "  font.set_text(s, 0.0, flags=flags)\n",
            "/usr/local/lib/python3.7/dist-packages/matplotlib/backends/backend_agg.py:214: RuntimeWarning: Glyph 2375 missing from current font.\n",
            "  font.set_text(s, 0.0, flags=flags)\n",
            "/usr/local/lib/python3.7/dist-packages/matplotlib/backends/backend_agg.py:214: RuntimeWarning: Glyph 2306 missing from current font.\n",
            "  font.set_text(s, 0.0, flags=flags)\n",
            "/usr/local/lib/python3.7/dist-packages/matplotlib/backends/backend_agg.py:214: RuntimeWarning: Glyph 2342 missing from current font.\n",
            "  font.set_text(s, 0.0, flags=flags)\n",
            "/usr/local/lib/python3.7/dist-packages/matplotlib/backends/backend_agg.py:214: RuntimeWarning: Glyph 2352 missing from current font.\n",
            "  font.set_text(s, 0.0, flags=flags)\n",
            "/usr/local/lib/python3.7/dist-packages/matplotlib/backends/backend_agg.py:214: RuntimeWarning: Glyph 2325 missing from current font.\n",
            "  font.set_text(s, 0.0, flags=flags)\n",
            "/usr/local/lib/python3.7/dist-packages/matplotlib/backends/backend_agg.py:214: RuntimeWarning: Glyph 2354 missing from current font.\n",
            "  font.set_text(s, 0.0, flags=flags)\n",
            "/usr/local/lib/python3.7/dist-packages/matplotlib/backends/backend_agg.py:214: RuntimeWarning: Glyph 2358 missing from current font.\n",
            "  font.set_text(s, 0.0, flags=flags)\n",
            "/usr/local/lib/python3.7/dist-packages/matplotlib/backends/backend_agg.py:214: RuntimeWarning: Glyph 2336 missing from current font.\n",
            "  font.set_text(s, 0.0, flags=flags)\n",
            "/usr/local/lib/python3.7/dist-packages/matplotlib/backends/backend_agg.py:214: RuntimeWarning: Glyph 2347 missing from current font.\n",
            "  font.set_text(s, 0.0, flags=flags)\n",
            "/usr/local/lib/python3.7/dist-packages/matplotlib/backends/backend_agg.py:214: RuntimeWarning: Glyph 2376 missing from current font.\n",
            "  font.set_text(s, 0.0, flags=flags)\n",
            "/usr/local/lib/python3.7/dist-packages/matplotlib/backends/backend_agg.py:214: RuntimeWarning: Glyph 2360 missing from current font.\n",
            "  font.set_text(s, 0.0, flags=flags)\n",
            "/usr/local/lib/python3.7/dist-packages/matplotlib/backends/backend_agg.py:214: RuntimeWarning: Glyph 2348 missing from current font.\n",
            "  font.set_text(s, 0.0, flags=flags)\n",
            "/usr/local/lib/python3.7/dist-packages/matplotlib/backends/backend_agg.py:183: RuntimeWarning: Glyph 2346 missing from current font.\n",
            "  font.set_text(s, 0, flags=flags)\n",
            "/usr/local/lib/python3.7/dist-packages/matplotlib/backends/backend_agg.py:183: RuntimeWarning: Glyph 2369 missing from current font.\n",
            "  font.set_text(s, 0, flags=flags)\n",
            "/usr/local/lib/python3.7/dist-packages/matplotlib/backends/backend_agg.py:183: RuntimeWarning: Glyph 2359 missing from current font.\n",
            "  font.set_text(s, 0, flags=flags)\n",
            "/usr/local/lib/python3.7/dist-packages/matplotlib/backends/backend_agg.py:183: RuntimeWarning: Glyph 2381 missing from current font.\n",
            "  font.set_text(s, 0, flags=flags)\n",
            "/usr/local/lib/python3.7/dist-packages/matplotlib/backends/backend_agg.py:183: RuntimeWarning: Glyph 2375 missing from current font.\n",
            "  font.set_text(s, 0, flags=flags)\n",
            "/usr/local/lib/python3.7/dist-packages/matplotlib/backends/backend_agg.py:183: RuntimeWarning: Glyph 2306 missing from current font.\n",
            "  font.set_text(s, 0, flags=flags)\n",
            "/usr/local/lib/python3.7/dist-packages/matplotlib/backends/backend_agg.py:183: RuntimeWarning: Glyph 2342 missing from current font.\n",
            "  font.set_text(s, 0, flags=flags)\n",
            "/usr/local/lib/python3.7/dist-packages/matplotlib/backends/backend_agg.py:183: RuntimeWarning: Glyph 2352 missing from current font.\n",
            "  font.set_text(s, 0, flags=flags)\n",
            "/usr/local/lib/python3.7/dist-packages/matplotlib/backends/backend_agg.py:183: RuntimeWarning: Glyph 2325 missing from current font.\n",
            "  font.set_text(s, 0, flags=flags)\n",
            "/usr/local/lib/python3.7/dist-packages/matplotlib/backends/backend_agg.py:183: RuntimeWarning: Glyph 2354 missing from current font.\n",
            "  font.set_text(s, 0, flags=flags)\n",
            "/usr/local/lib/python3.7/dist-packages/matplotlib/backends/backend_agg.py:183: RuntimeWarning: Glyph 2358 missing from current font.\n",
            "  font.set_text(s, 0, flags=flags)\n",
            "/usr/local/lib/python3.7/dist-packages/matplotlib/backends/backend_agg.py:183: RuntimeWarning: Glyph 2336 missing from current font.\n",
            "  font.set_text(s, 0, flags=flags)\n",
            "/usr/local/lib/python3.7/dist-packages/matplotlib/backends/backend_agg.py:183: RuntimeWarning: Glyph 2347 missing from current font.\n",
            "  font.set_text(s, 0, flags=flags)\n",
            "/usr/local/lib/python3.7/dist-packages/matplotlib/backends/backend_agg.py:183: RuntimeWarning: Glyph 2376 missing from current font.\n",
            "  font.set_text(s, 0, flags=flags)\n",
            "/usr/local/lib/python3.7/dist-packages/matplotlib/backends/backend_agg.py:183: RuntimeWarning: Glyph 2360 missing from current font.\n",
            "  font.set_text(s, 0, flags=flags)\n",
            "/usr/local/lib/python3.7/dist-packages/matplotlib/backends/backend_agg.py:183: RuntimeWarning: Glyph 2348 missing from current font.\n",
            "  font.set_text(s, 0, flags=flags)\n"
          ]
        },
        {
          "output_type": "display_data",
          "data": {
            "text/plain": [
              "<Figure size 600x400 with 1 Axes>"
            ],
            "image/png": "[encoded data removed]"
          },
          "metadata": {
            "needs_background": "light"
          }
        }
      ]
    },
    {
      "cell_type": "code",
      "source": [
        "plt.figure(figsize=(6,4),dpi=100)\n",
        "\n",
        "#mid_toxic = CT_data [ (CT_data['messageToxicity.score'] >= 0.4) & (CT_data['messageToxicity.score'] <= 0.8)]\n",
        "mid_toxic['Page Category'].value_counts()[:15].plot(kind='bar')\n",
        "\n",
        "plt.title('Top toxic page categories\\n (0.4 <= messageToxicity.score <= 0.8)')\n",
        "plt.ylabel('count')\n",
        "\n",
        "plt.show()"
      ],
      "metadata": {
        "colab": {
          "base_uri": "https://localhost:8080/",
          "height": 580
        },
        "id": "z-NMu1Tl3Qbh",
        "outputId": "df021e22-1ad2-4014-93da-d5d0f0e92583"
      },
      "execution_count": 159,
      "outputs": [
        {
          "output_type": "display_data",
          "data": {
            "text/plain": [
              "<Figure size 600x400 with 1 Axes>"
            ],
            "image/png": "[encoded data removed]"
          },
          "metadata": {
            "needs_background": "light"
          }
        }
      ]
    },
    {
      "cell_type": "code",
      "source": [
        "plt.figure(figsize=(6,4),dpi=100)\n",
        "\n",
        "high_toxic = CT_data [CT_data['messageToxicity.score'] >= 0.8]\n",
        "high_toxic ['account.name'].value_counts()[:10].plot(kind='bar')\n",
        "\n",
        "plt.title('Highly toxic actors\\n (messageToxicity.score >= 0.8)')\n",
        "plt.ylabel('count')\n",
        "\n",
        "plt.show()"
      ],
      "metadata": {
        "colab": {
          "base_uri": "https://localhost:8080/",
          "height": 1000
        },
        "id": "Pa9QqDTi2F65",
        "outputId": "b69db006-cb90-4fde-c8e3-28afec63b5c2"
      },
      "execution_count": 160,
      "outputs": [
        {
          "output_type": "stream",
          "name": "stderr",
          "text": [
            "/usr/local/lib/python3.7/dist-packages/matplotlib/backends/backend_agg.py:214: RuntimeWarning: Glyph 2346 missing from current font.\n",
            "  font.set_text(s, 0.0, flags=flags)\n",
            "/usr/local/lib/python3.7/dist-packages/matplotlib/backends/backend_agg.py:214: RuntimeWarning: Glyph 2369 missing from current font.\n",
            "  font.set_text(s, 0.0, flags=flags)\n",
            "/usr/local/lib/python3.7/dist-packages/matplotlib/backends/backend_agg.py:214: RuntimeWarning: Glyph 2359 missing from current font.\n",
            "  font.set_text(s, 0.0, flags=flags)\n",
            "/usr/local/lib/python3.7/dist-packages/matplotlib/backends/backend_agg.py:214: RuntimeWarning: Glyph 2381 missing from current font.\n",
            "  font.set_text(s, 0.0, flags=flags)\n",
            "/usr/local/lib/python3.7/dist-packages/matplotlib/backends/backend_agg.py:214: RuntimeWarning: Glyph 2375 missing from current font.\n",
            "  font.set_text(s, 0.0, flags=flags)\n",
            "/usr/local/lib/python3.7/dist-packages/matplotlib/backends/backend_agg.py:214: RuntimeWarning: Glyph 2344 missing from current font.\n",
            "  font.set_text(s, 0.0, flags=flags)\n",
            "/usr/local/lib/python3.7/dist-packages/matplotlib/backends/backend_agg.py:214: RuntimeWarning: Glyph 2342 missing from current font.\n",
            "  font.set_text(s, 0.0, flags=flags)\n",
            "/usr/local/lib/python3.7/dist-packages/matplotlib/backends/backend_agg.py:214: RuntimeWarning: Glyph 2352 missing from current font.\n",
            "  font.set_text(s, 0.0, flags=flags)\n",
            "/usr/local/lib/python3.7/dist-packages/matplotlib/backends/backend_agg.py:214: RuntimeWarning: Glyph 2325 missing from current font.\n",
            "  font.set_text(s, 0.0, flags=flags)\n",
            "/usr/local/lib/python3.7/dist-packages/matplotlib/backends/backend_agg.py:214: RuntimeWarning: Glyph 2354 missing from current font.\n",
            "  font.set_text(s, 0.0, flags=flags)\n",
            "/usr/local/lib/python3.7/dist-packages/matplotlib/backends/backend_agg.py:214: RuntimeWarning: Glyph 2358 missing from current font.\n",
            "  font.set_text(s, 0.0, flags=flags)\n",
            "/usr/local/lib/python3.7/dist-packages/matplotlib/backends/backend_agg.py:214: RuntimeWarning: Glyph 2336 missing from current font.\n",
            "  font.set_text(s, 0.0, flags=flags)\n",
            "/usr/local/lib/python3.7/dist-packages/matplotlib/backends/backend_agg.py:183: RuntimeWarning: Glyph 2346 missing from current font.\n",
            "  font.set_text(s, 0, flags=flags)\n",
            "/usr/local/lib/python3.7/dist-packages/matplotlib/backends/backend_agg.py:183: RuntimeWarning: Glyph 2369 missing from current font.\n",
            "  font.set_text(s, 0, flags=flags)\n",
            "/usr/local/lib/python3.7/dist-packages/matplotlib/backends/backend_agg.py:183: RuntimeWarning: Glyph 2359 missing from current font.\n",
            "  font.set_text(s, 0, flags=flags)\n",
            "/usr/local/lib/python3.7/dist-packages/matplotlib/backends/backend_agg.py:183: RuntimeWarning: Glyph 2381 missing from current font.\n",
            "  font.set_text(s, 0, flags=flags)\n",
            "/usr/local/lib/python3.7/dist-packages/matplotlib/backends/backend_agg.py:183: RuntimeWarning: Glyph 2375 missing from current font.\n",
            "  font.set_text(s, 0, flags=flags)\n",
            "/usr/local/lib/python3.7/dist-packages/matplotlib/backends/backend_agg.py:183: RuntimeWarning: Glyph 2344 missing from current font.\n",
            "  font.set_text(s, 0, flags=flags)\n",
            "/usr/local/lib/python3.7/dist-packages/matplotlib/backends/backend_agg.py:183: RuntimeWarning: Glyph 2342 missing from current font.\n",
            "  font.set_text(s, 0, flags=flags)\n",
            "/usr/local/lib/python3.7/dist-packages/matplotlib/backends/backend_agg.py:183: RuntimeWarning: Glyph 2352 missing from current font.\n",
            "  font.set_text(s, 0, flags=flags)\n",
            "/usr/local/lib/python3.7/dist-packages/matplotlib/backends/backend_agg.py:183: RuntimeWarning: Glyph 2325 missing from current font.\n",
            "  font.set_text(s, 0, flags=flags)\n",
            "/usr/local/lib/python3.7/dist-packages/matplotlib/backends/backend_agg.py:183: RuntimeWarning: Glyph 2354 missing from current font.\n",
            "  font.set_text(s, 0, flags=flags)\n",
            "/usr/local/lib/python3.7/dist-packages/matplotlib/backends/backend_agg.py:183: RuntimeWarning: Glyph 2358 missing from current font.\n",
            "  font.set_text(s, 0, flags=flags)\n",
            "/usr/local/lib/python3.7/dist-packages/matplotlib/backends/backend_agg.py:183: RuntimeWarning: Glyph 2336 missing from current font.\n",
            "  font.set_text(s, 0, flags=flags)\n"
          ]
        },
        {
          "output_type": "display_data",
          "data": {
            "text/plain": [
              "<Figure size 600x400 with 1 Axes>"
            ],
            "image/png": "[encoded data removed]"
          },
          "metadata": {
            "needs_background": "light"
          }
        }
      ]
    },
    {
      "cell_type": "code",
      "source": [
        "plt.figure(figsize=(6,4),dpi=100)\n",
        "\n",
        "\n",
        "high_toxic['Page Category'].value_counts()[:15].plot(kind='bar')\n",
        "\n",
        "plt.title('Top toxic page categories\\n (messageToxicity.score >= 0.8)')\n",
        "plt.ylabel('count')\n",
        "\n",
        "plt.show()"
      ],
      "metadata": {
        "colab": {
          "base_uri": "https://localhost:8080/",
          "height": 511
        },
        "id": "uAZXInqI5BIs",
        "outputId": "486014a6-cdab-4251-b023-d426fb2c0a15"
      },
      "execution_count": 161,
      "outputs": [
        {
          "output_type": "display_data",
          "data": {
            "text/plain": [
              "<Figure size 600x400 with 1 Axes>"
            ],
            "image/png": "[encoded data removed]"
          },
          "metadata": {
            "needs_background": "light"
          }
        }
      ]
    }
  ]
}