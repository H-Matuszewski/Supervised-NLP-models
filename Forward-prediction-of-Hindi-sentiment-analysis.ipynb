{
  "cells": [
    {
      "cell_type": "markdown",
      "metadata": {
        "id": "GBlajWMD2xG1"
      },
      "source": [
        "# Forward inference of sentiment prediction task using `fine-tuned XLM-roBERTa Hindi model`"
      ]
    },
    {
      "cell_type": "markdown",
      "metadata": {
        "id": "YaoDr57T74ag"
      },
      "source": [
        "## Installs and imports"
      ]
    },
    {
      "cell_type": "code",
      "execution_count": null,
      "metadata": {
        "colab": {
          "base_uri": "https://localhost:8080/"
        },
        "id": "OXC3dguV3cDb",
        "outputId": "dfb2eed4-edbe-41aa-8b88-7dfb7094f5a6"
      },
      "outputs": [
        {
          "name": "stdout",
          "output_type": "stream",
          "text": [
            "Looking in indexes: https://pypi.org/simple, https://us-python.pkg.dev/colab-wheels/public/simple/\n",
            "Requirement already satisfied: pip in /usr/local/lib/python3.7/dist-packages (22.2.2)\n",
            "\u001b[33mWARNING: Running pip as the 'root' user can result in broken permissions and conflicting behaviour with the system package manager. It is recommended to use a virtual environment instead: https://pip.pypa.io/warnings/venv\u001b[0m\u001b[33m\n",
            "\u001b[0mLooking in indexes: https://pypi.org/simple, https://us-python.pkg.dev/colab-wheels/public/simple/\n",
            "Requirement already satisfied: sentencepiece in /usr/local/lib/python3.7/dist-packages (0.1.97)\n",
            "\u001b[33mWARNING: Running pip as the 'root' user can result in broken permissions and conflicting behaviour with the system package manager. It is recommended to use a virtual environment instead: https://pip.pypa.io/warnings/venv\u001b[0m\u001b[33m\n",
            "\u001b[0mLooking in indexes: https://pypi.org/simple, https://us-python.pkg.dev/colab-wheels/public/simple/\n",
            "Requirement already satisfied: transformers in /usr/local/lib/python3.7/dist-packages (4.21.2)\n",
            "Requirement already satisfied: requests in /usr/local/lib/python3.7/dist-packages (from transformers) (2.23.0)\n",
            "Requirement already satisfied: filelock in /usr/local/lib/python3.7/dist-packages (from transformers) (3.8.0)\n",
            "Requirement already satisfied: regex!=2019.12.17 in /usr/local/lib/python3.7/dist-packages (from transformers) (2022.6.2)\n",
            "Requirement already satisfied: pyyaml>=5.1 in /usr/local/lib/python3.7/dist-packages (from transformers) (6.0)\n",
            "Requirement already satisfied: importlib-metadata in /usr/local/lib/python3.7/dist-packages (from transformers) (4.12.0)\n",
            "Requirement already satisfied: huggingface-hub<1.0,>=0.1.0 in /usr/local/lib/python3.7/dist-packages (from transformers) (0.9.1)\n",
            "Requirement already satisfied: numpy>=1.17 in /usr/local/lib/python3.7/dist-packages (from transformers) (1.21.6)\n",
            "Requirement already satisfied: packaging>=20.0 in /usr/local/lib/python3.7/dist-packages (from transformers) (21.3)\n",
            "Requirement already satisfied: tokenizers!=0.11.3,<0.13,>=0.11.1 in /usr/local/lib/python3.7/dist-packages (from transformers) (0.12.1)\n",
            "Requirement already satisfied: tqdm>=4.27 in /usr/local/lib/python3.7/dist-packages (from transformers) (4.64.0)\n",
            "Requirement already satisfied: typing-extensions>=3.7.4.3 in /usr/local/lib/python3.7/dist-packages (from huggingface-hub<1.0,>=0.1.0->transformers) (4.1.1)\n",
            "Requirement already satisfied: pyparsing!=3.0.5,>=2.0.2 in /usr/local/lib/python3.7/dist-packages (from packaging>=20.0->transformers) (3.0.9)\n",
            "Requirement already satisfied: zipp>=0.5 in /usr/local/lib/python3.7/dist-packages (from importlib-metadata->transformers) (3.8.1)\n",
            "Requirement already satisfied: urllib3!=1.25.0,!=1.25.1,<1.26,>=1.21.1 in /usr/local/lib/python3.7/dist-packages (from requests->transformers) (1.24.3)\n",
            "Requirement already satisfied: idna<3,>=2.5 in /usr/local/lib/python3.7/dist-packages (from requests->transformers) (2.10)\n",
            "Requirement already satisfied: certifi>=2017.4.17 in /usr/local/lib/python3.7/dist-packages (from requests->transformers) (2022.6.15)\n",
            "Requirement already satisfied: chardet<4,>=3.0.2 in /usr/local/lib/python3.7/dist-packages (from requests->transformers) (3.0.4)\n",
            "\u001b[33mWARNING: Running pip as the 'root' user can result in broken permissions and conflicting behaviour with the system package manager. It is recommended to use a virtual environment instead: https://pip.pypa.io/warnings/venv\u001b[0m\u001b[33m\n",
            "\u001b[0m"
          ]
        }
      ],
      "source": [
        "!pip install --upgrade pip\n",
        "!pip install sentencepiece\n",
        "!pip install transformers"
      ]
    },
    {
      "cell_type": "code",
      "execution_count": null,
      "metadata": {
        "id": "YWLw1TOn6P_u"
      },
      "outputs": [],
      "source": [
        "from transformers import AutoTokenizer, AutoModel, AutoConfig\n",
        "from transformers import AutoModelForSequenceClassification\n",
        "from torch.utils.data import DataLoader\n",
        "import torch\n",
        "import numpy as np\n",
        "from scipy.special import softmax\n",
        "import pandas as pd"
      ]
    },
    {
      "cell_type": "markdown",
      "metadata": {
        "id": "ZhakJgjlIvC0"
      },
      "source": [
        "## Load the dataset"
      ]
    },
    {
      "cell_type": "code",
      "execution_count": null,
      "metadata": {
        "colab": {
          "base_uri": "https://localhost:8080/"
        },
        "id": "SdF8_83MoZoX",
        "outputId": "b2b05576-ea3d-4e1a-a00f-2cdf70e216e3"
      },
      "outputs": [
        {
          "name": "stdout",
          "output_type": "stream",
          "text": [
            "Mounted at /content/drive\n"
          ]
        }
      ],
      "source": [
        "from google.colab import drive\n",
        "drive.mount('/content/drive')"
      ]
    },
    {
      "cell_type": "code",
      "execution_count": 53,
      "metadata": {
        "colab": {
          "base_uri": "https://localhost:8080/"
        },
        "id": "teKUk0fDnmdr",
        "outputId": "24dfcc9c-b09c-4022-f892-9d17a15e2b89"
      },
      "outputs": [
        {
          "output_type": "stream",
          "name": "stderr",
          "text": [
            "/usr/local/lib/python3.7/dist-packages/IPython/core/interactiveshell.py:3326: FutureWarning: The error_bad_lines argument has been deprecated and will be removed in a future version.\n",
            "\n",
            "\n",
            "  exec(code_obj, self.user_global_ns, self.user_ns)\n"
          ]
        }
      ],
      "source": [
        "df = pd.read_csv (\n",
        "    '/content/drive/My Drive/The-London-Story/CrowdTangle-TLS-workspace/2022-07-11-16-34-58-CEST-Historical-Report-2016-12-31--2022-07-11.csv',\n",
        "    low_memory=False,  \n",
        "    lineterminator='\\n', \n",
        "    sep=';', \n",
        "    error_bad_lines=False)"
      ]
    },
    {
      "cell_type": "code",
      "execution_count": 54,
      "metadata": {
        "colab": {
          "base_uri": "https://localhost:8080/"
        },
        "id": "YQXCiF8c5P_f",
        "outputId": "21dd27bd-a1e8-4ecc-aab4-0cc2680b8555"
      },
      "outputs": [
        {
          "output_type": "execute_result",
          "data": {
            "text/plain": [
              "(604703, 40)"
            ]
          },
          "metadata": {},
          "execution_count": 54
        }
      ],
      "source": [
        "df.shape"
      ]
    },
    {
      "cell_type": "markdown",
      "metadata": {
        "id": "PLxL6Vco5XW7"
      },
      "source": [
        "Because the size of the dataset is too large, let's choose first N values from the dataframe"
      ]
    },
    {
      "cell_type": "code",
      "execution_count": 55,
      "metadata": {
        "id": "qQyCR93d5bZ4"
      },
      "outputs": [],
      "source": [
        "df = df.head(50000)"
      ]
    },
    {
      "cell_type": "code",
      "execution_count": 56,
      "metadata": {
        "colab": {
          "base_uri": "https://localhost:8080/"
        },
        "id": "ok7vKk0trU7o",
        "outputId": "399aceeb-2d0a-4a9f-904f-d73eaa2a96df"
      },
      "outputs": [
        {
          "output_type": "execute_result",
          "data": {
            "text/plain": [
              "Index(['account.name', 'account.handle', 'platformId', 'Page Category',\n",
              "       'Page Admin Top Country', 'Page Description', 'Page Created',\n",
              "       'subscriberCount', 'Followers at Posting', 'date', 'Post Created Date',\n",
              "       'Post Created Time', 'type', 'totalInteraction',\n",
              "       'statistics.actual.likeCount', 'statistics.actual.commentCount',\n",
              "       'statistics.actual.shareCount', 'statistics.actual.loveCount',\n",
              "       'statistics.actual.wowCount', 'statistics.actual.hahaCount',\n",
              "       'statistics.actual.sadCount', 'statistics.actual.angryCount',\n",
              "       'statistics.actual.careCount', 'Video Share Status', 'Is Video Owner?',\n",
              "       'statistics.actual.videoPostViewCount',\n",
              "       'statistics.actual.videoTotalViewCount',\n",
              "       'statistics.actual.videoAllCrosspostsViewCount', 'Video Length',\n",
              "       'postUrl', 'message', 'expandedLinks.original',\n",
              "       'expandedLinks.expanded', 'imageText', 'title', 'description',\n",
              "       'brandedContentSponsor.platformId', 'brandedContentSponsor.name',\n",
              "       'brandedContentSponsor.category', 'score'],\n",
              "      dtype='object')"
            ]
          },
          "metadata": {},
          "execution_count": 56
        }
      ],
      "source": [
        "df.columns"
      ]
    },
    {
      "cell_type": "markdown",
      "metadata": {
        "id": "Du4gebhw6Caq"
      },
      "source": [
        "## Preprocess the dataset"
      ]
    },
    {
      "cell_type": "markdown",
      "source": [
        "Replace NaN values in particular columns with empty string"
      ],
      "metadata": {
        "id": "uD-6VBjWLOXt"
      }
    },
    {
      "cell_type": "code",
      "execution_count": 57,
      "metadata": {
        "id": "HcSI87356G_4"
      },
      "outputs": [],
      "source": [
        "df.message = df.message.fillna('')\n",
        "df.description = df.description.fillna('')\n",
        "df.imageText = df.imageText.fillna('')"
      ]
    },
    {
      "cell_type": "code",
      "execution_count": 58,
      "metadata": {
        "colab": {
          "base_uri": "https://localhost:8080/"
        },
        "id": "PvoZWwh56ZMB",
        "outputId": "a2a0925f-d55a-4161-8fcf-e4b955510cc3"
      },
      "outputs": [
        {
          "output_type": "stream",
          "name": "stdout",
          "text": [
            "Total number of entries in the message dataset: 50000\n"
          ]
        },
        {
          "output_type": "execute_result",
          "data": {
            "text/plain": [
              "49995    \n",
              "49996    \n",
              "49997    \n",
              "49998    \n",
              "49999    \n",
              "Name: message, dtype: object"
            ]
          },
          "metadata": {},
          "execution_count": 58
        }
      ],
      "source": [
        "message_df = df ['message']\n",
        "description_df = df ['description']\n",
        "imageText_df = df ['imageText']\n",
        "\n",
        "print (\"Total number of entries in the message dataset:\", len(message_df))\n",
        "message_df.tail()"
      ]
    },
    {
      "cell_type": "code",
      "execution_count": 59,
      "metadata": {
        "colab": {
          "base_uri": "https://localhost:8080/"
        },
        "id": "a74LCumO6pVV",
        "outputId": "6b12fa2f-4407-4c6f-a3f8-5f342f3c06c7"
      },
      "outputs": [
        {
          "output_type": "execute_result",
          "data": {
            "text/plain": [
              "0                                                     \n",
              "1    बॉलीवुड के मशहूर अभिनेता अनिल कपूर एक ऐसे अभिन...\n",
              "2    बॉलीवुड के मशहूर अभिनेता अनिल कपूर एक ऐसे अभिन...\n",
              "3    पेट्रोलियम कंपनियों ने रोज की तरह आज सुबह 6 बज...\n",
              "4    पेट्रोलियम कंपनियों ने रोज की तरह आज सुबह 6 बज...\n",
              "Name: description, dtype: object"
            ]
          },
          "metadata": {},
          "execution_count": 59
        }
      ],
      "source": [
        "description_df.head()"
      ]
    },
    {
      "cell_type": "code",
      "execution_count": 60,
      "metadata": {
        "colab": {
          "base_uri": "https://localhost:8080/"
        },
        "id": "KrqFPVPm6qyq",
        "outputId": "201293d4-5884-4249-8985-9d67d84bd03f"
      },
      "outputs": [
        {
          "output_type": "execute_result",
          "data": {
            "text/plain": [
              "49995    पराज्वजन्य Panchjanya @epanchjanya ब्राह्मणों ...\n",
              "49996    पराज्वजन्य Panchjanya @epanchjanya ब्राह्मणों ...\n",
              "49997    पराज्वजन्य Panchjanya @epanchjanya ब्राह्मणों ...\n",
              "49998    पराज्वजन्य Panchjanya @epanchjanya ब्राह्मणों ...\n",
              "49999    पराज्वजन्य Panchjanya @epanchjanya ब्राह्मणों ...\n",
              "Name: imageText, dtype: object"
            ]
          },
          "metadata": {},
          "execution_count": 60
        }
      ],
      "source": [
        "imageText_df.tail()"
      ]
    },
    {
      "cell_type": "markdown",
      "metadata": {
        "id": "zXQLSArgINHg"
      },
      "source": [
        "Convert dataframes to lists"
      ]
    },
    {
      "cell_type": "code",
      "execution_count": 61,
      "metadata": {
        "id": "0ExAJbWd6wnZ"
      },
      "outputs": [],
      "source": [
        "message_list = message_df.tolist()\n",
        "description_list = description_df.tolist()\n",
        "imageText_list = imageText_df.tolist()"
      ]
    },
    {
      "cell_type": "markdown",
      "metadata": {
        "id": "u_g5cUVkIP72"
      },
      "source": [
        "Drop empty strings"
      ]
    },
    {
      "cell_type": "code",
      "execution_count": 62,
      "metadata": {
        "id": "Nw6R_scwIEdH"
      },
      "outputs": [],
      "source": [
        "message_list = [x for x in message_list if x]\n",
        "description_list = [x for x in description_list if x]\n",
        "imageText_list = [x for x in imageText_list if x]"
      ]
    },
    {
      "cell_type": "code",
      "source": [
        "print (\"Total number of text entries in the message list:\", len(message_list))\n",
        "print (\"Total number of text entries in the description list:\", len(description_list))\n",
        "print (\"Total number of text entries in the image text list:\", len(imageText_list))"
      ],
      "metadata": {
        "colab": {
          "base_uri": "https://localhost:8080/"
        },
        "id": "nSqx4Lo0Ls46",
        "outputId": "a362a991-cd00-4d10-9218-19c7ed558a98"
      },
      "execution_count": 63,
      "outputs": [
        {
          "output_type": "stream",
          "name": "stdout",
          "text": [
            "Total number of text entries in the message list: 31614\n",
            "Total number of text entries in the description list: 28374\n",
            "Total number of text entries in the image text list: 13417\n"
          ]
        }
      ]
    },
    {
      "cell_type": "markdown",
      "metadata": {
        "id": "1S6wUeuqIsVI"
      },
      "source": [
        "## Load the model and the tokenizer"
      ]
    },
    {
      "cell_type": "markdown",
      "source": [
        "Declare parameters"
      ],
      "metadata": {
        "id": "gOa3xo8JM4Tp"
      }
    },
    {
      "cell_type": "code",
      "execution_count": 67,
      "metadata": {
        "id": "j8v8HPwj6P_y"
      },
      "outputs": [],
      "source": [
        "CUDA = True # set to true if using GPU (Runtime -> Change runtime Type -> GPU)\n",
        "\n",
        "BATCH_SIZE = 32\n",
        "\n",
        "n_labels =3\n",
        "\n",
        "labels_ids = {'negative': 0, 'neutral': 1, 'positive':2}\n",
        "\n",
        "max_length = 312\n",
        "\n",
        "MODEL_PATH = \"/content/drive/MyDrive/The-London-Story/Supervised-NLP-tasks/Models/HI-model-89%/full_model.pt\" # path to our fine-tuned model"
      ]
    },
    {
      "cell_type": "markdown",
      "source": [
        "Load model and the tokenizer"
      ],
      "metadata": {
        "id": "F92VQ1ypM6h1"
      }
    },
    {
      "cell_type": "code",
      "source": [
        "MODEL = torch.load (MODEL_PATH) \n",
        "model = MODEL.eval()\n",
        "\n",
        "tokenizer = AutoTokenizer.from_pretrained(\"cardiffnlp/twitter-xlm-roberta-base\", use_fast=True)"
      ],
      "metadata": {
        "id": "fcalRJcxNAm_"
      },
      "execution_count": 68,
      "outputs": []
    },
    {
      "cell_type": "markdown",
      "metadata": {
        "id": "K9fsx8PPInt-"
      },
      "source": [
        "## Define the forward prediction function"
      ]
    },
    {
      "cell_type": "code",
      "execution_count": null,
      "metadata": {
        "id": "c-Bhdf7cGsIX"
      },
      "outputs": [],
      "source": [
        "def forward(text, cuda=True):\n",
        "  #text = preprocess(text)\n",
        "  encoded_input = tokenizer(text, return_tensors='pt', padding=True, truncation=True, max_length = 312)\n",
        "  if cuda:\n",
        "    encoded_input.to('cuda')\n",
        "    output = model(**encoded_input)\n",
        "    scores = output[0].detach().cpu().numpy()\n",
        "  else:\n",
        "    output = model(**encoded_input)\n",
        "    scores = output[0].detach().numpy()\n",
        "  \n",
        "  scores = softmax(scores, axis=-1)\n",
        "  return scores"
      ]
    },
    {
      "cell_type": "markdown",
      "source": [
        "## Run forward prediction"
      ],
      "metadata": {
        "id": "aekU4dsyNew8"
      }
    },
    {
      "cell_type": "code",
      "execution_count": 75,
      "metadata": {
        "colab": {
          "base_uri": "https://localhost:8080/"
        },
        "id": "eRCMvwm7GsK3",
        "outputId": "67dace1d-0b14-4cf0-bf52-c8a31269d355"
      },
      "outputs": [
        {
          "output_type": "stream",
          "name": "stdout",
          "text": [
            "Batch  1  of  988\n",
            "Batch  2  of  988\n",
            "Batch  3  of  988\n",
            "Batch  4  of  988\n",
            "Batch  5  of  988\n",
            "Batch  6  of  988\n",
            "Batch  7  of  988\n",
            "Batch  8  of  988\n",
            "Batch  9  of  988\n",
            "Batch  10  of  988\n",
            "Batch  11  of  988\n",
            "Batch  12  of  988\n",
            "Batch  13  of  988\n",
            "Batch  14  of  988\n",
            "Batch  15  of  988\n",
            "Batch  16  of  988\n",
            "Batch  17  of  988\n",
            "Batch  18  of  988\n",
            "Batch  19  of  988\n",
            "Batch  20  of  988\n",
            "Batch  21  of  988\n",
            "Batch  22  of  988\n",
            "Batch  23  of  988\n",
            "Batch  24  of  988\n",
            "Batch  25  of  988\n",
            "Batch  26  of  988\n",
            "Batch  27  of  988\n",
            "Batch  28  of  988\n",
            "Batch  29  of  988\n",
            "Batch  30  of  988\n",
            "Batch  31  of  988\n",
            "Batch  32  of  988\n",
            "Batch  33  of  988\n",
            "Batch  34  of  988\n",
            "Batch  35  of  988\n",
            "Batch  36  of  988\n",
            "Batch  37  of  988\n",
            "Batch  38  of  988\n",
            "Batch  39  of  988\n",
            "Batch  40  of  988\n",
            "Batch  41  of  988\n",
            "Batch  42  of  988\n",
            "Batch  43  of  988\n",
            "Batch  44  of  988\n",
            "Batch  45  of  988\n",
            "Batch  46  of  988\n",
            "Batch  47  of  988\n",
            "Batch  48  of  988\n",
            "Batch  49  of  988\n",
            "Batch  50  of  988\n",
            "Batch  51  of  988\n",
            "Batch  52  of  988\n",
            "Batch  53  of  988\n",
            "Batch  54  of  988\n",
            "Batch  55  of  988\n",
            "Batch  56  of  988\n",
            "Batch  57  of  988\n",
            "Batch  58  of  988\n",
            "Batch  59  of  988\n",
            "Batch  60  of  988\n",
            "Batch  61  of  988\n",
            "Batch  62  of  988\n",
            "Batch  63  of  988\n",
            "Batch  64  of  988\n",
            "Batch  65  of  988\n",
            "Batch  66  of  988\n",
            "Batch  67  of  988\n",
            "Batch  68  of  988\n",
            "Batch  69  of  988\n",
            "Batch  70  of  988\n",
            "Batch  71  of  988\n",
            "Batch  72  of  988\n",
            "Batch  73  of  988\n",
            "Batch  74  of  988\n",
            "Batch  75  of  988\n",
            "Batch  76  of  988\n",
            "Batch  77  of  988\n",
            "Batch  78  of  988\n",
            "Batch  79  of  988\n",
            "Batch  80  of  988\n",
            "Batch  81  of  988\n",
            "Batch  82  of  988\n",
            "Batch  83  of  988\n",
            "Batch  84  of  988\n",
            "Batch  85  of  988\n",
            "Batch  86  of  988\n",
            "Batch  87  of  988\n",
            "Batch  88  of  988\n",
            "Batch  89  of  988\n",
            "Batch  90  of  988\n",
            "Batch  91  of  988\n",
            "Batch  92  of  988\n",
            "Batch  93  of  988\n",
            "Batch  94  of  988\n",
            "Batch  95  of  988\n",
            "Batch  96  of  988\n",
            "Batch  97  of  988\n",
            "Batch  98  of  988\n",
            "Batch  99  of  988\n",
            "Batch  100  of  988\n",
            "Batch  101  of  988\n",
            "Batch  102  of  988\n",
            "Batch  103  of  988\n",
            "Batch  104  of  988\n",
            "Batch  105  of  988\n",
            "Batch  106  of  988\n",
            "Batch  107  of  988\n",
            "Batch  108  of  988\n",
            "Batch  109  of  988\n",
            "Batch  110  of  988\n",
            "Batch  111  of  988\n",
            "Batch  112  of  988\n",
            "Batch  113  of  988\n",
            "Batch  114  of  988\n",
            "Batch  115  of  988\n",
            "Batch  116  of  988\n",
            "Batch  117  of  988\n",
            "Batch  118  of  988\n",
            "Batch  119  of  988\n",
            "Batch  120  of  988\n",
            "Batch  121  of  988\n",
            "Batch  122  of  988\n",
            "Batch  123  of  988\n",
            "Batch  124  of  988\n",
            "Batch  125  of  988\n",
            "Batch  126  of  988\n",
            "Batch  127  of  988\n",
            "Batch  128  of  988\n",
            "Batch  129  of  988\n",
            "Batch  130  of  988\n",
            "Batch  131  of  988\n",
            "Batch  132  of  988\n",
            "Batch  133  of  988\n",
            "Batch  134  of  988\n",
            "Batch  135  of  988\n",
            "Batch  136  of  988\n",
            "Batch  137  of  988\n",
            "Batch  138  of  988\n",
            "Batch  139  of  988\n",
            "Batch  140  of  988\n",
            "Batch  141  of  988\n",
            "Batch  142  of  988\n",
            "Batch  143  of  988\n",
            "Batch  144  of  988\n",
            "Batch  145  of  988\n",
            "Batch  146  of  988\n",
            "Batch  147  of  988\n",
            "Batch  148  of  988\n",
            "Batch  149  of  988\n",
            "Batch  150  of  988\n",
            "Batch  151  of  988\n",
            "Batch  152  of  988\n",
            "Batch  153  of  988\n",
            "Batch  154  of  988\n",
            "Batch  155  of  988\n",
            "Batch  156  of  988\n",
            "Batch  157  of  988\n",
            "Batch  158  of  988\n",
            "Batch  159  of  988\n",
            "Batch  160  of  988\n",
            "Batch  161  of  988\n",
            "Batch  162  of  988\n",
            "Batch  163  of  988\n",
            "Batch  164  of  988\n",
            "Batch  165  of  988\n",
            "Batch  166  of  988\n",
            "Batch  167  of  988\n",
            "Batch  168  of  988\n",
            "Batch  169  of  988\n",
            "Batch  170  of  988\n",
            "Batch  171  of  988\n",
            "Batch  172  of  988\n",
            "Batch  173  of  988\n",
            "Batch  174  of  988\n",
            "Batch  175  of  988\n",
            "Batch  176  of  988\n",
            "Batch  177  of  988\n",
            "Batch  178  of  988\n",
            "Batch  179  of  988\n",
            "Batch  180  of  988\n",
            "Batch  181  of  988\n",
            "Batch  182  of  988\n",
            "Batch  183  of  988\n",
            "Batch  184  of  988\n",
            "Batch  185  of  988\n",
            "Batch  186  of  988\n",
            "Batch  187  of  988\n",
            "Batch  188  of  988\n",
            "Batch  189  of  988\n",
            "Batch  190  of  988\n",
            "Batch  191  of  988\n",
            "Batch  192  of  988\n",
            "Batch  193  of  988\n",
            "Batch  194  of  988\n",
            "Batch  195  of  988\n",
            "Batch  196  of  988\n",
            "Batch  197  of  988\n",
            "Batch  198  of  988\n",
            "Batch  199  of  988\n",
            "Batch  200  of  988\n",
            "Batch  201  of  988\n",
            "Batch  202  of  988\n",
            "Batch  203  of  988\n",
            "Batch  204  of  988\n",
            "Batch  205  of  988\n",
            "Batch  206  of  988\n",
            "Batch  207  of  988\n",
            "Batch  208  of  988\n",
            "Batch  209  of  988\n",
            "Batch  210  of  988\n",
            "Batch  211  of  988\n",
            "Batch  212  of  988\n",
            "Batch  213  of  988\n",
            "Batch  214  of  988\n",
            "Batch  215  of  988\n",
            "Batch  216  of  988\n",
            "Batch  217  of  988\n",
            "Batch  218  of  988\n",
            "Batch  219  of  988\n",
            "Batch  220  of  988\n",
            "Batch  221  of  988\n",
            "Batch  222  of  988\n",
            "Batch  223  of  988\n",
            "Batch  224  of  988\n",
            "Batch  225  of  988\n",
            "Batch  226  of  988\n",
            "Batch  227  of  988\n",
            "Batch  228  of  988\n",
            "Batch  229  of  988\n",
            "Batch  230  of  988\n",
            "Batch  231  of  988\n",
            "Batch  232  of  988\n",
            "Batch  233  of  988\n",
            "Batch  234  of  988\n",
            "Batch  235  of  988\n",
            "Batch  236  of  988\n",
            "Batch  237  of  988\n",
            "Batch  238  of  988\n",
            "Batch  239  of  988\n",
            "Batch  240  of  988\n",
            "Batch  241  of  988\n",
            "Batch  242  of  988\n",
            "Batch  243  of  988\n",
            "Batch  244  of  988\n",
            "Batch  245  of  988\n",
            "Batch  246  of  988\n",
            "Batch  247  of  988\n",
            "Batch  248  of  988\n",
            "Batch  249  of  988\n",
            "Batch  250  of  988\n",
            "Batch  251  of  988\n",
            "Batch  252  of  988\n",
            "Batch  253  of  988\n",
            "Batch  254  of  988\n",
            "Batch  255  of  988\n",
            "Batch  256  of  988\n",
            "Batch  257  of  988\n",
            "Batch  258  of  988\n",
            "Batch  259  of  988\n",
            "Batch  260  of  988\n",
            "Batch  261  of  988\n",
            "Batch  262  of  988\n",
            "Batch  263  of  988\n",
            "Batch  264  of  988\n",
            "Batch  265  of  988\n",
            "Batch  266  of  988\n",
            "Batch  267  of  988\n",
            "Batch  268  of  988\n",
            "Batch  269  of  988\n",
            "Batch  270  of  988\n",
            "Batch  271  of  988\n",
            "Batch  272  of  988\n",
            "Batch  273  of  988\n",
            "Batch  274  of  988\n",
            "Batch  275  of  988\n",
            "Batch  276  of  988\n",
            "Batch  277  of  988\n",
            "Batch  278  of  988\n",
            "Batch  279  of  988\n",
            "Batch  280  of  988\n",
            "Batch  281  of  988\n",
            "Batch  282  of  988\n",
            "Batch  283  of  988\n",
            "Batch  284  of  988\n",
            "Batch  285  of  988\n",
            "Batch  286  of  988\n",
            "Batch  287  of  988\n",
            "Batch  288  of  988\n",
            "Batch  289  of  988\n",
            "Batch  290  of  988\n",
            "Batch  291  of  988\n",
            "Batch  292  of  988\n",
            "Batch  293  of  988\n",
            "Batch  294  of  988\n",
            "Batch  295  of  988\n",
            "Batch  296  of  988\n",
            "Batch  297  of  988\n",
            "Batch  298  of  988\n",
            "Batch  299  of  988\n",
            "Batch  300  of  988\n",
            "Batch  301  of  988\n",
            "Batch  302  of  988\n",
            "Batch  303  of  988\n",
            "Batch  304  of  988\n",
            "Batch  305  of  988\n",
            "Batch  306  of  988\n",
            "Batch  307  of  988\n",
            "Batch  308  of  988\n",
            "Batch  309  of  988\n",
            "Batch  310  of  988\n",
            "Batch  311  of  988\n",
            "Batch  312  of  988\n",
            "Batch  313  of  988\n",
            "Batch  314  of  988\n",
            "Batch  315  of  988\n",
            "Batch  316  of  988\n",
            "Batch  317  of  988\n",
            "Batch  318  of  988\n",
            "Batch  319  of  988\n",
            "Batch  320  of  988\n",
            "Batch  321  of  988\n",
            "Batch  322  of  988\n",
            "Batch  323  of  988\n",
            "Batch  324  of  988\n",
            "Batch  325  of  988\n",
            "Batch  326  of  988\n",
            "Batch  327  of  988\n",
            "Batch  328  of  988\n",
            "Batch  329  of  988\n",
            "Batch  330  of  988\n",
            "Batch  331  of  988\n",
            "Batch  332  of  988\n",
            "Batch  333  of  988\n",
            "Batch  334  of  988\n",
            "Batch  335  of  988\n",
            "Batch  336  of  988\n",
            "Batch  337  of  988\n",
            "Batch  338  of  988\n",
            "Batch  339  of  988\n",
            "Batch  340  of  988\n",
            "Batch  341  of  988\n",
            "Batch  342  of  988\n",
            "Batch  343  of  988\n",
            "Batch  344  of  988\n",
            "Batch  345  of  988\n",
            "Batch  346  of  988\n",
            "Batch  347  of  988\n",
            "Batch  348  of  988\n",
            "Batch  349  of  988\n",
            "Batch  350  of  988\n",
            "Batch  351  of  988\n",
            "Batch  352  of  988\n",
            "Batch  353  of  988\n",
            "Batch  354  of  988\n",
            "Batch  355  of  988\n",
            "Batch  356  of  988\n",
            "Batch  357  of  988\n",
            "Batch  358  of  988\n",
            "Batch  359  of  988\n",
            "Batch  360  of  988\n",
            "Batch  361  of  988\n",
            "Batch  362  of  988\n",
            "Batch  363  of  988\n",
            "Batch  364  of  988\n",
            "Batch  365  of  988\n",
            "Batch  366  of  988\n",
            "Batch  367  of  988\n",
            "Batch  368  of  988\n",
            "Batch  369  of  988\n",
            "Batch  370  of  988\n",
            "Batch  371  of  988\n",
            "Batch  372  of  988\n",
            "Batch  373  of  988\n",
            "Batch  374  of  988\n",
            "Batch  375  of  988\n",
            "Batch  376  of  988\n",
            "Batch  377  of  988\n",
            "Batch  378  of  988\n",
            "Batch  379  of  988\n",
            "Batch  380  of  988\n",
            "Batch  381  of  988\n",
            "Batch  382  of  988\n",
            "Batch  383  of  988\n",
            "Batch  384  of  988\n",
            "Batch  385  of  988\n",
            "Batch  386  of  988\n",
            "Batch  387  of  988\n",
            "Batch  388  of  988\n",
            "Batch  389  of  988\n",
            "Batch  390  of  988\n",
            "Batch  391  of  988\n",
            "Batch  392  of  988\n",
            "Batch  393  of  988\n",
            "Batch  394  of  988\n",
            "Batch  395  of  988\n",
            "Batch  396  of  988\n",
            "Batch  397  of  988\n",
            "Batch  398  of  988\n",
            "Batch  399  of  988\n",
            "Batch  400  of  988\n",
            "Batch  401  of  988\n",
            "Batch  402  of  988\n",
            "Batch  403  of  988\n",
            "Batch  404  of  988\n",
            "Batch  405  of  988\n",
            "Batch  406  of  988\n",
            "Batch  407  of  988\n",
            "Batch  408  of  988\n",
            "Batch  409  of  988\n",
            "Batch  410  of  988\n",
            "Batch  411  of  988\n",
            "Batch  412  of  988\n",
            "Batch  413  of  988\n",
            "Batch  414  of  988\n",
            "Batch  415  of  988\n",
            "Batch  416  of  988\n",
            "Batch  417  of  988\n",
            "Batch  418  of  988\n",
            "Batch  419  of  988\n",
            "Batch  420  of  988\n",
            "Batch  421  of  988\n",
            "Batch  422  of  988\n",
            "Batch  423  of  988\n",
            "Batch  424  of  988\n",
            "Batch  425  of  988\n",
            "Batch  426  of  988\n",
            "Batch  427  of  988\n",
            "Batch  428  of  988\n",
            "Batch  429  of  988\n",
            "Batch  430  of  988\n",
            "Batch  431  of  988\n",
            "Batch  432  of  988\n",
            "Batch  433  of  988\n",
            "Batch  434  of  988\n",
            "Batch  435  of  988\n",
            "Batch  436  of  988\n",
            "Batch  437  of  988\n",
            "Batch  438  of  988\n",
            "Batch  439  of  988\n",
            "Batch  440  of  988\n",
            "Batch  441  of  988\n",
            "Batch  442  of  988\n",
            "Batch  443  of  988\n",
            "Batch  444  of  988\n",
            "Batch  445  of  988\n",
            "Batch  446  of  988\n",
            "Batch  447  of  988\n",
            "Batch  448  of  988\n",
            "Batch  449  of  988\n",
            "Batch  450  of  988\n",
            "Batch  451  of  988\n",
            "Batch  452  of  988\n",
            "Batch  453  of  988\n",
            "Batch  454  of  988\n",
            "Batch  455  of  988\n",
            "Batch  456  of  988\n",
            "Batch  457  of  988\n",
            "Batch  458  of  988\n",
            "Batch  459  of  988\n",
            "Batch  460  of  988\n",
            "Batch  461  of  988\n",
            "Batch  462  of  988\n",
            "Batch  463  of  988\n",
            "Batch  464  of  988\n",
            "Batch  465  of  988\n",
            "Batch  466  of  988\n",
            "Batch  467  of  988\n",
            "Batch  468  of  988\n",
            "Batch  469  of  988\n",
            "Batch  470  of  988\n",
            "Batch  471  of  988\n",
            "Batch  472  of  988\n",
            "Batch  473  of  988\n",
            "Batch  474  of  988\n",
            "Batch  475  of  988\n",
            "Batch  476  of  988\n",
            "Batch  477  of  988\n",
            "Batch  478  of  988\n",
            "Batch  479  of  988\n",
            "Batch  480  of  988\n",
            "Batch  481  of  988\n",
            "Batch  482  of  988\n",
            "Batch  483  of  988\n",
            "Batch  484  of  988\n",
            "Batch  485  of  988\n",
            "Batch  486  of  988\n",
            "Batch  487  of  988\n",
            "Batch  488  of  988\n",
            "Batch  489  of  988\n",
            "Batch  490  of  988\n",
            "Batch  491  of  988\n",
            "Batch  492  of  988\n",
            "Batch  493  of  988\n",
            "Batch  494  of  988\n",
            "Batch  495  of  988\n",
            "Batch  496  of  988\n",
            "Batch  497  of  988\n",
            "Batch  498  of  988\n",
            "Batch  499  of  988\n",
            "Batch  500  of  988\n",
            "Batch  501  of  988\n",
            "Batch  502  of  988\n",
            "Batch  503  of  988\n",
            "Batch  504  of  988\n",
            "Batch  505  of  988\n",
            "Batch  506  of  988\n",
            "Batch  507  of  988\n",
            "Batch  508  of  988\n",
            "Batch  509  of  988\n",
            "Batch  510  of  988\n",
            "Batch  511  of  988\n",
            "Batch  512  of  988\n",
            "Batch  513  of  988\n",
            "Batch  514  of  988\n",
            "Batch  515  of  988\n",
            "Batch  516  of  988\n",
            "Batch  517  of  988\n",
            "Batch  518  of  988\n",
            "Batch  519  of  988\n",
            "Batch  520  of  988\n",
            "Batch  521  of  988\n",
            "Batch  522  of  988\n",
            "Batch  523  of  988\n",
            "Batch  524  of  988\n",
            "Batch  525  of  988\n",
            "Batch  526  of  988\n",
            "Batch  527  of  988\n",
            "Batch  528  of  988\n",
            "Batch  529  of  988\n",
            "Batch  530  of  988\n",
            "Batch  531  of  988\n",
            "Batch  532  of  988\n",
            "Batch  533  of  988\n",
            "Batch  534  of  988\n",
            "Batch  535  of  988\n",
            "Batch  536  of  988\n",
            "Batch  537  of  988\n",
            "Batch  538  of  988\n",
            "Batch  539  of  988\n",
            "Batch  540  of  988\n",
            "Batch  541  of  988\n",
            "Batch  542  of  988\n",
            "Batch  543  of  988\n",
            "Batch  544  of  988\n",
            "Batch  545  of  988\n",
            "Batch  546  of  988\n",
            "Batch  547  of  988\n",
            "Batch  548  of  988\n",
            "Batch  549  of  988\n",
            "Batch  550  of  988\n",
            "Batch  551  of  988\n",
            "Batch  552  of  988\n",
            "Batch  553  of  988\n",
            "Batch  554  of  988\n",
            "Batch  555  of  988\n",
            "Batch  556  of  988\n",
            "Batch  557  of  988\n",
            "Batch  558  of  988\n",
            "Batch  559  of  988\n",
            "Batch  560  of  988\n",
            "Batch  561  of  988\n",
            "Batch  562  of  988\n",
            "Batch  563  of  988\n",
            "Batch  564  of  988\n",
            "Batch  565  of  988\n",
            "Batch  566  of  988\n",
            "Batch  567  of  988\n",
            "Batch  568  of  988\n",
            "Batch  569  of  988\n",
            "Batch  570  of  988\n",
            "Batch  571  of  988\n",
            "Batch  572  of  988\n",
            "Batch  573  of  988\n",
            "Batch  574  of  988\n",
            "Batch  575  of  988\n",
            "Batch  576  of  988\n",
            "Batch  577  of  988\n",
            "Batch  578  of  988\n",
            "Batch  579  of  988\n",
            "Batch  580  of  988\n",
            "Batch  581  of  988\n",
            "Batch  582  of  988\n",
            "Batch  583  of  988\n",
            "Batch  584  of  988\n",
            "Batch  585  of  988\n",
            "Batch  586  of  988\n",
            "Batch  587  of  988\n",
            "Batch  588  of  988\n",
            "Batch  589  of  988\n",
            "Batch  590  of  988\n",
            "Batch  591  of  988\n",
            "Batch  592  of  988\n",
            "Batch  593  of  988\n",
            "Batch  594  of  988\n",
            "Batch  595  of  988\n",
            "Batch  596  of  988\n",
            "Batch  597  of  988\n",
            "Batch  598  of  988\n",
            "Batch  599  of  988\n",
            "Batch  600  of  988\n",
            "Batch  601  of  988\n",
            "Batch  602  of  988\n",
            "Batch  603  of  988\n",
            "Batch  604  of  988\n",
            "Batch  605  of  988\n",
            "Batch  606  of  988\n",
            "Batch  607  of  988\n",
            "Batch  608  of  988\n",
            "Batch  609  of  988\n",
            "Batch  610  of  988\n",
            "Batch  611  of  988\n",
            "Batch  612  of  988\n",
            "Batch  613  of  988\n",
            "Batch  614  of  988\n",
            "Batch  615  of  988\n",
            "Batch  616  of  988\n",
            "Batch  617  of  988\n",
            "Batch  618  of  988\n",
            "Batch  619  of  988\n",
            "Batch  620  of  988\n",
            "Batch  621  of  988\n",
            "Batch  622  of  988\n",
            "Batch  623  of  988\n",
            "Batch  624  of  988\n",
            "Batch  625  of  988\n",
            "Batch  626  of  988\n",
            "Batch  627  of  988\n",
            "Batch  628  of  988\n",
            "Batch  629  of  988\n",
            "Batch  630  of  988\n",
            "Batch  631  of  988\n",
            "Batch  632  of  988\n",
            "Batch  633  of  988\n",
            "Batch  634  of  988\n",
            "Batch  635  of  988\n",
            "Batch  636  of  988\n",
            "Batch  637  of  988\n",
            "Batch  638  of  988\n",
            "Batch  639  of  988\n",
            "Batch  640  of  988\n",
            "Batch  641  of  988\n",
            "Batch  642  of  988\n",
            "Batch  643  of  988\n",
            "Batch  644  of  988\n",
            "Batch  645  of  988\n",
            "Batch  646  of  988\n",
            "Batch  647  of  988\n",
            "Batch  648  of  988\n",
            "Batch  649  of  988\n",
            "Batch  650  of  988\n",
            "Batch  651  of  988\n",
            "Batch  652  of  988\n",
            "Batch  653  of  988\n",
            "Batch  654  of  988\n",
            "Batch  655  of  988\n",
            "Batch  656  of  988\n",
            "Batch  657  of  988\n",
            "Batch  658  of  988\n",
            "Batch  659  of  988\n",
            "Batch  660  of  988\n",
            "Batch  661  of  988\n",
            "Batch  662  of  988\n",
            "Batch  663  of  988\n",
            "Batch  664  of  988\n",
            "Batch  665  of  988\n",
            "Batch  666  of  988\n",
            "Batch  667  of  988\n",
            "Batch  668  of  988\n",
            "Batch  669  of  988\n",
            "Batch  670  of  988\n",
            "Batch  671  of  988\n",
            "Batch  672  of  988\n",
            "Batch  673  of  988\n",
            "Batch  674  of  988\n",
            "Batch  675  of  988\n",
            "Batch  676  of  988\n",
            "Batch  677  of  988\n",
            "Batch  678  of  988\n",
            "Batch  679  of  988\n",
            "Batch  680  of  988\n",
            "Batch  681  of  988\n",
            "Batch  682  of  988\n",
            "Batch  683  of  988\n",
            "Batch  684  of  988\n",
            "Batch  685  of  988\n",
            "Batch  686  of  988\n",
            "Batch  687  of  988\n",
            "Batch  688  of  988\n",
            "Batch  689  of  988\n",
            "Batch  690  of  988\n",
            "Batch  691  of  988\n",
            "Batch  692  of  988\n",
            "Batch  693  of  988\n",
            "Batch  694  of  988\n",
            "Batch  695  of  988\n",
            "Batch  696  of  988\n",
            "Batch  697  of  988\n",
            "Batch  698  of  988\n",
            "Batch  699  of  988\n",
            "Batch  700  of  988\n",
            "Batch  701  of  988\n",
            "Batch  702  of  988\n",
            "Batch  703  of  988\n",
            "Batch  704  of  988\n",
            "Batch  705  of  988\n",
            "Batch  706  of  988\n",
            "Batch  707  of  988\n",
            "Batch  708  of  988\n",
            "Batch  709  of  988\n",
            "Batch  710  of  988\n",
            "Batch  711  of  988\n",
            "Batch  712  of  988\n",
            "Batch  713  of  988\n",
            "Batch  714  of  988\n",
            "Batch  715  of  988\n",
            "Batch  716  of  988\n",
            "Batch  717  of  988\n",
            "Batch  718  of  988\n",
            "Batch  719  of  988\n",
            "Batch  720  of  988\n",
            "Batch  721  of  988\n",
            "Batch  722  of  988\n",
            "Batch  723  of  988\n",
            "Batch  724  of  988\n",
            "Batch  725  of  988\n",
            "Batch  726  of  988\n",
            "Batch  727  of  988\n",
            "Batch  728  of  988\n",
            "Batch  729  of  988\n",
            "Batch  730  of  988\n",
            "Batch  731  of  988\n",
            "Batch  732  of  988\n",
            "Batch  733  of  988\n",
            "Batch  734  of  988\n",
            "Batch  735  of  988\n",
            "Batch  736  of  988\n",
            "Batch  737  of  988\n",
            "Batch  738  of  988\n",
            "Batch  739  of  988\n",
            "Batch  740  of  988\n",
            "Batch  741  of  988\n",
            "Batch  742  of  988\n",
            "Batch  743  of  988\n",
            "Batch  744  of  988\n",
            "Batch  745  of  988\n",
            "Batch  746  of  988\n",
            "Batch  747  of  988\n",
            "Batch  748  of  988\n",
            "Batch  749  of  988\n",
            "Batch  750  of  988\n",
            "Batch  751  of  988\n",
            "Batch  752  of  988\n",
            "Batch  753  of  988\n",
            "Batch  754  of  988\n",
            "Batch  755  of  988\n",
            "Batch  756  of  988\n",
            "Batch  757  of  988\n",
            "Batch  758  of  988\n",
            "Batch  759  of  988\n",
            "Batch  760  of  988\n",
            "Batch  761  of  988\n",
            "Batch  762  of  988\n",
            "Batch  763  of  988\n",
            "Batch  764  of  988\n",
            "Batch  765  of  988\n",
            "Batch  766  of  988\n",
            "Batch  767  of  988\n",
            "Batch  768  of  988\n",
            "Batch  769  of  988\n",
            "Batch  770  of  988\n",
            "Batch  771  of  988\n",
            "Batch  772  of  988\n",
            "Batch  773  of  988\n",
            "Batch  774  of  988\n",
            "Batch  775  of  988\n",
            "Batch  776  of  988\n",
            "Batch  777  of  988\n",
            "Batch  778  of  988\n",
            "Batch  779  of  988\n",
            "Batch  780  of  988\n",
            "Batch  781  of  988\n",
            "Batch  782  of  988\n",
            "Batch  783  of  988\n",
            "Batch  784  of  988\n",
            "Batch  785  of  988\n",
            "Batch  786  of  988\n",
            "Batch  787  of  988\n",
            "Batch  788  of  988\n",
            "Batch  789  of  988\n",
            "Batch  790  of  988\n",
            "Batch  791  of  988\n",
            "Batch  792  of  988\n",
            "Batch  793  of  988\n",
            "Batch  794  of  988\n",
            "Batch  795  of  988\n",
            "Batch  796  of  988\n",
            "Batch  797  of  988\n",
            "Batch  798  of  988\n",
            "Batch  799  of  988\n",
            "Batch  800  of  988\n",
            "Batch  801  of  988\n",
            "Batch  802  of  988\n",
            "Batch  803  of  988\n",
            "Batch  804  of  988\n",
            "Batch  805  of  988\n",
            "Batch  806  of  988\n",
            "Batch  807  of  988\n",
            "Batch  808  of  988\n",
            "Batch  809  of  988\n",
            "Batch  810  of  988\n",
            "Batch  811  of  988\n",
            "Batch  812  of  988\n",
            "Batch  813  of  988\n",
            "Batch  814  of  988\n",
            "Batch  815  of  988\n",
            "Batch  816  of  988\n",
            "Batch  817  of  988\n",
            "Batch  818  of  988\n",
            "Batch  819  of  988\n",
            "Batch  820  of  988\n",
            "Batch  821  of  988\n",
            "Batch  822  of  988\n",
            "Batch  823  of  988\n",
            "Batch  824  of  988\n",
            "Batch  825  of  988\n",
            "Batch  826  of  988\n",
            "Batch  827  of  988\n",
            "Batch  828  of  988\n",
            "Batch  829  of  988\n",
            "Batch  830  of  988\n",
            "Batch  831  of  988\n",
            "Batch  832  of  988\n",
            "Batch  833  of  988\n",
            "Batch  834  of  988\n",
            "Batch  835  of  988\n",
            "Batch  836  of  988\n",
            "Batch  837  of  988\n",
            "Batch  838  of  988\n",
            "Batch  839  of  988\n",
            "Batch  840  of  988\n",
            "Batch  841  of  988\n",
            "Batch  842  of  988\n",
            "Batch  843  of  988\n",
            "Batch  844  of  988\n",
            "Batch  845  of  988\n",
            "Batch  846  of  988\n",
            "Batch  847  of  988\n",
            "Batch  848  of  988\n",
            "Batch  849  of  988\n",
            "Batch  850  of  988\n",
            "Batch  851  of  988\n",
            "Batch  852  of  988\n",
            "Batch  853  of  988\n",
            "Batch  854  of  988\n",
            "Batch  855  of  988\n",
            "Batch  856  of  988\n",
            "Batch  857  of  988\n",
            "Batch  858  of  988\n",
            "Batch  859  of  988\n",
            "Batch  860  of  988\n",
            "Batch  861  of  988\n",
            "Batch  862  of  988\n",
            "Batch  863  of  988\n",
            "Batch  864  of  988\n",
            "Batch  865  of  988\n",
            "Batch  866  of  988\n",
            "Batch  867  of  988\n",
            "Batch  868  of  988\n",
            "Batch  869  of  988\n",
            "Batch  870  of  988\n",
            "Batch  871  of  988\n",
            "Batch  872  of  988\n",
            "Batch  873  of  988\n",
            "Batch  874  of  988\n",
            "Batch  875  of  988\n",
            "Batch  876  of  988\n",
            "Batch  877  of  988\n",
            "Batch  878  of  988\n",
            "Batch  879  of  988\n",
            "Batch  880  of  988\n",
            "Batch  881  of  988\n",
            "Batch  882  of  988\n",
            "Batch  883  of  988\n",
            "Batch  884  of  988\n",
            "Batch  885  of  988\n",
            "Batch  886  of  988\n",
            "Batch  887  of  988\n",
            "Batch  888  of  988\n",
            "Batch  889  of  988\n",
            "Batch  890  of  988\n",
            "Batch  891  of  988\n",
            "Batch  892  of  988\n",
            "Batch  893  of  988\n",
            "Batch  894  of  988\n",
            "Batch  895  of  988\n",
            "Batch  896  of  988\n",
            "Batch  897  of  988\n",
            "Batch  898  of  988\n",
            "Batch  899  of  988\n",
            "Batch  900  of  988\n",
            "Batch  901  of  988\n",
            "Batch  902  of  988\n",
            "Batch  903  of  988\n",
            "Batch  904  of  988\n",
            "Batch  905  of  988\n",
            "Batch  906  of  988\n",
            "Batch  907  of  988\n",
            "Batch  908  of  988\n",
            "Batch  909  of  988\n",
            "Batch  910  of  988\n",
            "Batch  911  of  988\n",
            "Batch  912  of  988\n",
            "Batch  913  of  988\n",
            "Batch  914  of  988\n",
            "Batch  915  of  988\n",
            "Batch  916  of  988\n",
            "Batch  917  of  988\n",
            "Batch  918  of  988\n",
            "Batch  919  of  988\n",
            "Batch  920  of  988\n",
            "Batch  921  of  988\n",
            "Batch  922  of  988\n",
            "Batch  923  of  988\n",
            "Batch  924  of  988\n",
            "Batch  925  of  988\n",
            "Batch  926  of  988\n",
            "Batch  927  of  988\n",
            "Batch  928  of  988\n",
            "Batch  929  of  988\n",
            "Batch  930  of  988\n",
            "Batch  931  of  988\n",
            "Batch  932  of  988\n",
            "Batch  933  of  988\n",
            "Batch  934  of  988\n",
            "Batch  935  of  988\n",
            "Batch  936  of  988\n",
            "Batch  937  of  988\n",
            "Batch  938  of  988\n",
            "Batch  939  of  988\n",
            "Batch  940  of  988\n",
            "Batch  941  of  988\n",
            "Batch  942  of  988\n",
            "Batch  943  of  988\n",
            "Batch  944  of  988\n",
            "Batch  945  of  988\n",
            "Batch  946  of  988\n",
            "Batch  947  of  988\n",
            "Batch  948  of  988\n",
            "Batch  949  of  988\n",
            "Batch  950  of  988\n",
            "Batch  951  of  988\n",
            "Batch  952  of  988\n",
            "Batch  953  of  988\n",
            "Batch  954  of  988\n",
            "Batch  955  of  988\n",
            "Batch  956  of  988\n",
            "Batch  957  of  988\n",
            "Batch  958  of  988\n",
            "Batch  959  of  988\n",
            "Batch  960  of  988\n",
            "Batch  961  of  988\n",
            "Batch  962  of  988\n",
            "Batch  963  of  988\n",
            "Batch  964  of  988\n",
            "Batch  965  of  988\n",
            "Batch  966  of  988\n",
            "Batch  967  of  988\n",
            "Batch  968  of  988\n",
            "Batch  969  of  988\n",
            "Batch  970  of  988\n",
            "Batch  971  of  988\n",
            "Batch  972  of  988\n",
            "Batch  973  of  988\n",
            "Batch  974  of  988\n",
            "Batch  975  of  988\n",
            "Batch  976  of  988\n",
            "Batch  977  of  988\n",
            "Batch  978  of  988\n",
            "Batch  979  of  988\n",
            "Batch  980  of  988\n",
            "Batch  981  of  988\n",
            "Batch  982  of  988\n",
            "Batch  983  of  988\n",
            "Batch  984  of  988\n",
            "Batch  985  of  988\n",
            "Batch  986  of  988\n",
            "Batch  987  of  988\n",
            "Batch  988  of  988\n"
          ]
        }
      ],
      "source": [
        "dl = DataLoader(message_list, batch_size=BATCH_SIZE)\n",
        "\n",
        "all_preds = []\n",
        "\n",
        "for idx, batch in enumerate(dl):\n",
        "  print('Batch ',idx+1,' of ',len(dl))\n",
        "  text = batch\n",
        "  if (text != \"nan\"):\n",
        "    scores = forward(text, cuda=CUDA)\n",
        "    preds = np.argmax(scores, axis=-1)\n",
        "    all_preds.extend(preds)"
      ]
    },
    {
      "cell_type": "markdown",
      "source": [
        "## Inspect and save the results "
      ],
      "metadata": {
        "id": "infdv5G4PoVQ"
      }
    },
    {
      "cell_type": "markdown",
      "source": [
        "Plot the histogram of predicted labels"
      ],
      "metadata": {
        "id": "ZuaigSY9NyWu"
      }
    },
    {
      "cell_type": "code",
      "execution_count": 85,
      "metadata": {
        "colab": {
          "base_uri": "https://localhost:8080/",
          "height": 514
        },
        "id": "Q4QkhqkRDOuO",
        "outputId": "286bc933-b5ca-4ed1-d85d-71ad6fe37fe3"
      },
      "outputs": [
        {
          "output_type": "display_data",
          "data": {
            "text/plain": [
              "<Figure size 648x576 with 1 Axes>"
            ],
            "image/png": "[encoded data removed]"
          },
          "metadata": {
            "needs_background": "light"
          }
        }
      ],
      "source": [
        "from matplotlib import pyplot as plt\n",
        "\n",
        "x = np.arange(n_labels)\n",
        "bins = np.linspace(0, 2, 10)\n",
        "\n",
        "fig, ax = plt.subplots (figsize=(9, 8))\n",
        "plt.title ('Histogram of all the predicted labels\\n')\n",
        "plt.hist ([all_preds], bins, label=['label'] )\n",
        "ax.set_ylabel ('Count')\n",
        "ax.set_xticks (x)\n",
        "ax.set_xticklabels (list(labels_ids.keys()))\n",
        "ax.legend (loc='lower right')\n",
        "plt.show ()"
      ]
    },
    {
      "cell_type": "markdown",
      "source": [
        "Save the results into a dataframe and a csv"
      ],
      "metadata": {
        "id": "NXDDa81_PuJb"
      }
    },
    {
      "cell_type": "code",
      "source": [
        "df_message_pred = pd.DataFrame()\n",
        "\n",
        "#preds_list = [\"negative\" if i== 0 else \"neutral\" if i==1 else \"positive\" for i in all_preds]\n",
        "\n",
        "df_message_pred ['message text']  = message_list\n",
        "df_message_pred ['predicted label'] = all_preds\n",
        "\n",
        "df_message_pred.to_csv('/content/drive/MyDrive/The-London-Story/Supervised-NLP-tasks/Results/CT_message_pred.csv', index=False)"
      ],
      "metadata": {
        "id": "444L492bPwqi"
      },
      "execution_count": 86,
      "outputs": []
    }
  ],
  "metadata": {
    "accelerator": "GPU",
    "colab": {
      "collapsed_sections": [],
      "name": "Forward-prediction-of-Hindi-sentiment-analysis.ipynb",
      "provenance": []
    },
    "kernelspec": {
      "display_name": "Python 3",
      "language": "python",
      "name": "python3"
    },
    "language_info": {
      "codemirror_mode": {
        "name": "ipython",
        "version": 3
      },
      "file_extension": ".py",
      "mimetype": "text/x-python",
      "name": "python",
      "nbconvert_exporter": "python",
      "pygments_lexer": "ipython3",
      "version": "3.6.9"
    }
  },
  "nbformat": 4,
  "nbformat_minor": 0
}