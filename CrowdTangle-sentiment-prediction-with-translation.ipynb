{
  "cells": [
    {
      "cell_type": "markdown",
      "source": [
        "# Forward prediction of Hindi sentiment(s) in CrowdTangle dataset along with translation"
      ],
      "metadata": {
        "id": "vdh6covbp1Gr"
      }
    },
    {
      "cell_type": "markdown",
      "metadata": {
        "id": "6rk1dAvSLOtS"
      },
      "source": [
        "## Installs and imports"
      ]
    },
    {
      "cell_type": "code",
      "execution_count": 20,
      "metadata": {
        "colab": {
          "base_uri": "https://localhost:8080/"
        },
        "id": "nKftOu9fyC8R",
        "outputId": "1a0373fd-42f5-461a-e23a-cab8fe43a356"
      },
      "outputs": [
        {
          "output_type": "stream",
          "name": "stdout",
          "text": [
            "Looking in indexes: https://pypi.org/simple, https://us-python.pkg.dev/colab-wheels/public/simple/\n",
            "Requirement already satisfied: pip in /usr/local/lib/python3.7/dist-packages (22.2.2)\n",
            "\u001b[33mWARNING: Running pip as the 'root' user can result in broken permissions and conflicting behaviour with the system package manager. It is recommended to use a virtual environment instead: https://pip.pypa.io/warnings/venv\u001b[0m\u001b[33m\n",
            "\u001b[0mLooking in indexes: https://pypi.org/simple, https://us-python.pkg.dev/colab-wheels/public/simple/\n",
            "Requirement already satisfied: sentencepiece in /usr/local/lib/python3.7/dist-packages (0.1.97)\n",
            "\u001b[33mWARNING: Running pip as the 'root' user can result in broken permissions and conflicting behaviour with the system package manager. It is recommended to use a virtual environment instead: https://pip.pypa.io/warnings/venv\u001b[0m\u001b[33m\n",
            "\u001b[0mLooking in indexes: https://pypi.org/simple, https://us-python.pkg.dev/colab-wheels/public/simple/\n",
            "Requirement already satisfied: datasets in /usr/local/lib/python3.7/dist-packages (2.5.1)\n",
            "Requirement already satisfied: dill<0.3.6 in /usr/local/lib/python3.7/dist-packages (from datasets) (0.3.5.1)\n",
            "Requirement already satisfied: importlib-metadata in /usr/local/lib/python3.7/dist-packages (from datasets) (4.12.0)\n",
            "Requirement already satisfied: huggingface-hub<1.0.0,>=0.1.0 in /usr/local/lib/python3.7/dist-packages (from datasets) (0.10.0)\n",
            "Requirement already satisfied: numpy>=1.17 in /usr/local/lib/python3.7/dist-packages (from datasets) (1.21.6)\n",
            "Requirement already satisfied: multiprocess in /usr/local/lib/python3.7/dist-packages (from datasets) (0.70.13)\n",
            "Requirement already satisfied: aiohttp in /usr/local/lib/python3.7/dist-packages (from datasets) (3.8.1)\n",
            "Requirement already satisfied: packaging in /usr/local/lib/python3.7/dist-packages (from datasets) (21.3)\n",
            "Requirement already satisfied: pyarrow>=6.0.0 in /usr/local/lib/python3.7/dist-packages (from datasets) (6.0.1)\n",
            "Requirement already satisfied: responses<0.19 in /usr/local/lib/python3.7/dist-packages (from datasets) (0.18.0)\n",
            "Requirement already satisfied: tqdm>=4.62.1 in /usr/local/lib/python3.7/dist-packages (from datasets) (4.64.1)\n",
            "Requirement already satisfied: requests>=2.19.0 in /usr/local/lib/python3.7/dist-packages (from datasets) (2.23.0)\n",
            "Requirement already satisfied: xxhash in /usr/local/lib/python3.7/dist-packages (from datasets) (3.0.0)\n",
            "Requirement already satisfied: fsspec[http]>=2021.11.1 in /usr/local/lib/python3.7/dist-packages (from datasets) (2022.8.2)\n",
            "Requirement already satisfied: pandas in /usr/local/lib/python3.7/dist-packages (from datasets) (1.3.5)\n",
            "Requirement already satisfied: async-timeout<5.0,>=4.0.0a3 in /usr/local/lib/python3.7/dist-packages (from aiohttp->datasets) (4.0.2)\n",
            "Requirement already satisfied: charset-normalizer<3.0,>=2.0 in /usr/local/lib/python3.7/dist-packages (from aiohttp->datasets) (2.1.1)\n",
            "Requirement already satisfied: aiosignal>=1.1.2 in /usr/local/lib/python3.7/dist-packages (from aiohttp->datasets) (1.2.0)\n",
            "Requirement already satisfied: multidict<7.0,>=4.5 in /usr/local/lib/python3.7/dist-packages (from aiohttp->datasets) (6.0.2)\n",
            "Requirement already satisfied: yarl<2.0,>=1.0 in /usr/local/lib/python3.7/dist-packages (from aiohttp->datasets) (1.8.1)\n",
            "Requirement already satisfied: attrs>=17.3.0 in /usr/local/lib/python3.7/dist-packages (from aiohttp->datasets) (22.1.0)\n",
            "Requirement already satisfied: frozenlist>=1.1.1 in /usr/local/lib/python3.7/dist-packages (from aiohttp->datasets) (1.3.1)\n",
            "Requirement already satisfied: typing-extensions>=3.7.4 in /usr/local/lib/python3.7/dist-packages (from aiohttp->datasets) (4.1.1)\n",
            "Requirement already satisfied: asynctest==0.13.0 in /usr/local/lib/python3.7/dist-packages (from aiohttp->datasets) (0.13.0)\n",
            "Requirement already satisfied: filelock in /usr/local/lib/python3.7/dist-packages (from huggingface-hub<1.0.0,>=0.1.0->datasets) (3.8.0)\n",
            "Requirement already satisfied: pyyaml>=5.1 in /usr/local/lib/python3.7/dist-packages (from huggingface-hub<1.0.0,>=0.1.0->datasets) (6.0)\n",
            "Requirement already satisfied: pyparsing!=3.0.5,>=2.0.2 in /usr/local/lib/python3.7/dist-packages (from packaging->datasets) (3.0.9)\n",
            "Requirement already satisfied: urllib3!=1.25.0,!=1.25.1,<1.26,>=1.21.1 in /usr/local/lib/python3.7/dist-packages (from requests>=2.19.0->datasets) (1.25.11)\n",
            "Requirement already satisfied: idna<3,>=2.5 in /usr/local/lib/python3.7/dist-packages (from requests>=2.19.0->datasets) (2.10)\n",
            "Requirement already satisfied: chardet<4,>=3.0.2 in /usr/local/lib/python3.7/dist-packages (from requests>=2.19.0->datasets) (3.0.4)\n",
            "Requirement already satisfied: certifi>=2017.4.17 in /usr/local/lib/python3.7/dist-packages (from requests>=2.19.0->datasets) (2022.6.15)\n",
            "Requirement already satisfied: zipp>=0.5 in /usr/local/lib/python3.7/dist-packages (from importlib-metadata->datasets) (3.8.1)\n",
            "Requirement already satisfied: python-dateutil>=2.7.3 in /usr/local/lib/python3.7/dist-packages (from pandas->datasets) (2.8.2)\n",
            "Requirement already satisfied: pytz>=2017.3 in /usr/local/lib/python3.7/dist-packages (from pandas->datasets) (2022.2.1)\n",
            "Requirement already satisfied: six>=1.5 in /usr/local/lib/python3.7/dist-packages (from python-dateutil>=2.7.3->pandas->datasets) (1.15.0)\n",
            "\u001b[33mWARNING: Running pip as the 'root' user can result in broken permissions and conflicting behaviour with the system package manager. It is recommended to use a virtual environment instead: https://pip.pypa.io/warnings/venv\u001b[0m\u001b[33m\n",
            "\u001b[0mLooking in indexes: https://pypi.org/simple, https://us-python.pkg.dev/colab-wheels/public/simple/\n",
            "Requirement already satisfied: transformers in /usr/local/lib/python3.7/dist-packages (4.22.2)\n",
            "Requirement already satisfied: filelock in /usr/local/lib/python3.7/dist-packages (from transformers) (3.8.0)\n",
            "Requirement already satisfied: pyyaml>=5.1 in /usr/local/lib/python3.7/dist-packages (from transformers) (6.0)\n",
            "Requirement already satisfied: huggingface-hub<1.0,>=0.9.0 in /usr/local/lib/python3.7/dist-packages (from transformers) (0.10.0)\n",
            "Requirement already satisfied: requests in /usr/local/lib/python3.7/dist-packages (from transformers) (2.23.0)\n",
            "Requirement already satisfied: tqdm>=4.27 in /usr/local/lib/python3.7/dist-packages (from transformers) (4.64.1)\n",
            "Requirement already satisfied: tokenizers!=0.11.3,<0.13,>=0.11.1 in /usr/local/lib/python3.7/dist-packages (from transformers) (0.12.1)\n",
            "Requirement already satisfied: regex!=2019.12.17 in /usr/local/lib/python3.7/dist-packages (from transformers) (2022.6.2)\n",
            "Requirement already satisfied: numpy>=1.17 in /usr/local/lib/python3.7/dist-packages (from transformers) (1.21.6)\n",
            "Requirement already satisfied: importlib-metadata in /usr/local/lib/python3.7/dist-packages (from transformers) (4.12.0)\n",
            "Requirement already satisfied: packaging>=20.0 in /usr/local/lib/python3.7/dist-packages (from transformers) (21.3)\n",
            "Requirement already satisfied: typing-extensions>=3.7.4.3 in /usr/local/lib/python3.7/dist-packages (from huggingface-hub<1.0,>=0.9.0->transformers) (4.1.1)\n",
            "Requirement already satisfied: pyparsing!=3.0.5,>=2.0.2 in /usr/local/lib/python3.7/dist-packages (from packaging>=20.0->transformers) (3.0.9)\n",
            "Requirement already satisfied: zipp>=0.5 in /usr/local/lib/python3.7/dist-packages (from importlib-metadata->transformers) (3.8.1)\n",
            "Requirement already satisfied: chardet<4,>=3.0.2 in /usr/local/lib/python3.7/dist-packages (from requests->transformers) (3.0.4)\n",
            "Requirement already satisfied: urllib3!=1.25.0,!=1.25.1,<1.26,>=1.21.1 in /usr/local/lib/python3.7/dist-packages (from requests->transformers) (1.25.11)\n",
            "Requirement already satisfied: certifi>=2017.4.17 in /usr/local/lib/python3.7/dist-packages (from requests->transformers) (2022.6.15)\n",
            "Requirement already satisfied: idna<3,>=2.5 in /usr/local/lib/python3.7/dist-packages (from requests->transformers) (2.10)\n",
            "\u001b[33mWARNING: Running pip as the 'root' user can result in broken permissions and conflicting behaviour with the system package manager. It is recommended to use a virtual environment instead: https://pip.pypa.io/warnings/venv\u001b[0m\u001b[33m\n",
            "\u001b[0mLooking in indexes: https://pypi.org/simple, https://us-python.pkg.dev/colab-wheels/public/simple/\n",
            "Collecting sacremoses\n",
            "  Downloading sacremoses-0.0.53.tar.gz (880 kB)\n",
            "\u001b[2K     \u001b[90m━━━━━━━━━━━━━━━━━━━━━━━━━━━━━━━━━━━━━━\u001b[0m \u001b[32m880.6/880.6 kB\u001b[0m \u001b[31m42.4 MB/s\u001b[0m eta \u001b[36m0:00:00\u001b[0m\n",
            "\u001b[?25h  Preparing metadata (setup.py) ... \u001b[?25l\u001b[?25hdone\n",
            "Requirement already satisfied: regex in /usr/local/lib/python3.7/dist-packages (from sacremoses) (2022.6.2)\n",
            "Requirement already satisfied: six in /usr/local/lib/python3.7/dist-packages (from sacremoses) (1.15.0)\n",
            "Requirement already satisfied: click in /usr/local/lib/python3.7/dist-packages (from sacremoses) (7.1.2)\n",
            "Requirement already satisfied: joblib in /usr/local/lib/python3.7/dist-packages (from sacremoses) (1.1.0)\n",
            "Requirement already satisfied: tqdm in /usr/local/lib/python3.7/dist-packages (from sacremoses) (4.64.1)\n",
            "Building wheels for collected packages: sacremoses\n",
            "  Building wheel for sacremoses (setup.py) ... \u001b[?25l\u001b[?25hdone\n",
            "  Created wheel for sacremoses: filename=sacremoses-0.0.53-py3-none-any.whl size=895260 sha256=f3ebdb8a54bb06bbb513c98112f2d0b248526e0bba7d87608a1510891c62ae2a\n",
            "  Stored in directory: /root/.cache/pip/wheels/87/39/dd/a83eeef36d0bf98e7a4d1933a4ad2d660295a40613079bafc9\n",
            "Successfully built sacremoses\n",
            "Installing collected packages: sacremoses\n",
            "Successfully installed sacremoses-0.0.53\n",
            "\u001b[33mWARNING: Running pip as the 'root' user can result in broken permissions and conflicting behaviour with the system package manager. It is recommended to use a virtual environment instead: https://pip.pypa.io/warnings/venv\u001b[0m\u001b[33m\n",
            "\u001b[0m"
          ]
        }
      ],
      "source": [
        "!pip install --upgrade pip\n",
        "!pip install sentencepiece\n",
        "!pip install datasets\n",
        "!pip install transformers\n",
        "!pip install sacremoses"
      ]
    },
    {
      "cell_type": "code",
      "execution_count": 13,
      "metadata": {
        "id": "Y5f1fFbETSbM"
      },
      "outputs": [],
      "source": [
        "from transformers import AutoTokenizer, AutoConfig, AutoModelForSequenceClassification\n",
        "from transformers import MarianTokenizer, MarianMTModel\n",
        "\n",
        "from matplotlib import pyplot as plt\n",
        "from matplotlib.font_manager import FontProperties\n",
        "\n",
        "from scipy.special import softmax\n",
        "from torch.utils.data import DataLoader\n",
        "\n",
        "import numpy as np\n",
        "import pandas as pd\n",
        "import torch"
      ]
    },
    {
      "cell_type": "markdown",
      "source": [
        "## Global parameters"
      ],
      "metadata": {
        "id": "f3yV1dqVBJ2o"
      }
    },
    {
      "cell_type": "code",
      "source": [
        "device = torch.device('cuda' if torch.cuda.is_available() else 'cpu')\n",
        "\n",
        "max_length = 312\n",
        "\n",
        "BATCH_SIZE = 32"
      ],
      "metadata": {
        "id": "YQP6P3cgBMRt"
      },
      "execution_count": 43,
      "outputs": []
    },
    {
      "cell_type": "markdown",
      "metadata": {
        "id": "XWqZ7LGMFeHV"
      },
      "source": [
        "## Load the `CrowdTangle` dataset"
      ]
    },
    {
      "cell_type": "code",
      "execution_count": 3,
      "metadata": {
        "id": "dZ-s12zoL_1Q",
        "colab": {
          "base_uri": "https://localhost:8080/"
        },
        "outputId": "6090909f-c4de-4b7b-8651-7a407aed64c4"
      },
      "outputs": [
        {
          "output_type": "stream",
          "name": "stdout",
          "text": [
            "Mounted at /content/drive\n"
          ]
        }
      ],
      "source": [
        "from google.colab import drive\n",
        "drive.mount('/content/drive')"
      ]
    },
    {
      "cell_type": "code",
      "source": [
        "df = pd.read_csv (\n",
        "    '/content/drive/My Drive/The-London-Story/CrowdTangle-TLS-workspace/2022-07-11-16-34-58-CEST-Historical-Report-2016-12-31--2022-07-11.csv',\n",
        "    low_memory=False,  \n",
        "    lineterminator='\\n', \n",
        "    sep=';', \n",
        "    error_bad_lines=False)"
      ],
      "metadata": {
        "colab": {
          "base_uri": "https://localhost:8080/"
        },
        "id": "x-ykm1bLqhRO",
        "outputId": "4911c325-5c98-4fb3-90ab-303ed95034d8"
      },
      "execution_count": 4,
      "outputs": [
        {
          "output_type": "stream",
          "name": "stderr",
          "text": [
            "/usr/local/lib/python3.7/dist-packages/IPython/core/interactiveshell.py:3326: FutureWarning: The error_bad_lines argument has been deprecated and will be removed in a future version.\n",
            "\n",
            "\n",
            "  exec(code_obj, self.user_global_ns, self.user_ns)\n"
          ]
        }
      ]
    },
    {
      "cell_type": "code",
      "source": [
        "df.shape"
      ],
      "metadata": {
        "colab": {
          "base_uri": "https://localhost:8080/"
        },
        "id": "uQbWJhqPqmQP",
        "outputId": "7e7a62ef-39fe-4314-e6c9-e57ab99aa58c"
      },
      "execution_count": 5,
      "outputs": [
        {
          "output_type": "execute_result",
          "data": {
            "text/plain": [
              "(604703, 40)"
            ]
          },
          "metadata": {},
          "execution_count": 5
        }
      ]
    },
    {
      "cell_type": "markdown",
      "source": [
        "Because the size of the dataset is too large, let's choose N entries from the dataframe"
      ],
      "metadata": {
        "id": "PH02aXhgqoJl"
      }
    },
    {
      "cell_type": "code",
      "source": [
        "#df = df.head(500)\n",
        "df = df.sample(n = 500) # randomly select 500 entries"
      ],
      "metadata": {
        "id": "-R37iCUSqqmW"
      },
      "execution_count": 6,
      "outputs": []
    },
    {
      "cell_type": "code",
      "source": [
        "df.columns"
      ],
      "metadata": {
        "colab": {
          "base_uri": "https://localhost:8080/"
        },
        "id": "xkdDMZqKqvK7",
        "outputId": "f0b36b0d-08ab-4c92-cdc4-acff82c0cbbe"
      },
      "execution_count": 7,
      "outputs": [
        {
          "output_type": "execute_result",
          "data": {
            "text/plain": [
              "Index(['account.name', 'account.handle', 'platformId', 'Page Category',\n",
              "       'Page Admin Top Country', 'Page Description', 'Page Created',\n",
              "       'subscriberCount', 'Followers at Posting', 'date', 'Post Created Date',\n",
              "       'Post Created Time', 'type', 'totalInteraction',\n",
              "       'statistics.actual.likeCount', 'statistics.actual.commentCount',\n",
              "       'statistics.actual.shareCount', 'statistics.actual.loveCount',\n",
              "       'statistics.actual.wowCount', 'statistics.actual.hahaCount',\n",
              "       'statistics.actual.sadCount', 'statistics.actual.angryCount',\n",
              "       'statistics.actual.careCount', 'Video Share Status', 'Is Video Owner?',\n",
              "       'statistics.actual.videoPostViewCount',\n",
              "       'statistics.actual.videoTotalViewCount',\n",
              "       'statistics.actual.videoAllCrosspostsViewCount', 'Video Length',\n",
              "       'postUrl', 'message', 'expandedLinks.original',\n",
              "       'expandedLinks.expanded', 'imageText', 'title', 'description',\n",
              "       'brandedContentSponsor.platformId', 'brandedContentSponsor.name',\n",
              "       'brandedContentSponsor.category', 'score'],\n",
              "      dtype='object')"
            ]
          },
          "metadata": {},
          "execution_count": 7
        }
      ]
    },
    {
      "cell_type": "markdown",
      "source": [
        "## Data preprocessing"
      ],
      "metadata": {
        "id": "SBtNHbPOqzz9"
      }
    },
    {
      "cell_type": "markdown",
      "source": [
        "Replace NaN values in particular columns with empty string"
      ],
      "metadata": {
        "id": "UzlAZ2FtrFab"
      }
    },
    {
      "cell_type": "code",
      "source": [
        "df.message = df.message.fillna('')\n",
        "#df.description = df.description.fillna('')\n",
        "#df.imageText = df.imageText.fillna('')"
      ],
      "metadata": {
        "id": "VF_hTSmRrGRR"
      },
      "execution_count": 8,
      "outputs": []
    },
    {
      "cell_type": "markdown",
      "source": [
        "Extract particular columns and convert into lists"
      ],
      "metadata": {
        "id": "f1GJoq_B9wW3"
      }
    },
    {
      "cell_type": "code",
      "source": [
        "message_list = df ['message'].tolist()\n",
        "#imageText_list = df ['imageText'].tolist()\n",
        "\n",
        "print (\"Total number of entries in the dataset:\", len(message_list))"
      ],
      "metadata": {
        "colab": {
          "base_uri": "https://localhost:8080/"
        },
        "id": "do3WSEobrK1I",
        "outputId": "f4236228-7137-4684-bb71-7512133d7b35"
      },
      "execution_count": 9,
      "outputs": [
        {
          "output_type": "stream",
          "name": "stdout",
          "text": [
            "Total number of entries in the dataset: 500\n"
          ]
        }
      ]
    },
    {
      "cell_type": "markdown",
      "source": [
        "## Load the translation model and the tokenizer"
      ],
      "metadata": {
        "id": "ijeDhSRCAruB"
      }
    },
    {
      "cell_type": "markdown",
      "source": [
        "Define model parameters"
      ],
      "metadata": {
        "id": "xNTwesBpB2vx"
      }
    },
    {
      "cell_type": "code",
      "source": [
        "src = \"hi\"  # source language\n",
        "trg = \"en\"  # target language\n",
        "\n",
        "tr_model_name = f\"Helsinki-NLP/opus-mt-{src}-{trg}\""
      ],
      "metadata": {
        "id": "LHf4pi72B9JA"
      },
      "execution_count": null,
      "outputs": []
    },
    {
      "cell_type": "markdown",
      "source": [
        "Load the translation model"
      ],
      "metadata": {
        "id": "5FzbvWMpCAWZ"
      }
    },
    {
      "cell_type": "code",
      "source": [
        "tr_model = MarianMTModel.from_pretrained(tr_model_name)\n",
        "tr_model= tr_model.to(device)"
      ],
      "metadata": {
        "colab": {
          "base_uri": "https://localhost:8080/",
          "height": 81,
          "referenced_widgets": [
            "35cfc2fb3fad44958b81481027dc9f57",
            "2c58921b1e3f4ae08a17d72b0ca5e999",
            "bd71969bc318480bbc5c72ddf1ea9685",
            "96ad1e33f7be486ba286617bb774ec5c",
            "97c9cfa4fa9049c6bbdbc2c23230d836",
            "552a3a62c0984f018cf21f4f9c10f12c",
            "18a8ca682f68481d9cb2ce781a6e19e6",
            "79d4c6407a8e463fbe71e15030835912",
            "09b9c75fcb4e4e7e8087c9800dc63da5",
            "8b452695a0c6455f9d306aa376cbf30e",
            "a814baff8b2a404e85c8c3f71bb06f21",
            "9784ad32a82445b2bbe7b0dd088443a8",
            "fc1533f2d2c74f6eadbdb35339855b30",
            "046fa5084c6e444383fea992ef57ec65",
            "c092174d78ed4df6af4339567599ba90",
            "9b45ce37b44d407c81b3471678c05fb9",
            "eb9a8389dd0945f98d4006d1f571d1a1",
            "10e2ee2a59e649e8a4bad97f4544cc98",
            "3eb9458cad214f9abdd3501d88491450",
            "dc691443bc5f42858a881f78fe869264",
            "e0bf1c346b434296a91e9137124f7482",
            "d379a32e98c042c297b5943252217736"
          ]
        },
        "id": "M4mIGeCWAv8S",
        "outputId": "46b76fee-ba24-4c39-c9e8-f73c767da31c"
      },
      "execution_count": 18,
      "outputs": [
        {
          "output_type": "display_data",
          "data": {
            "text/plain": [
              "Downloading:   0%|          | 0.00/1.38k [00:00<?, ?B/s]"
            ],
            "application/vnd.jupyter.widget-view+json": {
              "version_major": 2,
              "version_minor": 0,
              "model_id": "35cfc2fb3fad44958b81481027dc9f57"
            }
          },
          "metadata": {}
        },
        {
          "output_type": "display_data",
          "data": {
            "text/plain": [
              "Downloading:   0%|          | 0.00/304M [00:00<?, ?B/s]"
            ],
            "application/vnd.jupyter.widget-view+json": {
              "version_major": 2,
              "version_minor": 0,
              "model_id": "9784ad32a82445b2bbe7b0dd088443a8"
            }
          },
          "metadata": {}
        }
      ]
    },
    {
      "cell_type": "markdown",
      "source": [
        "Load the tokenizer of the translation model"
      ],
      "metadata": {
        "id": "o4YCYzvQCDpN"
      }
    },
    {
      "cell_type": "code",
      "source": [
        "tr_tokenizer = MarianTokenizer.from_pretrained(tr_model_name)"
      ],
      "metadata": {
        "id": "FDRM6nh1BjlC"
      },
      "execution_count": 21,
      "outputs": []
    },
    {
      "cell_type": "markdown",
      "source": [
        "## Define the translation function"
      ],
      "metadata": {
        "id": "6etHBg_0CWqO"
      }
    },
    {
      "cell_type": "code",
      "source": [
        "def translate_hi_to_en (TEXT):\n",
        "  translated = tr_model.generate (**tr_tokenizer\n",
        "                                  (TEXT, \n",
        "                                   truncation=True, \n",
        "                                   padding=True, \n",
        "                                   max_length=max_length, \n",
        "                                   return_tensors=\"pt\"\n",
        "                                   ).to(device))\n",
        "  \n",
        "  return tr_tokenizer.batch_decode (translated, skip_special_tokens=True)[0]"
      ],
      "metadata": {
        "id": "BRYFGr5TCZbt"
      },
      "execution_count": 30,
      "outputs": []
    },
    {
      "cell_type": "code",
      "source": [
        "def translate_list (input_list):\n",
        "  translated_list = []\n",
        "\n",
        "  for i in range (len (input_list)):\n",
        "    if i % 100 == 0:\n",
        "      print('Example', i+1,' of ', len (input_list))\n",
        "\n",
        "    if (input_list[i] != ''):\n",
        "      translated_text = translate_hi_to_en (input_list[i])\n",
        "    else:\n",
        "       translated_text = ''\n",
        "\n",
        "    translated_list.append (translated_text)\n",
        "\n",
        "  return translated_list"
      ],
      "metadata": {
        "id": "uI9M6C-9DqiG"
      },
      "execution_count": 33,
      "outputs": []
    },
    {
      "cell_type": "markdown",
      "source": [
        "## Translate the dataset and append to the dataframe"
      ],
      "metadata": {
        "id": "ZPsfwVzRDWhA"
      }
    },
    {
      "cell_type": "code",
      "source": [
        "message_translated = translate_list (message_list)"
      ],
      "metadata": {
        "colab": {
          "base_uri": "https://localhost:8080/"
        },
        "id": "TIvoBqkGFd4c",
        "outputId": "9950d321-26ff-4074-8ce4-9a7596c4345c"
      },
      "execution_count": 34,
      "outputs": [
        {
          "output_type": "stream",
          "name": "stdout",
          "text": [
            "Example 1  of  500\n"
          ]
        },
        {
          "output_type": "stream",
          "name": "stderr",
          "text": [
            "/usr/local/lib/python3.7/dist-packages/transformers/generation_utils.py:1232: UserWarning: Neither `max_length` nor `max_new_tokens` has been set, `max_length` will default to 512 (`self.config.max_length`). Controlling `max_length` via the config is deprecated and `max_length` will be removed from the config in v5 of Transformers -- we recommend using `max_new_tokens` to control the maximum length of the generation.\n",
            "  UserWarning,\n"
          ]
        },
        {
          "output_type": "stream",
          "name": "stdout",
          "text": [
            "Example 101  of  500\n",
            "Example 201  of  500\n",
            "Example 301  of  500\n",
            "Example 401  of  500\n"
          ]
        }
      ]
    },
    {
      "cell_type": "code",
      "source": [
        "df ['message.translated'] = message_translated"
      ],
      "metadata": {
        "id": "0_IILhpDDcq9"
      },
      "execution_count": 35,
      "outputs": []
    },
    {
      "cell_type": "code",
      "source": [
        "df.head()"
      ],
      "metadata": {
        "colab": {
          "base_uri": "https://localhost:8080/",
          "height": 756
        },
        "id": "uwywthFZGaYK",
        "outputId": "81dd666e-2359-4fbc-a301-d6a63e6e0c04"
      },
      "execution_count": 36,
      "outputs": [
        {
          "output_type": "execute_result",
          "data": {
            "text/plain": [
              "                           account.name      account.handle       platformId  \\\n",
              "263518  पुष्पेंद्र कुलश्रेष्ठ फैंस क्लब      Pushpendrarss2  113214903796196   \n",
              "225363                 Ayodhya Junction     TheSanatanTales  104677788010605   \n",
              "186320  पुष्पेंद्र कुलश्रेष्ठ फैंस क्लब      Pushpendrarss2  113214903796196   \n",
              "513555             Ojasvi Akhand Bharat  OjasviAkhandBharat  574954365905490   \n",
              "11585                       IndiaVirals        udaanupdates  234540670328769   \n",
              "\n",
              "       Page Category Page Admin Top Country  \\\n",
              "263518     COMMUNITY                     IN   \n",
              "225363  SOCIETY_SITE                     IN   \n",
              "186320     COMMUNITY                     IN   \n",
              "513555   ORG_GENERAL                    NaN   \n",
              "11585      NEWS_SITE                     IN   \n",
              "\n",
              "                                         Page Description  \\\n",
              "263518  पेज से जुड़ने के लिए आपका धन्यवाद, आशा करते है ...   \n",
              "225363       Ayodhya Junction : The Hub of Positive Vibes   \n",
              "186320  पेज से जुड़ने के लिए आपका धन्यवाद, आशा करते है ...   \n",
              "513555                                       OjasviBharat   \n",
              "11585                                News & media website   \n",
              "\n",
              "               Page Created  subscriberCount  Followers at Posting  \\\n",
              "263518  2020-07-13 06:39:03          57057.0               89872.0   \n",
              "225363  2020-07-29 20:04:09         100737.0              100687.0   \n",
              "186320  2020-07-13 06:39:03          58902.0               91701.0   \n",
              "513555  2013-09-30 06:18:23              NaN                   NaN   \n",
              "11585   2017-01-08 06:52:04         546524.0              542506.0   \n",
              "\n",
              "                            date  ...  \\\n",
              "263518  2021-08-06 17:37:23 CEST  ...   \n",
              "225363  2021-09-23 06:30:46 CEST  ...   \n",
              "186320  2021-10-28 18:04:45 CEST  ...   \n",
              "513555  2019-10-25 06:14:08 CEST  ...   \n",
              "11585   2022-06-19 07:12:25 CEST  ...   \n",
              "\n",
              "                                   expandedLinks.original  \\\n",
              "263518  https://khabarbharattak.com/bjp-leader-talked-...   \n",
              "225363  https://appearnews.com/interview-question-hipp...   \n",
              "186320  https://sachkhabar.co.in/indian-army-preparing...   \n",
              "513555  https://www.facebook.com/HariomHealth22/photos...   \n",
              "11585   https://hindimoviekhabar.com/when-mms-of-these...   \n",
              "\n",
              "       expandedLinks.expanded imageText  \\\n",
              "263518                    NaN       NaN   \n",
              "225363                    NaN       NaN   \n",
              "186320                    NaN       NaN   \n",
              "513555                    NaN       NaN   \n",
              "11585                     NaN       NaN   \n",
              "\n",
              "                                                    title  \\\n",
              "263518  दिल्ली पुलिस ने केजरीवाल के साथ किया बड़ा कांड...   \n",
              "225363  Interview Question: किस जानवर का दूध गुलाबी रं...   \n",
              "186320  PoK को वापस लेने की तैयारी कर रही है भारतीय से...   \n",
              "513555                                      Hariom Health   \n",
              "11585   जब बॉलीवुड की इन 10 फेमस अभिनेत्रियों के MMS ह...   \n",
              "\n",
              "                                              description  \\\n",
              "263518  BJP leader talked about changing the uniform o...   \n",
              "225363  आज के समय में हर कोई चाहता है कि उसको कोई अच्छ...   \n",
              "186320  जैसा कि जम्मू कश्मीर अनुच्छेद 370 को बिल्कुल ह...   \n",
              "513555  प्याज के 141 चमत्कारिक औषधीय प्रयोग\\n=========...   \n",
              "11585   बॉलीवुड इंडस्ट्री और विवाद का एक दूसरे से काफी...   \n",
              "\n",
              "        brandedContentSponsor.platformId  brandedContentSponsor.name  \\\n",
              "263518                               NaN                         NaN   \n",
              "225363                               NaN                         NaN   \n",
              "186320                               NaN                         NaN   \n",
              "513555                               NaN                         NaN   \n",
              "11585                                NaN                         NaN   \n",
              "\n",
              "        brandedContentSponsor.category  score  \\\n",
              "263518                             NaN  -1.75   \n",
              "225363                             NaN    -39   \n",
              "186320                             NaN   8.21   \n",
              "513555                             NaN  -0.89   \n",
              "11585                              NaN     -4   \n",
              "\n",
              "                                       message.translated  \n",
              "263518  Delhi police arrested the illegal gang of cons...  \n",
              "225363       Interview: Which animal is the milk of pink?  \n",
              "186320  Preparing to take the POK back to the Indian a...  \n",
              "513555                                                     \n",
              "11585   When these 10-MS of Bhutwood's 10-MS leaks, pe...  \n",
              "\n",
              "[5 rows x 41 columns]"
            ],
            "text/html": [
              "\n",
              "  <div id=\"df-9b681cf8-4d17-43fa-8255-01f3afa2e7af\">\n",
              "    <div class=\"colab-df-container\">\n",
              "      <div>\n",
              "<style scoped>\n",
              "    .dataframe tbody tr th:only-of-type {\n",
              "        vertical-align: middle;\n",
              "    }\n",
              "\n",
              "    .dataframe tbody tr th {\n",
              "        vertical-align: top;\n",
              "    }\n",
              "\n",
              "    .dataframe thead th {\n",
              "        text-align: right;\n",
              "    }\n",
              "</style>\n",
              "<table border=\"1\" class=\"dataframe\">\n",
              "  <thead>\n",
              "    <tr style=\"text-align: right;\">\n",
              "      <th></th>\n",
              "      <th>account.name</th>\n",
              "      <th>account.handle</th>\n",
              "      <th>platformId</th>\n",
              "      <th>Page Category</th>\n",
              "      <th>Page Admin Top Country</th>\n",
              "      <th>Page Description</th>\n",
              "      <th>Page Created</th>\n",
              "      <th>subscriberCount</th>\n",
              "      <th>Followers at Posting</th>\n",
              "      <th>date</th>\n",
              "      <th>...</th>\n",
              "      <th>expandedLinks.original</th>\n",
              "      <th>expandedLinks.expanded</th>\n",
              "      <th>imageText</th>\n",
              "      <th>title</th>\n",
              "      <th>description</th>\n",
              "      <th>brandedContentSponsor.platformId</th>\n",
              "      <th>brandedContentSponsor.name</th>\n",
              "      <th>brandedContentSponsor.category</th>\n",
              "      <th>score</th>\n",
              "      <th>message.translated</th>\n",
              "    </tr>\n",
              "  </thead>\n",
              "  <tbody>\n",
              "    <tr>\n",
              "      <th>263518</th>\n",
              "      <td>पुष्पेंद्र कुलश्रेष्ठ फैंस क्लब</td>\n",
              "      <td>Pushpendrarss2</td>\n",
              "      <td>113214903796196</td>\n",
              "      <td>COMMUNITY</td>\n",
              "      <td>IN</td>\n",
              "      <td>पेज से जुड़ने के लिए आपका धन्यवाद, आशा करते है ...</td>\n",
              "      <td>2020-07-13 06:39:03</td>\n",
              "      <td>57057.0</td>\n",
              "      <td>89872.0</td>\n",
              "      <td>2021-08-06 17:37:23 CEST</td>\n",
              "      <td>...</td>\n",
              "      <td>https://khabarbharattak.com/bjp-leader-talked-...</td>\n",
              "      <td>NaN</td>\n",
              "      <td>NaN</td>\n",
              "      <td>दिल्ली पुलिस ने केजरीवाल के साथ किया बड़ा कांड...</td>\n",
              "      <td>BJP leader talked about changing the uniform o...</td>\n",
              "      <td>NaN</td>\n",
              "      <td>NaN</td>\n",
              "      <td>NaN</td>\n",
              "      <td>-1.75</td>\n",
              "      <td>Delhi police arrested the illegal gang of cons...</td>\n",
              "    </tr>\n",
              "    <tr>\n",
              "      <th>225363</th>\n",
              "      <td>Ayodhya Junction</td>\n",
              "      <td>TheSanatanTales</td>\n",
              "      <td>104677788010605</td>\n",
              "      <td>SOCIETY_SITE</td>\n",
              "      <td>IN</td>\n",
              "      <td>Ayodhya Junction : The Hub of Positive Vibes</td>\n",
              "      <td>2020-07-29 20:04:09</td>\n",
              "      <td>100737.0</td>\n",
              "      <td>100687.0</td>\n",
              "      <td>2021-09-23 06:30:46 CEST</td>\n",
              "      <td>...</td>\n",
              "      <td>https://appearnews.com/interview-question-hipp...</td>\n",
              "      <td>NaN</td>\n",
              "      <td>NaN</td>\n",
              "      <td>Interview Question: किस जानवर का दूध गुलाबी रं...</td>\n",
              "      <td>आज के समय में हर कोई चाहता है कि उसको कोई अच्छ...</td>\n",
              "      <td>NaN</td>\n",
              "      <td>NaN</td>\n",
              "      <td>NaN</td>\n",
              "      <td>-39</td>\n",
              "      <td>Interview: Which animal is the milk of pink?</td>\n",
              "    </tr>\n",
              "    <tr>\n",
              "      <th>186320</th>\n",
              "      <td>पुष्पेंद्र कुलश्रेष्ठ फैंस क्लब</td>\n",
              "      <td>Pushpendrarss2</td>\n",
              "      <td>113214903796196</td>\n",
              "      <td>COMMUNITY</td>\n",
              "      <td>IN</td>\n",
              "      <td>पेज से जुड़ने के लिए आपका धन्यवाद, आशा करते है ...</td>\n",
              "      <td>2020-07-13 06:39:03</td>\n",
              "      <td>58902.0</td>\n",
              "      <td>91701.0</td>\n",
              "      <td>2021-10-28 18:04:45 CEST</td>\n",
              "      <td>...</td>\n",
              "      <td>https://sachkhabar.co.in/indian-army-preparing...</td>\n",
              "      <td>NaN</td>\n",
              "      <td>NaN</td>\n",
              "      <td>PoK को वापस लेने की तैयारी कर रही है भारतीय से...</td>\n",
              "      <td>जैसा कि जम्मू कश्मीर अनुच्छेद 370 को बिल्कुल ह...</td>\n",
              "      <td>NaN</td>\n",
              "      <td>NaN</td>\n",
              "      <td>NaN</td>\n",
              "      <td>8.21</td>\n",
              "      <td>Preparing to take the POK back to the Indian a...</td>\n",
              "    </tr>\n",
              "    <tr>\n",
              "      <th>513555</th>\n",
              "      <td>Ojasvi Akhand Bharat</td>\n",
              "      <td>OjasviAkhandBharat</td>\n",
              "      <td>574954365905490</td>\n",
              "      <td>ORG_GENERAL</td>\n",
              "      <td>NaN</td>\n",
              "      <td>OjasviBharat</td>\n",
              "      <td>2013-09-30 06:18:23</td>\n",
              "      <td>NaN</td>\n",
              "      <td>NaN</td>\n",
              "      <td>2019-10-25 06:14:08 CEST</td>\n",
              "      <td>...</td>\n",
              "      <td>https://www.facebook.com/HariomHealth22/photos...</td>\n",
              "      <td>NaN</td>\n",
              "      <td>NaN</td>\n",
              "      <td>Hariom Health</td>\n",
              "      <td>प्याज के 141 चमत्कारिक औषधीय प्रयोग\\n=========...</td>\n",
              "      <td>NaN</td>\n",
              "      <td>NaN</td>\n",
              "      <td>NaN</td>\n",
              "      <td>-0.89</td>\n",
              "      <td></td>\n",
              "    </tr>\n",
              "    <tr>\n",
              "      <th>11585</th>\n",
              "      <td>IndiaVirals</td>\n",
              "      <td>udaanupdates</td>\n",
              "      <td>234540670328769</td>\n",
              "      <td>NEWS_SITE</td>\n",
              "      <td>IN</td>\n",
              "      <td>News &amp; media website</td>\n",
              "      <td>2017-01-08 06:52:04</td>\n",
              "      <td>546524.0</td>\n",
              "      <td>542506.0</td>\n",
              "      <td>2022-06-19 07:12:25 CEST</td>\n",
              "      <td>...</td>\n",
              "      <td>https://hindimoviekhabar.com/when-mms-of-these...</td>\n",
              "      <td>NaN</td>\n",
              "      <td>NaN</td>\n",
              "      <td>जब बॉलीवुड की इन 10 फेमस अभिनेत्रियों के MMS ह...</td>\n",
              "      <td>बॉलीवुड इंडस्ट्री और विवाद का एक दूसरे से काफी...</td>\n",
              "      <td>NaN</td>\n",
              "      <td>NaN</td>\n",
              "      <td>NaN</td>\n",
              "      <td>-4</td>\n",
              "      <td>When these 10-MS of Bhutwood's 10-MS leaks, pe...</td>\n",
              "    </tr>\n",
              "  </tbody>\n",
              "</table>\n",
              "<p>5 rows × 41 columns</p>\n",
              "</div>\n",
              "      <button class=\"colab-df-convert\" onclick=\"convertToInteractive('df-9b681cf8-4d17-43fa-8255-01f3afa2e7af')\"\n",
              "              title=\"Convert this dataframe to an interactive table.\"\n",
              "              style=\"display:none;\">\n",
              "        \n",
              "  <svg xmlns=\"http://www.w3.org/2000/svg\" height=\"24px\"viewBox=\"0 0 24 24\"\n",
              "       width=\"24px\">\n",
              "    <path d=\"M0 0h24v24H0V0z\" fill=\"none\"/>\n",
              "    <path d=\"M18.56 5.44l.94 2.06.94-2.06 2.06-.94-2.06-.94-.94-2.06-.94 2.06-2.06.94zm-11 1L8.5 8.5l.94-2.06 2.06-.94-2.06-.94L8.5 2.5l-.94 2.06-2.06.94zm10 10l.94 2.06.94-2.06 2.06-.94-2.06-.94-.94-2.06-.94 2.06-2.06.94z\"/><path d=\"M17.41 7.96l-1.37-1.37c-.4-.4-.92-.59-1.43-.59-.52 0-1.04.2-1.43.59L10.3 9.45l-7.72 7.72c-.78.78-.78 2.05 0 2.83L4 21.41c.39.39.9.59 1.41.59.51 0 1.02-.2 1.41-.59l7.78-7.78 2.81-2.81c.8-.78.8-2.07 0-2.86zM5.41 20L4 18.59l7.72-7.72 1.47 1.35L5.41 20z\"/>\n",
              "  </svg>\n",
              "      </button>\n",
              "      \n",
              "  <style>\n",
              "    .colab-df-container {\n",
              "      display:flex;\n",
              "      flex-wrap:wrap;\n",
              "      gap: 12px;\n",
              "    }\n",
              "\n",
              "    .colab-df-convert {\n",
              "      background-color: #E8F0FE;\n",
              "      border: none;\n",
              "      border-radius: 50%;\n",
              "      cursor: pointer;\n",
              "      display: none;\n",
              "      fill: #1967D2;\n",
              "      height: 32px;\n",
              "      padding: 0 0 0 0;\n",
              "      width: 32px;\n",
              "    }\n",
              "\n",
              "    .colab-df-convert:hover {\n",
              "      background-color: #E2EBFA;\n",
              "      box-shadow: 0px 1px 2px rgba(60, 64, 67, 0.3), 0px 1px 3px 1px rgba(60, 64, 67, 0.15);\n",
              "      fill: #174EA6;\n",
              "    }\n",
              "\n",
              "    [theme=dark] .colab-df-convert {\n",
              "      background-color: #3B4455;\n",
              "      fill: #D2E3FC;\n",
              "    }\n",
              "\n",
              "    [theme=dark] .colab-df-convert:hover {\n",
              "      background-color: #434B5C;\n",
              "      box-shadow: 0px 1px 3px 1px rgba(0, 0, 0, 0.15);\n",
              "      filter: drop-shadow(0px 1px 2px rgba(0, 0, 0, 0.3));\n",
              "      fill: #FFFFFF;\n",
              "    }\n",
              "  </style>\n",
              "\n",
              "      <script>\n",
              "        const buttonEl =\n",
              "          document.querySelector('#df-9b681cf8-4d17-43fa-8255-01f3afa2e7af button.colab-df-convert');\n",
              "        buttonEl.style.display =\n",
              "          google.colab.kernel.accessAllowed ? 'block' : 'none';\n",
              "\n",
              "        async function convertToInteractive(key) {\n",
              "          const element = document.querySelector('#df-9b681cf8-4d17-43fa-8255-01f3afa2e7af');\n",
              "          const dataTable =\n",
              "            await google.colab.kernel.invokeFunction('convertToInteractive',\n",
              "                                                     [key], {});\n",
              "          if (!dataTable) return;\n",
              "\n",
              "          const docLinkHtml = 'Like what you see? Visit the ' +\n",
              "            '<a target=\"_blank\" href=https://colab.research.google.com/notebooks/data_table.ipynb>data table notebook</a>'\n",
              "            + ' to learn more about interactive tables.';\n",
              "          element.innerHTML = '';\n",
              "          dataTable['output_type'] = 'display_data';\n",
              "          await google.colab.output.renderOutput(dataTable, element);\n",
              "          const docLink = document.createElement('div');\n",
              "          docLink.innerHTML = docLinkHtml;\n",
              "          element.appendChild(docLink);\n",
              "        }\n",
              "      </script>\n",
              "    </div>\n",
              "  </div>\n",
              "  "
            ]
          },
          "metadata": {},
          "execution_count": 36
        }
      ]
    },
    {
      "cell_type": "markdown",
      "metadata": {
        "id": "LM0f-PnLV8kR"
      },
      "source": [
        "## Load the sentiment analysis model and the tokenizer\n"
      ]
    },
    {
      "cell_type": "markdown",
      "metadata": {
        "id": "QF5Lmm-VyVW4"
      },
      "source": [
        "Define parameters"
      ]
    },
    {
      "cell_type": "code",
      "execution_count": 44,
      "metadata": {
        "id": "4sRwYU_UWU2d"
      },
      "outputs": [],
      "source": [
        "n_labels = 3\n",
        "\n",
        "labels_ids = {'negative': 0, 'neutral': 1, 'positive':2}\n",
        "\n",
        "MODEL = \"cardiffnlp/twitter-xlm-roberta-base-sentiment\""
      ]
    },
    {
      "cell_type": "markdown",
      "source": [
        "Load the model and the tokenizer"
      ],
      "metadata": {
        "id": "tVqd_hQVJ_6O"
      }
    },
    {
      "cell_type": "code",
      "execution_count": 38,
      "metadata": {
        "id": "RhvpuzKtXVu4",
        "colab": {
          "base_uri": "https://localhost:8080/"
        },
        "outputId": "ba036e78-b922-4cb6-87e5-c170698f614a"
      },
      "outputs": [
        {
          "output_type": "execute_result",
          "data": {
            "text/plain": [
              "XLMRobertaForSequenceClassification(\n",
              "  (roberta): RobertaModel(\n",
              "    (embeddings): RobertaEmbeddings(\n",
              "      (word_embeddings): Embedding(250002, 768, padding_idx=1)\n",
              "      (position_embeddings): Embedding(514, 768, padding_idx=1)\n",
              "      (token_type_embeddings): Embedding(1, 768)\n",
              "      (LayerNorm): LayerNorm((768,), eps=1e-05, elementwise_affine=True)\n",
              "      (dropout): Dropout(p=0.1, inplace=False)\n",
              "    )\n",
              "    (encoder): RobertaEncoder(\n",
              "      (layer): ModuleList(\n",
              "        (0): RobertaLayer(\n",
              "          (attention): RobertaAttention(\n",
              "            (self): RobertaSelfAttention(\n",
              "              (query): Linear(in_features=768, out_features=768, bias=True)\n",
              "              (key): Linear(in_features=768, out_features=768, bias=True)\n",
              "              (value): Linear(in_features=768, out_features=768, bias=True)\n",
              "              (dropout): Dropout(p=0.1, inplace=False)\n",
              "            )\n",
              "            (output): RobertaSelfOutput(\n",
              "              (dense): Linear(in_features=768, out_features=768, bias=True)\n",
              "              (LayerNorm): LayerNorm((768,), eps=1e-05, elementwise_affine=True)\n",
              "              (dropout): Dropout(p=0.1, inplace=False)\n",
              "            )\n",
              "          )\n",
              "          (intermediate): RobertaIntermediate(\n",
              "            (dense): Linear(in_features=768, out_features=3072, bias=True)\n",
              "            (intermediate_act_fn): GELUActivation()\n",
              "          )\n",
              "          (output): RobertaOutput(\n",
              "            (dense): Linear(in_features=3072, out_features=768, bias=True)\n",
              "            (LayerNorm): LayerNorm((768,), eps=1e-05, elementwise_affine=True)\n",
              "            (dropout): Dropout(p=0.1, inplace=False)\n",
              "          )\n",
              "        )\n",
              "        (1): RobertaLayer(\n",
              "          (attention): RobertaAttention(\n",
              "            (self): RobertaSelfAttention(\n",
              "              (query): Linear(in_features=768, out_features=768, bias=True)\n",
              "              (key): Linear(in_features=768, out_features=768, bias=True)\n",
              "              (value): Linear(in_features=768, out_features=768, bias=True)\n",
              "              (dropout): Dropout(p=0.1, inplace=False)\n",
              "            )\n",
              "            (output): RobertaSelfOutput(\n",
              "              (dense): Linear(in_features=768, out_features=768, bias=True)\n",
              "              (LayerNorm): LayerNorm((768,), eps=1e-05, elementwise_affine=True)\n",
              "              (dropout): Dropout(p=0.1, inplace=False)\n",
              "            )\n",
              "          )\n",
              "          (intermediate): RobertaIntermediate(\n",
              "            (dense): Linear(in_features=768, out_features=3072, bias=True)\n",
              "            (intermediate_act_fn): GELUActivation()\n",
              "          )\n",
              "          (output): RobertaOutput(\n",
              "            (dense): Linear(in_features=3072, out_features=768, bias=True)\n",
              "            (LayerNorm): LayerNorm((768,), eps=1e-05, elementwise_affine=True)\n",
              "            (dropout): Dropout(p=0.1, inplace=False)\n",
              "          )\n",
              "        )\n",
              "        (2): RobertaLayer(\n",
              "          (attention): RobertaAttention(\n",
              "            (self): RobertaSelfAttention(\n",
              "              (query): Linear(in_features=768, out_features=768, bias=True)\n",
              "              (key): Linear(in_features=768, out_features=768, bias=True)\n",
              "              (value): Linear(in_features=768, out_features=768, bias=True)\n",
              "              (dropout): Dropout(p=0.1, inplace=False)\n",
              "            )\n",
              "            (output): RobertaSelfOutput(\n",
              "              (dense): Linear(in_features=768, out_features=768, bias=True)\n",
              "              (LayerNorm): LayerNorm((768,), eps=1e-05, elementwise_affine=True)\n",
              "              (dropout): Dropout(p=0.1, inplace=False)\n",
              "            )\n",
              "          )\n",
              "          (intermediate): RobertaIntermediate(\n",
              "            (dense): Linear(in_features=768, out_features=3072, bias=True)\n",
              "            (intermediate_act_fn): GELUActivation()\n",
              "          )\n",
              "          (output): RobertaOutput(\n",
              "            (dense): Linear(in_features=3072, out_features=768, bias=True)\n",
              "            (LayerNorm): LayerNorm((768,), eps=1e-05, elementwise_affine=True)\n",
              "            (dropout): Dropout(p=0.1, inplace=False)\n",
              "          )\n",
              "        )\n",
              "        (3): RobertaLayer(\n",
              "          (attention): RobertaAttention(\n",
              "            (self): RobertaSelfAttention(\n",
              "              (query): Linear(in_features=768, out_features=768, bias=True)\n",
              "              (key): Linear(in_features=768, out_features=768, bias=True)\n",
              "              (value): Linear(in_features=768, out_features=768, bias=True)\n",
              "              (dropout): Dropout(p=0.1, inplace=False)\n",
              "            )\n",
              "            (output): RobertaSelfOutput(\n",
              "              (dense): Linear(in_features=768, out_features=768, bias=True)\n",
              "              (LayerNorm): LayerNorm((768,), eps=1e-05, elementwise_affine=True)\n",
              "              (dropout): Dropout(p=0.1, inplace=False)\n",
              "            )\n",
              "          )\n",
              "          (intermediate): RobertaIntermediate(\n",
              "            (dense): Linear(in_features=768, out_features=3072, bias=True)\n",
              "            (intermediate_act_fn): GELUActivation()\n",
              "          )\n",
              "          (output): RobertaOutput(\n",
              "            (dense): Linear(in_features=3072, out_features=768, bias=True)\n",
              "            (LayerNorm): LayerNorm((768,), eps=1e-05, elementwise_affine=True)\n",
              "            (dropout): Dropout(p=0.1, inplace=False)\n",
              "          )\n",
              "        )\n",
              "        (4): RobertaLayer(\n",
              "          (attention): RobertaAttention(\n",
              "            (self): RobertaSelfAttention(\n",
              "              (query): Linear(in_features=768, out_features=768, bias=True)\n",
              "              (key): Linear(in_features=768, out_features=768, bias=True)\n",
              "              (value): Linear(in_features=768, out_features=768, bias=True)\n",
              "              (dropout): Dropout(p=0.1, inplace=False)\n",
              "            )\n",
              "            (output): RobertaSelfOutput(\n",
              "              (dense): Linear(in_features=768, out_features=768, bias=True)\n",
              "              (LayerNorm): LayerNorm((768,), eps=1e-05, elementwise_affine=True)\n",
              "              (dropout): Dropout(p=0.1, inplace=False)\n",
              "            )\n",
              "          )\n",
              "          (intermediate): RobertaIntermediate(\n",
              "            (dense): Linear(in_features=768, out_features=3072, bias=True)\n",
              "            (intermediate_act_fn): GELUActivation()\n",
              "          )\n",
              "          (output): RobertaOutput(\n",
              "            (dense): Linear(in_features=3072, out_features=768, bias=True)\n",
              "            (LayerNorm): LayerNorm((768,), eps=1e-05, elementwise_affine=True)\n",
              "            (dropout): Dropout(p=0.1, inplace=False)\n",
              "          )\n",
              "        )\n",
              "        (5): RobertaLayer(\n",
              "          (attention): RobertaAttention(\n",
              "            (self): RobertaSelfAttention(\n",
              "              (query): Linear(in_features=768, out_features=768, bias=True)\n",
              "              (key): Linear(in_features=768, out_features=768, bias=True)\n",
              "              (value): Linear(in_features=768, out_features=768, bias=True)\n",
              "              (dropout): Dropout(p=0.1, inplace=False)\n",
              "            )\n",
              "            (output): RobertaSelfOutput(\n",
              "              (dense): Linear(in_features=768, out_features=768, bias=True)\n",
              "              (LayerNorm): LayerNorm((768,), eps=1e-05, elementwise_affine=True)\n",
              "              (dropout): Dropout(p=0.1, inplace=False)\n",
              "            )\n",
              "          )\n",
              "          (intermediate): RobertaIntermediate(\n",
              "            (dense): Linear(in_features=768, out_features=3072, bias=True)\n",
              "            (intermediate_act_fn): GELUActivation()\n",
              "          )\n",
              "          (output): RobertaOutput(\n",
              "            (dense): Linear(in_features=3072, out_features=768, bias=True)\n",
              "            (LayerNorm): LayerNorm((768,), eps=1e-05, elementwise_affine=True)\n",
              "            (dropout): Dropout(p=0.1, inplace=False)\n",
              "          )\n",
              "        )\n",
              "        (6): RobertaLayer(\n",
              "          (attention): RobertaAttention(\n",
              "            (self): RobertaSelfAttention(\n",
              "              (query): Linear(in_features=768, out_features=768, bias=True)\n",
              "              (key): Linear(in_features=768, out_features=768, bias=True)\n",
              "              (value): Linear(in_features=768, out_features=768, bias=True)\n",
              "              (dropout): Dropout(p=0.1, inplace=False)\n",
              "            )\n",
              "            (output): RobertaSelfOutput(\n",
              "              (dense): Linear(in_features=768, out_features=768, bias=True)\n",
              "              (LayerNorm): LayerNorm((768,), eps=1e-05, elementwise_affine=True)\n",
              "              (dropout): Dropout(p=0.1, inplace=False)\n",
              "            )\n",
              "          )\n",
              "          (intermediate): RobertaIntermediate(\n",
              "            (dense): Linear(in_features=768, out_features=3072, bias=True)\n",
              "            (intermediate_act_fn): GELUActivation()\n",
              "          )\n",
              "          (output): RobertaOutput(\n",
              "            (dense): Linear(in_features=3072, out_features=768, bias=True)\n",
              "            (LayerNorm): LayerNorm((768,), eps=1e-05, elementwise_affine=True)\n",
              "            (dropout): Dropout(p=0.1, inplace=False)\n",
              "          )\n",
              "        )\n",
              "        (7): RobertaLayer(\n",
              "          (attention): RobertaAttention(\n",
              "            (self): RobertaSelfAttention(\n",
              "              (query): Linear(in_features=768, out_features=768, bias=True)\n",
              "              (key): Linear(in_features=768, out_features=768, bias=True)\n",
              "              (value): Linear(in_features=768, out_features=768, bias=True)\n",
              "              (dropout): Dropout(p=0.1, inplace=False)\n",
              "            )\n",
              "            (output): RobertaSelfOutput(\n",
              "              (dense): Linear(in_features=768, out_features=768, bias=True)\n",
              "              (LayerNorm): LayerNorm((768,), eps=1e-05, elementwise_affine=True)\n",
              "              (dropout): Dropout(p=0.1, inplace=False)\n",
              "            )\n",
              "          )\n",
              "          (intermediate): RobertaIntermediate(\n",
              "            (dense): Linear(in_features=768, out_features=3072, bias=True)\n",
              "            (intermediate_act_fn): GELUActivation()\n",
              "          )\n",
              "          (output): RobertaOutput(\n",
              "            (dense): Linear(in_features=3072, out_features=768, bias=True)\n",
              "            (LayerNorm): LayerNorm((768,), eps=1e-05, elementwise_affine=True)\n",
              "            (dropout): Dropout(p=0.1, inplace=False)\n",
              "          )\n",
              "        )\n",
              "        (8): RobertaLayer(\n",
              "          (attention): RobertaAttention(\n",
              "            (self): RobertaSelfAttention(\n",
              "              (query): Linear(in_features=768, out_features=768, bias=True)\n",
              "              (key): Linear(in_features=768, out_features=768, bias=True)\n",
              "              (value): Linear(in_features=768, out_features=768, bias=True)\n",
              "              (dropout): Dropout(p=0.1, inplace=False)\n",
              "            )\n",
              "            (output): RobertaSelfOutput(\n",
              "              (dense): Linear(in_features=768, out_features=768, bias=True)\n",
              "              (LayerNorm): LayerNorm((768,), eps=1e-05, elementwise_affine=True)\n",
              "              (dropout): Dropout(p=0.1, inplace=False)\n",
              "            )\n",
              "          )\n",
              "          (intermediate): RobertaIntermediate(\n",
              "            (dense): Linear(in_features=768, out_features=3072, bias=True)\n",
              "            (intermediate_act_fn): GELUActivation()\n",
              "          )\n",
              "          (output): RobertaOutput(\n",
              "            (dense): Linear(in_features=3072, out_features=768, bias=True)\n",
              "            (LayerNorm): LayerNorm((768,), eps=1e-05, elementwise_affine=True)\n",
              "            (dropout): Dropout(p=0.1, inplace=False)\n",
              "          )\n",
              "        )\n",
              "        (9): RobertaLayer(\n",
              "          (attention): RobertaAttention(\n",
              "            (self): RobertaSelfAttention(\n",
              "              (query): Linear(in_features=768, out_features=768, bias=True)\n",
              "              (key): Linear(in_features=768, out_features=768, bias=True)\n",
              "              (value): Linear(in_features=768, out_features=768, bias=True)\n",
              "              (dropout): Dropout(p=0.1, inplace=False)\n",
              "            )\n",
              "            (output): RobertaSelfOutput(\n",
              "              (dense): Linear(in_features=768, out_features=768, bias=True)\n",
              "              (LayerNorm): LayerNorm((768,), eps=1e-05, elementwise_affine=True)\n",
              "              (dropout): Dropout(p=0.1, inplace=False)\n",
              "            )\n",
              "          )\n",
              "          (intermediate): RobertaIntermediate(\n",
              "            (dense): Linear(in_features=768, out_features=3072, bias=True)\n",
              "            (intermediate_act_fn): GELUActivation()\n",
              "          )\n",
              "          (output): RobertaOutput(\n",
              "            (dense): Linear(in_features=3072, out_features=768, bias=True)\n",
              "            (LayerNorm): LayerNorm((768,), eps=1e-05, elementwise_affine=True)\n",
              "            (dropout): Dropout(p=0.1, inplace=False)\n",
              "          )\n",
              "        )\n",
              "        (10): RobertaLayer(\n",
              "          (attention): RobertaAttention(\n",
              "            (self): RobertaSelfAttention(\n",
              "              (query): Linear(in_features=768, out_features=768, bias=True)\n",
              "              (key): Linear(in_features=768, out_features=768, bias=True)\n",
              "              (value): Linear(in_features=768, out_features=768, bias=True)\n",
              "              (dropout): Dropout(p=0.1, inplace=False)\n",
              "            )\n",
              "            (output): RobertaSelfOutput(\n",
              "              (dense): Linear(in_features=768, out_features=768, bias=True)\n",
              "              (LayerNorm): LayerNorm((768,), eps=1e-05, elementwise_affine=True)\n",
              "              (dropout): Dropout(p=0.1, inplace=False)\n",
              "            )\n",
              "          )\n",
              "          (intermediate): RobertaIntermediate(\n",
              "            (dense): Linear(in_features=768, out_features=3072, bias=True)\n",
              "            (intermediate_act_fn): GELUActivation()\n",
              "          )\n",
              "          (output): RobertaOutput(\n",
              "            (dense): Linear(in_features=3072, out_features=768, bias=True)\n",
              "            (LayerNorm): LayerNorm((768,), eps=1e-05, elementwise_affine=True)\n",
              "            (dropout): Dropout(p=0.1, inplace=False)\n",
              "          )\n",
              "        )\n",
              "        (11): RobertaLayer(\n",
              "          (attention): RobertaAttention(\n",
              "            (self): RobertaSelfAttention(\n",
              "              (query): Linear(in_features=768, out_features=768, bias=True)\n",
              "              (key): Linear(in_features=768, out_features=768, bias=True)\n",
              "              (value): Linear(in_features=768, out_features=768, bias=True)\n",
              "              (dropout): Dropout(p=0.1, inplace=False)\n",
              "            )\n",
              "            (output): RobertaSelfOutput(\n",
              "              (dense): Linear(in_features=768, out_features=768, bias=True)\n",
              "              (LayerNorm): LayerNorm((768,), eps=1e-05, elementwise_affine=True)\n",
              "              (dropout): Dropout(p=0.1, inplace=False)\n",
              "            )\n",
              "          )\n",
              "          (intermediate): RobertaIntermediate(\n",
              "            (dense): Linear(in_features=768, out_features=3072, bias=True)\n",
              "            (intermediate_act_fn): GELUActivation()\n",
              "          )\n",
              "          (output): RobertaOutput(\n",
              "            (dense): Linear(in_features=3072, out_features=768, bias=True)\n",
              "            (LayerNorm): LayerNorm((768,), eps=1e-05, elementwise_affine=True)\n",
              "            (dropout): Dropout(p=0.1, inplace=False)\n",
              "          )\n",
              "        )\n",
              "      )\n",
              "    )\n",
              "  )\n",
              "  (classifier): RobertaClassificationHead(\n",
              "    (dense): Linear(in_features=768, out_features=768, bias=True)\n",
              "    (dropout): Dropout(p=0.1, inplace=False)\n",
              "    (out_proj): Linear(in_features=768, out_features=3, bias=True)\n",
              "  )\n",
              ")"
            ]
          },
          "metadata": {},
          "execution_count": 38
        }
      ],
      "source": [
        "model_config = AutoConfig.from_pretrained(MODEL, num_labels=n_labels)\n",
        "tokenizer = AutoTokenizer.from_pretrained(pretrained_model_name_or_path=MODEL, use_fast=True)\n",
        "model = AutoModelForSequenceClassification.from_pretrained(pretrained_model_name_or_path=MODEL, config=model_config)\n",
        "\n",
        "model.to(device)\n",
        "model.eval()"
      ]
    },
    {
      "cell_type": "markdown",
      "source": [
        "## Define the forward prediction functions"
      ],
      "metadata": {
        "id": "2yOoZ-NHB3WW"
      }
    },
    {
      "cell_type": "code",
      "source": [
        "def forward (text, cuda=True):\n",
        "  encoded_input = tokenizer(text, return_tensors='pt', padding=True, truncation=True, max_length = max_length)\n",
        "  encoded_input.to(device)\n",
        "  \n",
        "  output = model(**encoded_input)\n",
        "  scores = output[0].detach().cpu().numpy()\n",
        "  scores = softmax(scores, axis=-1)\n",
        "  \n",
        "  return scores"
      ],
      "metadata": {
        "id": "VgwQnVha37uL"
      },
      "execution_count": 45,
      "outputs": []
    },
    {
      "cell_type": "code",
      "source": [
        "def sentiment_pred_score (data_list):\n",
        "  dl = DataLoader(data_list, batch_size=BATCH_SIZE)\n",
        "  sentiment_pred = []\n",
        "\n",
        "  for idx, batch in enumerate(dl):\n",
        "    print('Batch ',idx+1,' of ', len(dl))\n",
        "\n",
        "    if (batch != ''):\n",
        "      scores = forward(batch)\n",
        "      preds = np.argmax(scores, axis=-1)\n",
        "    else:\n",
        "      preds = 1\n",
        "    sentiment_pred.extend(preds)\n",
        "  \n",
        "  return sentiment_pred"
      ],
      "metadata": {
        "id": "1JaK7jX8-vK4"
      },
      "execution_count": 46,
      "outputs": []
    },
    {
      "cell_type": "markdown",
      "source": [
        "## Run sentiment prediction task on the dataset(s) and save the results"
      ],
      "metadata": {
        "id": "HoW8qBfXvJcp"
      }
    },
    {
      "cell_type": "markdown",
      "source": [
        "Sentiment prediction over original messages"
      ],
      "metadata": {
        "id": "gkSx7OhoPRKv"
      }
    },
    {
      "cell_type": "code",
      "source": [
        "message_sentiment_score = sentiment_pred_score (message_list)"
      ],
      "metadata": {
        "colab": {
          "base_uri": "https://localhost:8080/"
        },
        "id": "MrUJoWFA465G",
        "outputId": "85f10a7b-a8cc-44ad-b251-1cbf37d8c811"
      },
      "execution_count": 47,
      "outputs": [
        {
          "output_type": "stream",
          "name": "stdout",
          "text": [
            "Batch  1  of  16\n",
            "Batch  2  of  16\n",
            "Batch  3  of  16\n",
            "Batch  4  of  16\n",
            "Batch  5  of  16\n",
            "Batch  6  of  16\n",
            "Batch  7  of  16\n",
            "Batch  8  of  16\n",
            "Batch  9  of  16\n",
            "Batch  10  of  16\n",
            "Batch  11  of  16\n",
            "Batch  12  of  16\n",
            "Batch  13  of  16\n",
            "Batch  14  of  16\n",
            "Batch  15  of  16\n",
            "Batch  16  of  16\n"
          ]
        }
      ]
    },
    {
      "cell_type": "markdown",
      "source": [
        "Sentiment prediction over translated messages"
      ],
      "metadata": {
        "id": "-gF0vxwLPWKP"
      }
    },
    {
      "cell_type": "code",
      "source": [
        "translated_message_sentiment_score = sentiment_pred_score (message_translated)"
      ],
      "metadata": {
        "colab": {
          "base_uri": "https://localhost:8080/"
        },
        "id": "Z34ILuxELY_C",
        "outputId": "3d742c6d-f47c-4022-bef0-9fe744528868"
      },
      "execution_count": 59,
      "outputs": [
        {
          "output_type": "stream",
          "name": "stdout",
          "text": [
            "Batch  1  of  16\n",
            "Batch  2  of  16\n",
            "Batch  3  of  16\n",
            "Batch  4  of  16\n",
            "Batch  5  of  16\n",
            "Batch  6  of  16\n",
            "Batch  7  of  16\n",
            "Batch  8  of  16\n",
            "Batch  9  of  16\n",
            "Batch  10  of  16\n",
            "Batch  11  of  16\n",
            "Batch  12  of  16\n",
            "Batch  13  of  16\n",
            "Batch  14  of  16\n",
            "Batch  15  of  16\n",
            "Batch  16  of  16\n"
          ]
        }
      ]
    },
    {
      "cell_type": "markdown",
      "source": [
        "Append the prediction scores to the original pandas dataframe"
      ],
      "metadata": {
        "id": "EIyYNT3AB0aZ"
      }
    },
    {
      "cell_type": "code",
      "source": [
        "df ['messageSentiment.score'] = message_sentiment_score\n",
        "df ['translatedMessageSentiment.score'] = translated_message_sentiment_score"
      ],
      "metadata": {
        "id": "gEVp5nbiB5UC"
      },
      "execution_count": 60,
      "outputs": []
    },
    {
      "cell_type": "code",
      "source": [
        "df.head()"
      ],
      "metadata": {
        "colab": {
          "base_uri": "https://localhost:8080/",
          "height": 756
        },
        "id": "XKzQW-IKCF13",
        "outputId": "52015477-e0ac-4c68-bb4f-f733b9eacd17"
      },
      "execution_count": 61,
      "outputs": [
        {
          "output_type": "execute_result",
          "data": {
            "text/plain": [
              "                           account.name      account.handle       platformId  \\\n",
              "263518  पुष्पेंद्र कुलश्रेष्ठ फैंस क्लब      Pushpendrarss2  113214903796196   \n",
              "225363                 Ayodhya Junction     TheSanatanTales  104677788010605   \n",
              "186320  पुष्पेंद्र कुलश्रेष्ठ फैंस क्लब      Pushpendrarss2  113214903796196   \n",
              "513555             Ojasvi Akhand Bharat  OjasviAkhandBharat  574954365905490   \n",
              "11585                       IndiaVirals        udaanupdates  234540670328769   \n",
              "\n",
              "       Page Category Page Admin Top Country  \\\n",
              "263518     COMMUNITY                     IN   \n",
              "225363  SOCIETY_SITE                     IN   \n",
              "186320     COMMUNITY                     IN   \n",
              "513555   ORG_GENERAL                    NaN   \n",
              "11585      NEWS_SITE                     IN   \n",
              "\n",
              "                                         Page Description  \\\n",
              "263518  पेज से जुड़ने के लिए आपका धन्यवाद, आशा करते है ...   \n",
              "225363       Ayodhya Junction : The Hub of Positive Vibes   \n",
              "186320  पेज से जुड़ने के लिए आपका धन्यवाद, आशा करते है ...   \n",
              "513555                                       OjasviBharat   \n",
              "11585                                News & media website   \n",
              "\n",
              "               Page Created  subscriberCount  Followers at Posting  \\\n",
              "263518  2020-07-13 06:39:03          57057.0               89872.0   \n",
              "225363  2020-07-29 20:04:09         100737.0              100687.0   \n",
              "186320  2020-07-13 06:39:03          58902.0               91701.0   \n",
              "513555  2013-09-30 06:18:23              NaN                   NaN   \n",
              "11585   2017-01-08 06:52:04         546524.0              542506.0   \n",
              "\n",
              "                            date  ... imageText  \\\n",
              "263518  2021-08-06 17:37:23 CEST  ...       NaN   \n",
              "225363  2021-09-23 06:30:46 CEST  ...       NaN   \n",
              "186320  2021-10-28 18:04:45 CEST  ...       NaN   \n",
              "513555  2019-10-25 06:14:08 CEST  ...       NaN   \n",
              "11585   2022-06-19 07:12:25 CEST  ...       NaN   \n",
              "\n",
              "                                                    title  \\\n",
              "263518  दिल्ली पुलिस ने केजरीवाल के साथ किया बड़ा कांड...   \n",
              "225363  Interview Question: किस जानवर का दूध गुलाबी रं...   \n",
              "186320  PoK को वापस लेने की तैयारी कर रही है भारतीय से...   \n",
              "513555                                      Hariom Health   \n",
              "11585   जब बॉलीवुड की इन 10 फेमस अभिनेत्रियों के MMS ह...   \n",
              "\n",
              "                                              description  \\\n",
              "263518  BJP leader talked about changing the uniform o...   \n",
              "225363  आज के समय में हर कोई चाहता है कि उसको कोई अच्छ...   \n",
              "186320  जैसा कि जम्मू कश्मीर अनुच्छेद 370 को बिल्कुल ह...   \n",
              "513555  प्याज के 141 चमत्कारिक औषधीय प्रयोग\\n=========...   \n",
              "11585   बॉलीवुड इंडस्ट्री और विवाद का एक दूसरे से काफी...   \n",
              "\n",
              "       brandedContentSponsor.platformId  brandedContentSponsor.name  \\\n",
              "263518                              NaN                         NaN   \n",
              "225363                              NaN                         NaN   \n",
              "186320                              NaN                         NaN   \n",
              "513555                              NaN                         NaN   \n",
              "11585                               NaN                         NaN   \n",
              "\n",
              "        brandedContentSponsor.category  score  \\\n",
              "263518                             NaN  -1.75   \n",
              "225363                             NaN    -39   \n",
              "186320                             NaN   8.21   \n",
              "513555                             NaN  -0.89   \n",
              "11585                              NaN     -4   \n",
              "\n",
              "                                       message.translated  \\\n",
              "263518  Delhi police arrested the illegal gang of cons...   \n",
              "225363       Interview: Which animal is the milk of pink?   \n",
              "186320  Preparing to take the POK back to the Indian a...   \n",
              "513555                                                      \n",
              "11585   When these 10-MS of Bhutwood's 10-MS leaks, pe...   \n",
              "\n",
              "        messageSentiment.score  translatedMessageSentiment.score  \n",
              "263518                       0                                 0  \n",
              "225363                       1                                 1  \n",
              "186320                       1                                 1  \n",
              "513555                       0                                 0  \n",
              "11585                        1                                 0  \n",
              "\n",
              "[5 rows x 43 columns]"
            ],
            "text/html": [
              "\n",
              "  <div id=\"df-69f46519-ceac-4725-9474-c9ef9ec3574b\">\n",
              "    <div class=\"colab-df-container\">\n",
              "      <div>\n",
              "<style scoped>\n",
              "    .dataframe tbody tr th:only-of-type {\n",
              "        vertical-align: middle;\n",
              "    }\n",
              "\n",
              "    .dataframe tbody tr th {\n",
              "        vertical-align: top;\n",
              "    }\n",
              "\n",
              "    .dataframe thead th {\n",
              "        text-align: right;\n",
              "    }\n",
              "</style>\n",
              "<table border=\"1\" class=\"dataframe\">\n",
              "  <thead>\n",
              "    <tr style=\"text-align: right;\">\n",
              "      <th></th>\n",
              "      <th>account.name</th>\n",
              "      <th>account.handle</th>\n",
              "      <th>platformId</th>\n",
              "      <th>Page Category</th>\n",
              "      <th>Page Admin Top Country</th>\n",
              "      <th>Page Description</th>\n",
              "      <th>Page Created</th>\n",
              "      <th>subscriberCount</th>\n",
              "      <th>Followers at Posting</th>\n",
              "      <th>date</th>\n",
              "      <th>...</th>\n",
              "      <th>imageText</th>\n",
              "      <th>title</th>\n",
              "      <th>description</th>\n",
              "      <th>brandedContentSponsor.platformId</th>\n",
              "      <th>brandedContentSponsor.name</th>\n",
              "      <th>brandedContentSponsor.category</th>\n",
              "      <th>score</th>\n",
              "      <th>message.translated</th>\n",
              "      <th>messageSentiment.score</th>\n",
              "      <th>translatedMessageSentiment.score</th>\n",
              "    </tr>\n",
              "  </thead>\n",
              "  <tbody>\n",
              "    <tr>\n",
              "      <th>263518</th>\n",
              "      <td>पुष्पेंद्र कुलश्रेष्ठ फैंस क्लब</td>\n",
              "      <td>Pushpendrarss2</td>\n",
              "      <td>113214903796196</td>\n",
              "      <td>COMMUNITY</td>\n",
              "      <td>IN</td>\n",
              "      <td>पेज से जुड़ने के लिए आपका धन्यवाद, आशा करते है ...</td>\n",
              "      <td>2020-07-13 06:39:03</td>\n",
              "      <td>57057.0</td>\n",
              "      <td>89872.0</td>\n",
              "      <td>2021-08-06 17:37:23 CEST</td>\n",
              "      <td>...</td>\n",
              "      <td>NaN</td>\n",
              "      <td>दिल्ली पुलिस ने केजरीवाल के साथ किया बड़ा कांड...</td>\n",
              "      <td>BJP leader talked about changing the uniform o...</td>\n",
              "      <td>NaN</td>\n",
              "      <td>NaN</td>\n",
              "      <td>NaN</td>\n",
              "      <td>-1.75</td>\n",
              "      <td>Delhi police arrested the illegal gang of cons...</td>\n",
              "      <td>0</td>\n",
              "      <td>0</td>\n",
              "    </tr>\n",
              "    <tr>\n",
              "      <th>225363</th>\n",
              "      <td>Ayodhya Junction</td>\n",
              "      <td>TheSanatanTales</td>\n",
              "      <td>104677788010605</td>\n",
              "      <td>SOCIETY_SITE</td>\n",
              "      <td>IN</td>\n",
              "      <td>Ayodhya Junction : The Hub of Positive Vibes</td>\n",
              "      <td>2020-07-29 20:04:09</td>\n",
              "      <td>100737.0</td>\n",
              "      <td>100687.0</td>\n",
              "      <td>2021-09-23 06:30:46 CEST</td>\n",
              "      <td>...</td>\n",
              "      <td>NaN</td>\n",
              "      <td>Interview Question: किस जानवर का दूध गुलाबी रं...</td>\n",
              "      <td>आज के समय में हर कोई चाहता है कि उसको कोई अच्छ...</td>\n",
              "      <td>NaN</td>\n",
              "      <td>NaN</td>\n",
              "      <td>NaN</td>\n",
              "      <td>-39</td>\n",
              "      <td>Interview: Which animal is the milk of pink?</td>\n",
              "      <td>1</td>\n",
              "      <td>1</td>\n",
              "    </tr>\n",
              "    <tr>\n",
              "      <th>186320</th>\n",
              "      <td>पुष्पेंद्र कुलश्रेष्ठ फैंस क्लब</td>\n",
              "      <td>Pushpendrarss2</td>\n",
              "      <td>113214903796196</td>\n",
              "      <td>COMMUNITY</td>\n",
              "      <td>IN</td>\n",
              "      <td>पेज से जुड़ने के लिए आपका धन्यवाद, आशा करते है ...</td>\n",
              "      <td>2020-07-13 06:39:03</td>\n",
              "      <td>58902.0</td>\n",
              "      <td>91701.0</td>\n",
              "      <td>2021-10-28 18:04:45 CEST</td>\n",
              "      <td>...</td>\n",
              "      <td>NaN</td>\n",
              "      <td>PoK को वापस लेने की तैयारी कर रही है भारतीय से...</td>\n",
              "      <td>जैसा कि जम्मू कश्मीर अनुच्छेद 370 को बिल्कुल ह...</td>\n",
              "      <td>NaN</td>\n",
              "      <td>NaN</td>\n",
              "      <td>NaN</td>\n",
              "      <td>8.21</td>\n",
              "      <td>Preparing to take the POK back to the Indian a...</td>\n",
              "      <td>1</td>\n",
              "      <td>1</td>\n",
              "    </tr>\n",
              "    <tr>\n",
              "      <th>513555</th>\n",
              "      <td>Ojasvi Akhand Bharat</td>\n",
              "      <td>OjasviAkhandBharat</td>\n",
              "      <td>574954365905490</td>\n",
              "      <td>ORG_GENERAL</td>\n",
              "      <td>NaN</td>\n",
              "      <td>OjasviBharat</td>\n",
              "      <td>2013-09-30 06:18:23</td>\n",
              "      <td>NaN</td>\n",
              "      <td>NaN</td>\n",
              "      <td>2019-10-25 06:14:08 CEST</td>\n",
              "      <td>...</td>\n",
              "      <td>NaN</td>\n",
              "      <td>Hariom Health</td>\n",
              "      <td>प्याज के 141 चमत्कारिक औषधीय प्रयोग\\n=========...</td>\n",
              "      <td>NaN</td>\n",
              "      <td>NaN</td>\n",
              "      <td>NaN</td>\n",
              "      <td>-0.89</td>\n",
              "      <td></td>\n",
              "      <td>0</td>\n",
              "      <td>0</td>\n",
              "    </tr>\n",
              "    <tr>\n",
              "      <th>11585</th>\n",
              "      <td>IndiaVirals</td>\n",
              "      <td>udaanupdates</td>\n",
              "      <td>234540670328769</td>\n",
              "      <td>NEWS_SITE</td>\n",
              "      <td>IN</td>\n",
              "      <td>News &amp; media website</td>\n",
              "      <td>2017-01-08 06:52:04</td>\n",
              "      <td>546524.0</td>\n",
              "      <td>542506.0</td>\n",
              "      <td>2022-06-19 07:12:25 CEST</td>\n",
              "      <td>...</td>\n",
              "      <td>NaN</td>\n",
              "      <td>जब बॉलीवुड की इन 10 फेमस अभिनेत्रियों के MMS ह...</td>\n",
              "      <td>बॉलीवुड इंडस्ट्री और विवाद का एक दूसरे से काफी...</td>\n",
              "      <td>NaN</td>\n",
              "      <td>NaN</td>\n",
              "      <td>NaN</td>\n",
              "      <td>-4</td>\n",
              "      <td>When these 10-MS of Bhutwood's 10-MS leaks, pe...</td>\n",
              "      <td>1</td>\n",
              "      <td>0</td>\n",
              "    </tr>\n",
              "  </tbody>\n",
              "</table>\n",
              "<p>5 rows × 43 columns</p>\n",
              "</div>\n",
              "      <button class=\"colab-df-convert\" onclick=\"convertToInteractive('df-69f46519-ceac-4725-9474-c9ef9ec3574b')\"\n",
              "              title=\"Convert this dataframe to an interactive table.\"\n",
              "              style=\"display:none;\">\n",
              "        \n",
              "  <svg xmlns=\"http://www.w3.org/2000/svg\" height=\"24px\"viewBox=\"0 0 24 24\"\n",
              "       width=\"24px\">\n",
              "    <path d=\"M0 0h24v24H0V0z\" fill=\"none\"/>\n",
              "    <path d=\"M18.56 5.44l.94 2.06.94-2.06 2.06-.94-2.06-.94-.94-2.06-.94 2.06-2.06.94zm-11 1L8.5 8.5l.94-2.06 2.06-.94-2.06-.94L8.5 2.5l-.94 2.06-2.06.94zm10 10l.94 2.06.94-2.06 2.06-.94-2.06-.94-.94-2.06-.94 2.06-2.06.94z\"/><path d=\"M17.41 7.96l-1.37-1.37c-.4-.4-.92-.59-1.43-.59-.52 0-1.04.2-1.43.59L10.3 9.45l-7.72 7.72c-.78.78-.78 2.05 0 2.83L4 21.41c.39.39.9.59 1.41.59.51 0 1.02-.2 1.41-.59l7.78-7.78 2.81-2.81c.8-.78.8-2.07 0-2.86zM5.41 20L4 18.59l7.72-7.72 1.47 1.35L5.41 20z\"/>\n",
              "  </svg>\n",
              "      </button>\n",
              "      \n",
              "  <style>\n",
              "    .colab-df-container {\n",
              "      display:flex;\n",
              "      flex-wrap:wrap;\n",
              "      gap: 12px;\n",
              "    }\n",
              "\n",
              "    .colab-df-convert {\n",
              "      background-color: #E8F0FE;\n",
              "      border: none;\n",
              "      border-radius: 50%;\n",
              "      cursor: pointer;\n",
              "      display: none;\n",
              "      fill: #1967D2;\n",
              "      height: 32px;\n",
              "      padding: 0 0 0 0;\n",
              "      width: 32px;\n",
              "    }\n",
              "\n",
              "    .colab-df-convert:hover {\n",
              "      background-color: #E2EBFA;\n",
              "      box-shadow: 0px 1px 2px rgba(60, 64, 67, 0.3), 0px 1px 3px 1px rgba(60, 64, 67, 0.15);\n",
              "      fill: #174EA6;\n",
              "    }\n",
              "\n",
              "    [theme=dark] .colab-df-convert {\n",
              "      background-color: #3B4455;\n",
              "      fill: #D2E3FC;\n",
              "    }\n",
              "\n",
              "    [theme=dark] .colab-df-convert:hover {\n",
              "      background-color: #434B5C;\n",
              "      box-shadow: 0px 1px 3px 1px rgba(0, 0, 0, 0.15);\n",
              "      filter: drop-shadow(0px 1px 2px rgba(0, 0, 0, 0.3));\n",
              "      fill: #FFFFFF;\n",
              "    }\n",
              "  </style>\n",
              "\n",
              "      <script>\n",
              "        const buttonEl =\n",
              "          document.querySelector('#df-69f46519-ceac-4725-9474-c9ef9ec3574b button.colab-df-convert');\n",
              "        buttonEl.style.display =\n",
              "          google.colab.kernel.accessAllowed ? 'block' : 'none';\n",
              "\n",
              "        async function convertToInteractive(key) {\n",
              "          const element = document.querySelector('#df-69f46519-ceac-4725-9474-c9ef9ec3574b');\n",
              "          const dataTable =\n",
              "            await google.colab.kernel.invokeFunction('convertToInteractive',\n",
              "                                                     [key], {});\n",
              "          if (!dataTable) return;\n",
              "\n",
              "          const docLinkHtml = 'Like what you see? Visit the ' +\n",
              "            '<a target=\"_blank\" href=https://colab.research.google.com/notebooks/data_table.ipynb>data table notebook</a>'\n",
              "            + ' to learn more about interactive tables.';\n",
              "          element.innerHTML = '';\n",
              "          dataTable['output_type'] = 'display_data';\n",
              "          await google.colab.output.renderOutput(dataTable, element);\n",
              "          const docLink = document.createElement('div');\n",
              "          docLink.innerHTML = docLinkHtml;\n",
              "          element.appendChild(docLink);\n",
              "        }\n",
              "      </script>\n",
              "    </div>\n",
              "  </div>\n",
              "  "
            ]
          },
          "metadata": {},
          "execution_count": 61
        }
      ]
    },
    {
      "cell_type": "markdown",
      "source": [
        "Save the dataframe (along with the results)"
      ],
      "metadata": {
        "id": "8Lj55xDhKFXw"
      }
    },
    {
      "cell_type": "code",
      "source": [
        "df.to_csv('/content/drive/MyDrive/CT_sentiment_prediction_with_translated.csv', index=False)"
      ],
      "metadata": {
        "id": "BQbQHCj2J8Ql"
      },
      "execution_count": 62,
      "outputs": []
    },
    {
      "cell_type": "markdown",
      "source": [
        "## Visualization of the results"
      ],
      "metadata": {
        "id": "6_TDEoVaJRj6"
      }
    },
    {
      "cell_type": "markdown",
      "source": [
        "Histograms of the predicted scores"
      ],
      "metadata": {
        "id": "gUXlf-HfBKOO"
      }
    },
    {
      "cell_type": "code",
      "source": [
        "x = np.arange(n_labels)\n",
        "bins = np.linspace(0, 2, 10)\n",
        "\n",
        "fig, ax = plt.subplots (figsize=(8, 6))\n",
        "plt.title ('Histogram of all the predicted labels (original messages)\\n')\n",
        "plt.hist (df ['messageSentiment.score'], bins, label=['sentiment label'] )\n",
        "ax.set_ylabel ('Count')\n",
        "ax.set_xticks (x)\n",
        "ax.set_xticklabels (list(labels_ids.keys()))\n",
        "ax.legend (loc='upper right')\n",
        "plt.show ()"
      ],
      "metadata": {
        "colab": {
          "base_uri": "https://localhost:8080/",
          "height": 405
        },
        "id": "fKxEXoxOBM7M",
        "outputId": "2f3069fc-dd87-4c03-a0f7-0e6cfc4ebb7d"
      },
      "execution_count": 65,
      "outputs": [
        {
          "output_type": "display_data",
          "data": {
            "text/plain": [
              "<Figure size 576x432 with 1 Axes>"
            ],
            "image/png": "[encoded data removed]"
          },
          "metadata": {
            "needs_background": "light"
          }
        }
      ]
    },
    {
      "cell_type": "markdown",
      "source": [
        "Bar plot of top actors"
      ],
      "metadata": {
        "id": "QgGoef2RKYBw"
      }
    },
    {
      "cell_type": "code",
      "source": [
        "plt.figure(figsize=(7,5),dpi=100)\n",
        "\n",
        "negative_sentiment = df [df['messageSentiment.score'] == 0]\n",
        "negative_sentiment ['account.name'].value_counts()[:10].plot(kind='bar')\n",
        "\n",
        "# Customize matplotlib\n",
        "hindi_font = FontProperties(fname = '/content/drive/MyDrive/The-London-Story/Nirmala.ttf')\n",
        "\n",
        "plt.xticks(fontproperties=hindi_font)\n",
        "\n",
        "plt.title('Top accounts with negative sentiment (original messages)\\n')\n",
        "plt.ylabel('count')\n",
        "\n",
        "plt.show()"
      ],
      "metadata": {
        "colab": {
          "base_uri": "https://localhost:8080/",
          "height": 677
        },
        "id": "x-DPjVKJC2fD",
        "outputId": "ede33290-33e5-453b-88ea-2bb73f587d4c"
      },
      "execution_count": 63,
      "outputs": [
        {
          "output_type": "display_data",
          "data": {
            "text/plain": [
              "<Figure size 700x500 with 1 Axes>"
            ],
            "image/png": "[encoded data removed]"
          },
          "metadata": {
            "needs_background": "light"
          }
        }
      ]
    },
    {
      "cell_type": "code",
      "source": [
        "plt.figure(figsize=(7,5),dpi=100)\n",
        "\n",
        "negative_sentiment = df [df['translatedMessageSentiment.score'] == 0]\n",
        "negative_sentiment ['account.name'].value_counts()[:10].plot(kind='bar')\n",
        "\n",
        "# Customize matplotlib\n",
        "hindi_font = FontProperties(fname = '/content/drive/MyDrive/The-London-Story/Nirmala.ttf')\n",
        "\n",
        "plt.xticks(fontproperties=hindi_font)\n",
        "\n",
        "plt.title('Top accounts with negative sentiment (translated messages)\\n')\n",
        "plt.ylabel('count')\n",
        "\n",
        "plt.show()"
      ],
      "metadata": {
        "colab": {
          "base_uri": "https://localhost:8080/",
          "height": 677
        },
        "id": "Vumw1r7BMk5D",
        "outputId": "7d53e5b6-7fd8-4b87-cf77-5753535a61d9"
      },
      "execution_count": 64,
      "outputs": [
        {
          "output_type": "display_data",
          "data": {
            "text/plain": [
              "<Figure size 700x500 with 1 Axes>"
            ],
            "image/png": "[encoded data removed]"
          },
          "metadata": {
            "needs_background": "light"
          }
        }
      ]
    },
    {
      "cell_type": "markdown",
      "source": [
        "Inspect those entries when the sentiment predictions scores on original and translated messages don't match"
      ],
      "metadata": {
        "id": "tV7JhjhEM2jt"
      }
    },
    {
      "cell_type": "code",
      "source": [
        "df ['sentiment.agreement'] = np.where((df['messageSentiment.score'] == df['translatedMessageSentiment.score']), 'Y', 'N')"
      ],
      "metadata": {
        "id": "tUVMDrh0NEpH"
      },
      "execution_count": 69,
      "outputs": []
    },
    {
      "cell_type": "code",
      "source": [
        "disagree_df = df [df['sentiment.agreement'] == 'N']"
      ],
      "metadata": {
        "id": "Qgavqrp4NXoE"
      },
      "execution_count": 74,
      "outputs": []
    },
    {
      "cell_type": "code",
      "source": [
        "print (\"Total number of entries where the scores disagree:\", len(disagree_df))\n",
        "disagree_df.head()"
      ],
      "metadata": {
        "colab": {
          "base_uri": "https://localhost:8080/",
          "height": 620
        },
        "id": "fP1qnrCNOkgs",
        "outputId": "de92d48b-04b4-40ea-e944-43025fa533f4"
      },
      "execution_count": 75,
      "outputs": [
        {
          "output_type": "stream",
          "name": "stdout",
          "text": [
            "Total number of entries where the scores disagree: 127\n"
          ]
        },
        {
          "output_type": "execute_result",
          "data": {
            "text/plain": [
              "                             account.name        account.handle  \\\n",
              "11585                         IndiaVirals          udaanupdates   \n",
              "581538                        IndiaVirals          udaanupdates   \n",
              "259211  We Support Pushpendra Kulshrestha                   NaN   \n",
              "524631                        अभिषेक सिंह  kattarhindurajput111   \n",
              "315950                        IndiaVirals          udaanupdates   \n",
              "\n",
              "             platformId  Page Category Page Admin Top Country  \\\n",
              "11585   234540670328769      NEWS_SITE                     IN   \n",
              "581538  234540670328769      NEWS_SITE                     IN   \n",
              "259211  100063803915990  PERSONAL_BLOG                    NaN   \n",
              "524631  100053001286794         PERSON                     IN   \n",
              "315950  234540670328769      NEWS_SITE                     IN   \n",
              "\n",
              "               Page Description         Page Created  subscriberCount  \\\n",
              "11585      News & media website  2017-01-08 06:52:04         546524.0   \n",
              "581538     News & media website  2017-01-08 06:52:04         203237.0   \n",
              "259211   Pushpendra Kulshrestha  2020-12-31 08:26:51              NaN   \n",
              "524631            श्री राम भक्त  2018-04-19 07:58:41              NaN   \n",
              "315950     News & media website  2017-01-08 06:52:04         529690.0   \n",
              "\n",
              "        Followers at Posting                      date  ...  \\\n",
              "11585               542506.0  2022-06-19 07:12:25 CEST  ...   \n",
              "581538              204308.0  2018-04-04 07:27:29 CEST  ...   \n",
              "259211                   NaN  2021-08-13 15:49:34 CEST  ...   \n",
              "524631                   NaN  2019-08-04 16:10:04 CEST  ...   \n",
              "315950              529568.0  2021-05-31 09:32:46 CEST  ...   \n",
              "\n",
              "                                                    title  \\\n",
              "11585   जब बॉलीवुड की इन 10 फेमस अभिनेत्रियों के MMS ह...   \n",
              "581538                                                NaN   \n",
              "259211  Photos from We Support Pushpendra Kulshrestha'...   \n",
              "524631                                                NaN   \n",
              "315950  सेंट्रल विस्टा प्रोजेक्ट को रुकवाने की याचिका ...   \n",
              "\n",
              "                                              description  \\\n",
              "11585   बॉलीवुड इंडस्ट्री और विवाद का एक दूसरे से काफी...   \n",
              "581538                                                NaN   \n",
              "259211                                                NaN   \n",
              "524631                                                NaN   \n",
              "315950  central vista project: सेंट्रल विस्टा प्रोजेक्...   \n",
              "\n",
              "       brandedContentSponsor.platformId brandedContentSponsor.name  \\\n",
              "11585                               NaN                        NaN   \n",
              "581538                              NaN                        NaN   \n",
              "259211                              NaN                        NaN   \n",
              "524631                              NaN                        NaN   \n",
              "315950                              NaN                        NaN   \n",
              "\n",
              "        brandedContentSponsor.category  score  \\\n",
              "11585                              NaN     -4   \n",
              "581538                             NaN  -14.9   \n",
              "259211                             NaN   1.96   \n",
              "524631                             NaN  -22.4   \n",
              "315950                             NaN      6   \n",
              "\n",
              "                                       message.translated  \\\n",
              "11585   When these 10-MS of Bhutwood's 10-MS leaks, pe...   \n",
              "581538  If this post is liked by you, check it out, co...   \n",
              "259211                         The new picture of kamir )   \n",
              "524631                                                Hap   \n",
              "315950                       The Court is also organized.   \n",
              "\n",
              "        messageSentiment.score  translatedMessageSentiment.score  \\\n",
              "11585                        1                                 0   \n",
              "581538                       2                                 1   \n",
              "259211                       2                                 1   \n",
              "524631                       2                                 1   \n",
              "315950                       0                                 1   \n",
              "\n",
              "        sentiment.agreement  \n",
              "11585                     N  \n",
              "581538                    N  \n",
              "259211                    N  \n",
              "524631                    N  \n",
              "315950                    N  \n",
              "\n",
              "[5 rows x 44 columns]"
            ],
            "text/html": [
              "\n",
              "  <div id=\"df-45987afd-eb40-4c13-8702-0d9055f32025\">\n",
              "    <div class=\"colab-df-container\">\n",
              "      <div>\n",
              "<style scoped>\n",
              "    .dataframe tbody tr th:only-of-type {\n",
              "        vertical-align: middle;\n",
              "    }\n",
              "\n",
              "    .dataframe tbody tr th {\n",
              "        vertical-align: top;\n",
              "    }\n",
              "\n",
              "    .dataframe thead th {\n",
              "        text-align: right;\n",
              "    }\n",
              "</style>\n",
              "<table border=\"1\" class=\"dataframe\">\n",
              "  <thead>\n",
              "    <tr style=\"text-align: right;\">\n",
              "      <th></th>\n",
              "      <th>account.name</th>\n",
              "      <th>account.handle</th>\n",
              "      <th>platformId</th>\n",
              "      <th>Page Category</th>\n",
              "      <th>Page Admin Top Country</th>\n",
              "      <th>Page Description</th>\n",
              "      <th>Page Created</th>\n",
              "      <th>subscriberCount</th>\n",
              "      <th>Followers at Posting</th>\n",
              "      <th>date</th>\n",
              "      <th>...</th>\n",
              "      <th>title</th>\n",
              "      <th>description</th>\n",
              "      <th>brandedContentSponsor.platformId</th>\n",
              "      <th>brandedContentSponsor.name</th>\n",
              "      <th>brandedContentSponsor.category</th>\n",
              "      <th>score</th>\n",
              "      <th>message.translated</th>\n",
              "      <th>messageSentiment.score</th>\n",
              "      <th>translatedMessageSentiment.score</th>\n",
              "      <th>sentiment.agreement</th>\n",
              "    </tr>\n",
              "  </thead>\n",
              "  <tbody>\n",
              "    <tr>\n",
              "      <th>11585</th>\n",
              "      <td>IndiaVirals</td>\n",
              "      <td>udaanupdates</td>\n",
              "      <td>234540670328769</td>\n",
              "      <td>NEWS_SITE</td>\n",
              "      <td>IN</td>\n",
              "      <td>News &amp; media website</td>\n",
              "      <td>2017-01-08 06:52:04</td>\n",
              "      <td>546524.0</td>\n",
              "      <td>542506.0</td>\n",
              "      <td>2022-06-19 07:12:25 CEST</td>\n",
              "      <td>...</td>\n",
              "      <td>जब बॉलीवुड की इन 10 फेमस अभिनेत्रियों के MMS ह...</td>\n",
              "      <td>बॉलीवुड इंडस्ट्री और विवाद का एक दूसरे से काफी...</td>\n",
              "      <td>NaN</td>\n",
              "      <td>NaN</td>\n",
              "      <td>NaN</td>\n",
              "      <td>-4</td>\n",
              "      <td>When these 10-MS of Bhutwood's 10-MS leaks, pe...</td>\n",
              "      <td>1</td>\n",
              "      <td>0</td>\n",
              "      <td>N</td>\n",
              "    </tr>\n",
              "    <tr>\n",
              "      <th>581538</th>\n",
              "      <td>IndiaVirals</td>\n",
              "      <td>udaanupdates</td>\n",
              "      <td>234540670328769</td>\n",
              "      <td>NEWS_SITE</td>\n",
              "      <td>IN</td>\n",
              "      <td>News &amp; media website</td>\n",
              "      <td>2017-01-08 06:52:04</td>\n",
              "      <td>203237.0</td>\n",
              "      <td>204308.0</td>\n",
              "      <td>2018-04-04 07:27:29 CEST</td>\n",
              "      <td>...</td>\n",
              "      <td>NaN</td>\n",
              "      <td>NaN</td>\n",
              "      <td>NaN</td>\n",
              "      <td>NaN</td>\n",
              "      <td>NaN</td>\n",
              "      <td>-14.9</td>\n",
              "      <td>If this post is liked by you, check it out, co...</td>\n",
              "      <td>2</td>\n",
              "      <td>1</td>\n",
              "      <td>N</td>\n",
              "    </tr>\n",
              "    <tr>\n",
              "      <th>259211</th>\n",
              "      <td>We Support Pushpendra Kulshrestha</td>\n",
              "      <td>NaN</td>\n",
              "      <td>100063803915990</td>\n",
              "      <td>PERSONAL_BLOG</td>\n",
              "      <td>NaN</td>\n",
              "      <td>Pushpendra Kulshrestha</td>\n",
              "      <td>2020-12-31 08:26:51</td>\n",
              "      <td>NaN</td>\n",
              "      <td>NaN</td>\n",
              "      <td>2021-08-13 15:49:34 CEST</td>\n",
              "      <td>...</td>\n",
              "      <td>Photos from We Support Pushpendra Kulshrestha'...</td>\n",
              "      <td>NaN</td>\n",
              "      <td>NaN</td>\n",
              "      <td>NaN</td>\n",
              "      <td>NaN</td>\n",
              "      <td>1.96</td>\n",
              "      <td>The new picture of kamir )</td>\n",
              "      <td>2</td>\n",
              "      <td>1</td>\n",
              "      <td>N</td>\n",
              "    </tr>\n",
              "    <tr>\n",
              "      <th>524631</th>\n",
              "      <td>अभिषेक सिंह</td>\n",
              "      <td>kattarhindurajput111</td>\n",
              "      <td>100053001286794</td>\n",
              "      <td>PERSON</td>\n",
              "      <td>IN</td>\n",
              "      <td>श्री राम भक्त</td>\n",
              "      <td>2018-04-19 07:58:41</td>\n",
              "      <td>NaN</td>\n",
              "      <td>NaN</td>\n",
              "      <td>2019-08-04 16:10:04 CEST</td>\n",
              "      <td>...</td>\n",
              "      <td>NaN</td>\n",
              "      <td>NaN</td>\n",
              "      <td>NaN</td>\n",
              "      <td>NaN</td>\n",
              "      <td>NaN</td>\n",
              "      <td>-22.4</td>\n",
              "      <td>Hap</td>\n",
              "      <td>2</td>\n",
              "      <td>1</td>\n",
              "      <td>N</td>\n",
              "    </tr>\n",
              "    <tr>\n",
              "      <th>315950</th>\n",
              "      <td>IndiaVirals</td>\n",
              "      <td>udaanupdates</td>\n",
              "      <td>234540670328769</td>\n",
              "      <td>NEWS_SITE</td>\n",
              "      <td>IN</td>\n",
              "      <td>News &amp; media website</td>\n",
              "      <td>2017-01-08 06:52:04</td>\n",
              "      <td>529690.0</td>\n",
              "      <td>529568.0</td>\n",
              "      <td>2021-05-31 09:32:46 CEST</td>\n",
              "      <td>...</td>\n",
              "      <td>सेंट्रल विस्टा प्रोजेक्ट को रुकवाने की याचिका ...</td>\n",
              "      <td>central vista project: सेंट्रल विस्टा प्रोजेक्...</td>\n",
              "      <td>NaN</td>\n",
              "      <td>NaN</td>\n",
              "      <td>NaN</td>\n",
              "      <td>6</td>\n",
              "      <td>The Court is also organized.</td>\n",
              "      <td>0</td>\n",
              "      <td>1</td>\n",
              "      <td>N</td>\n",
              "    </tr>\n",
              "  </tbody>\n",
              "</table>\n",
              "<p>5 rows × 44 columns</p>\n",
              "</div>\n",
              "      <button class=\"colab-df-convert\" onclick=\"convertToInteractive('df-45987afd-eb40-4c13-8702-0d9055f32025')\"\n",
              "              title=\"Convert this dataframe to an interactive table.\"\n",
              "              style=\"display:none;\">\n",
              "        \n",
              "  <svg xmlns=\"http://www.w3.org/2000/svg\" height=\"24px\"viewBox=\"0 0 24 24\"\n",
              "       width=\"24px\">\n",
              "    <path d=\"M0 0h24v24H0V0z\" fill=\"none\"/>\n",
              "    <path d=\"M18.56 5.44l.94 2.06.94-2.06 2.06-.94-2.06-.94-.94-2.06-.94 2.06-2.06.94zm-11 1L8.5 8.5l.94-2.06 2.06-.94-2.06-.94L8.5 2.5l-.94 2.06-2.06.94zm10 10l.94 2.06.94-2.06 2.06-.94-2.06-.94-.94-2.06-.94 2.06-2.06.94z\"/><path d=\"M17.41 7.96l-1.37-1.37c-.4-.4-.92-.59-1.43-.59-.52 0-1.04.2-1.43.59L10.3 9.45l-7.72 7.72c-.78.78-.78 2.05 0 2.83L4 21.41c.39.39.9.59 1.41.59.51 0 1.02-.2 1.41-.59l7.78-7.78 2.81-2.81c.8-.78.8-2.07 0-2.86zM5.41 20L4 18.59l7.72-7.72 1.47 1.35L5.41 20z\"/>\n",
              "  </svg>\n",
              "      </button>\n",
              "      \n",
              "  <style>\n",
              "    .colab-df-container {\n",
              "      display:flex;\n",
              "      flex-wrap:wrap;\n",
              "      gap: 12px;\n",
              "    }\n",
              "\n",
              "    .colab-df-convert {\n",
              "      background-color: #E8F0FE;\n",
              "      border: none;\n",
              "      border-radius: 50%;\n",
              "      cursor: pointer;\n",
              "      display: none;\n",
              "      fill: #1967D2;\n",
              "      height: 32px;\n",
              "      padding: 0 0 0 0;\n",
              "      width: 32px;\n",
              "    }\n",
              "\n",
              "    .colab-df-convert:hover {\n",
              "      background-color: #E2EBFA;\n",
              "      box-shadow: 0px 1px 2px rgba(60, 64, 67, 0.3), 0px 1px 3px 1px rgba(60, 64, 67, 0.15);\n",
              "      fill: #174EA6;\n",
              "    }\n",
              "\n",
              "    [theme=dark] .colab-df-convert {\n",
              "      background-color: #3B4455;\n",
              "      fill: #D2E3FC;\n",
              "    }\n",
              "\n",
              "    [theme=dark] .colab-df-convert:hover {\n",
              "      background-color: #434B5C;\n",
              "      box-shadow: 0px 1px 3px 1px rgba(0, 0, 0, 0.15);\n",
              "      filter: drop-shadow(0px 1px 2px rgba(0, 0, 0, 0.3));\n",
              "      fill: #FFFFFF;\n",
              "    }\n",
              "  </style>\n",
              "\n",
              "      <script>\n",
              "        const buttonEl =\n",
              "          document.querySelector('#df-45987afd-eb40-4c13-8702-0d9055f32025 button.colab-df-convert');\n",
              "        buttonEl.style.display =\n",
              "          google.colab.kernel.accessAllowed ? 'block' : 'none';\n",
              "\n",
              "        async function convertToInteractive(key) {\n",
              "          const element = document.querySelector('#df-45987afd-eb40-4c13-8702-0d9055f32025');\n",
              "          const dataTable =\n",
              "            await google.colab.kernel.invokeFunction('convertToInteractive',\n",
              "                                                     [key], {});\n",
              "          if (!dataTable) return;\n",
              "\n",
              "          const docLinkHtml = 'Like what you see? Visit the ' +\n",
              "            '<a target=\"_blank\" href=https://colab.research.google.com/notebooks/data_table.ipynb>data table notebook</a>'\n",
              "            + ' to learn more about interactive tables.';\n",
              "          element.innerHTML = '';\n",
              "          dataTable['output_type'] = 'display_data';\n",
              "          await google.colab.output.renderOutput(dataTable, element);\n",
              "          const docLink = document.createElement('div');\n",
              "          docLink.innerHTML = docLinkHtml;\n",
              "          element.appendChild(docLink);\n",
              "        }\n",
              "      </script>\n",
              "    </div>\n",
              "  </div>\n",
              "  "
            ]
          },
          "metadata": {},
          "execution_count": 75
        }
      ]
    }
  ],
  "metadata": {
    "accelerator": "GPU",
    "colab": {
      "collapsed_sections": [],
      "provenance": [],
      "toc_visible": true
    },
    "kernelspec": {
      "display_name": "Python 3",
      "name": "python3"
    },
    "language_info": {
      "name": "python"
    },
    "widgets": {
      "application/vnd.jupyter.widget-state+json": {
        "35cfc2fb3fad44958b81481027dc9f57": {
          "model_module": "@jupyter-widgets/controls",
          "model_name": "HBoxModel",
          "model_module_version": "1.5.0",
          "state": {
            "_dom_classes": [],
            "_model_module": "@jupyter-widgets/controls",
            "_model_module_version": "1.5.0",
            "_model_name": "HBoxModel",
            "_view_count": null,
            "_view_module": "@jupyter-widgets/controls",
            "_view_module_version": "1.5.0",
            "_view_name": "HBoxView",
            "box_style": "",
            "children": [
              "IPY_MODEL_2c58921b1e3f4ae08a17d72b0ca5e999",
              "IPY_MODEL_bd71969bc318480bbc5c72ddf1ea9685",
              "IPY_MODEL_96ad1e33f7be486ba286617bb774ec5c"
            ],
            "layout": "IPY_MODEL_97c9cfa4fa9049c6bbdbc2c23230d836"
          }
        },
        "2c58921b1e3f4ae08a17d72b0ca5e999": {
          "model_module": "@jupyter-widgets/controls",
          "model_name": "HTMLModel",
          "model_module_version": "1.5.0",
          "state": {
            "_dom_classes": [],
            "_model_module": "@jupyter-widgets/controls",
            "_model_module_version": "1.5.0",
            "_model_name": "HTMLModel",
            "_view_count": null,
            "_view_module": "@jupyter-widgets/controls",
            "_view_module_version": "1.5.0",
            "_view_name": "HTMLView",
            "description": "",
            "description_tooltip": null,
            "layout": "IPY_MODEL_552a3a62c0984f018cf21f4f9c10f12c",
            "placeholder": "​",
            "style": "IPY_MODEL_18a8ca682f68481d9cb2ce781a6e19e6",
            "value": "Downloading: 100%"
          }
        },
        "bd71969bc318480bbc5c72ddf1ea9685": {
          "model_module": "@jupyter-widgets/controls",
          "model_name": "FloatProgressModel",
          "model_module_version": "1.5.0",
          "state": {
            "_dom_classes": [],
            "_model_module": "@jupyter-widgets/controls",
            "_model_module_version": "1.5.0",
            "_model_name": "FloatProgressModel",
            "_view_count": null,
            "_view_module": "@jupyter-widgets/controls",
            "_view_module_version": "1.5.0",
            "_view_name": "ProgressView",
            "bar_style": "success",
            "description": "",
            "description_tooltip": null,
            "layout": "IPY_MODEL_79d4c6407a8e463fbe71e15030835912",
            "max": 1381,
            "min": 0,
            "orientation": "horizontal",
            "style": "IPY_MODEL_09b9c75fcb4e4e7e8087c9800dc63da5",
            "value": 1381
          }
        },
        "96ad1e33f7be486ba286617bb774ec5c": {
          "model_module": "@jupyter-widgets/controls",
          "model_name": "HTMLModel",
          "model_module_version": "1.5.0",
          "state": {
            "_dom_classes": [],
            "_model_module": "@jupyter-widgets/controls",
            "_model_module_version": "1.5.0",
            "_model_name": "HTMLModel",
            "_view_count": null,
            "_view_module": "@jupyter-widgets/controls",
            "_view_module_version": "1.5.0",
            "_view_name": "HTMLView",
            "description": "",
            "description_tooltip": null,
            "layout": "IPY_MODEL_8b452695a0c6455f9d306aa376cbf30e",
            "placeholder": "​",
            "style": "IPY_MODEL_a814baff8b2a404e85c8c3f71bb06f21",
            "value": " 1.38k/1.38k [00:00&lt;00:00, 44.1kB/s]"
          }
        },
        "97c9cfa4fa9049c6bbdbc2c23230d836": {
          "model_module": "@jupyter-widgets/base",
          "model_name": "LayoutModel",
          "model_module_version": "1.2.0",
          "state": {
            "_model_module": "@jupyter-widgets/base",
            "_model_module_version": "1.2.0",
            "_model_name": "LayoutModel",
            "_view_count": null,
            "_view_module": "@jupyter-widgets/base",
            "_view_module_version": "1.2.0",
            "_view_name": "LayoutView",
            "align_content": null,
            "align_items": null,
            "align_self": null,
            "border": null,
            "bottom": null,
            "display": null,
            "flex": null,
            "flex_flow": null,
            "grid_area": null,
            "grid_auto_columns": null,
            "grid_auto_flow": null,
            "grid_auto_rows": null,
            "grid_column": null,
            "grid_gap": null,
            "grid_row": null,
            "grid_template_areas": null,
            "grid_template_columns": null,
            "grid_template_rows": null,
            "height": null,
            "justify_content": null,
            "justify_items": null,
            "left": null,
            "margin": null,
            "max_height": null,
            "max_width": null,
            "min_height": null,
            "min_width": null,
            "object_fit": null,
            "object_position": null,
            "order": null,
            "overflow": null,
            "overflow_x": null,
            "overflow_y": null,
            "padding": null,
            "right": null,
            "top": null,
            "visibility": null,
            "width": null
          }
        },
        "552a3a62c0984f018cf21f4f9c10f12c": {
          "model_module": "@jupyter-widgets/base",
          "model_name": "LayoutModel",
          "model_module_version": "1.2.0",
          "state": {
            "_model_module": "@jupyter-widgets/base",
            "_model_module_version": "1.2.0",
            "_model_name": "LayoutModel",
            "_view_count": null,
            "_view_module": "@jupyter-widgets/base",
            "_view_module_version": "1.2.0",
            "_view_name": "LayoutView",
            "align_content": null,
            "align_items": null,
            "align_self": null,
            "border": null,
            "bottom": null,
            "display": null,
            "flex": null,
            "flex_flow": null,
            "grid_area": null,
            "grid_auto_columns": null,
            "grid_auto_flow": null,
            "grid_auto_rows": null,
            "grid_column": null,
            "grid_gap": null,
            "grid_row": null,
            "grid_template_areas": null,
            "grid_template_columns": null,
            "grid_template_rows": null,
            "height": null,
            "justify_content": null,
            "justify_items": null,
            "left": null,
            "margin": null,
            "max_height": null,
            "max_width": null,
            "min_height": null,
            "min_width": null,
            "object_fit": null,
            "object_position": null,
            "order": null,
            "overflow": null,
            "overflow_x": null,
            "overflow_y": null,
            "padding": null,
            "right": null,
            "top": null,
            "visibility": null,
            "width": null
          }
        },
        "18a8ca682f68481d9cb2ce781a6e19e6": {
          "model_module": "@jupyter-widgets/controls",
          "model_name": "DescriptionStyleModel",
          "model_module_version": "1.5.0",
          "state": {
            "_model_module": "@jupyter-widgets/controls",
            "_model_module_version": "1.5.0",
            "_model_name": "DescriptionStyleModel",
            "_view_count": null,
            "_view_module": "@jupyter-widgets/base",
            "_view_module_version": "1.2.0",
            "_view_name": "StyleView",
            "description_width": ""
          }
        },
        "79d4c6407a8e463fbe71e15030835912": {
          "model_module": "@jupyter-widgets/base",
          "model_name": "LayoutModel",
          "model_module_version": "1.2.0",
          "state": {
            "_model_module": "@jupyter-widgets/base",
            "_model_module_version": "1.2.0",
            "_model_name": "LayoutModel",
            "_view_count": null,
            "_view_module": "@jupyter-widgets/base",
            "_view_module_version": "1.2.0",
            "_view_name": "LayoutView",
            "align_content": null,
            "align_items": null,
            "align_self": null,
            "border": null,
            "bottom": null,
            "display": null,
            "flex": null,
            "flex_flow": null,
            "grid_area": null,
            "grid_auto_columns": null,
            "grid_auto_flow": null,
            "grid_auto_rows": null,
            "grid_column": null,
            "grid_gap": null,
            "grid_row": null,
            "grid_template_areas": null,
            "grid_template_columns": null,
            "grid_template_rows": null,
            "height": null,
            "justify_content": null,
            "justify_items": null,
            "left": null,
            "margin": null,
            "max_height": null,
            "max_width": null,
            "min_height": null,
            "min_width": null,
            "object_fit": null,
            "object_position": null,
            "order": null,
            "overflow": null,
            "overflow_x": null,
            "overflow_y": null,
            "padding": null,
            "right": null,
            "top": null,
            "visibility": null,
            "width": null
          }
        },
        "09b9c75fcb4e4e7e8087c9800dc63da5": {
          "model_module": "@jupyter-widgets/controls",
          "model_name": "ProgressStyleModel",
          "model_module_version": "1.5.0",
          "state": {
            "_model_module": "@jupyter-widgets/controls",
            "_model_module_version": "1.5.0",
            "_model_name": "ProgressStyleModel",
            "_view_count": null,
            "_view_module": "@jupyter-widgets/base",
            "_view_module_version": "1.2.0",
            "_view_name": "StyleView",
            "bar_color": null,
            "description_width": ""
          }
        },
        "8b452695a0c6455f9d306aa376cbf30e": {
          "model_module": "@jupyter-widgets/base",
          "model_name": "LayoutModel",
          "model_module_version": "1.2.0",
          "state": {
            "_model_module": "@jupyter-widgets/base",
            "_model_module_version": "1.2.0",
            "_model_name": "LayoutModel",
            "_view_count": null,
            "_view_module": "@jupyter-widgets/base",
            "_view_module_version": "1.2.0",
            "_view_name": "LayoutView",
            "align_content": null,
            "align_items": null,
            "align_self": null,
            "border": null,
            "bottom": null,
            "display": null,
            "flex": null,
            "flex_flow": null,
            "grid_area": null,
            "grid_auto_columns": null,
            "grid_auto_flow": null,
            "grid_auto_rows": null,
            "grid_column": null,
            "grid_gap": null,
            "grid_row": null,
            "grid_template_areas": null,
            "grid_template_columns": null,
            "grid_template_rows": null,
            "height": null,
            "justify_content": null,
            "justify_items": null,
            "left": null,
            "margin": null,
            "max_height": null,
            "max_width": null,
            "min_height": null,
            "min_width": null,
            "object_fit": null,
            "object_position": null,
            "order": null,
            "overflow": null,
            "overflow_x": null,
            "overflow_y": null,
            "padding": null,
            "right": null,
            "top": null,
            "visibility": null,
            "width": null
          }
        },
        "a814baff8b2a404e85c8c3f71bb06f21": {
          "model_module": "@jupyter-widgets/controls",
          "model_name": "DescriptionStyleModel",
          "model_module_version": "1.5.0",
          "state": {
            "_model_module": "@jupyter-widgets/controls",
            "_model_module_version": "1.5.0",
            "_model_name": "DescriptionStyleModel",
            "_view_count": null,
            "_view_module": "@jupyter-widgets/base",
            "_view_module_version": "1.2.0",
            "_view_name": "StyleView",
            "description_width": ""
          }
        },
        "9784ad32a82445b2bbe7b0dd088443a8": {
          "model_module": "@jupyter-widgets/controls",
          "model_name": "HBoxModel",
          "model_module_version": "1.5.0",
          "state": {
            "_dom_classes": [],
            "_model_module": "@jupyter-widgets/controls",
            "_model_module_version": "1.5.0",
            "_model_name": "HBoxModel",
            "_view_count": null,
            "_view_module": "@jupyter-widgets/controls",
            "_view_module_version": "1.5.0",
            "_view_name": "HBoxView",
            "box_style": "",
            "children": [
              "IPY_MODEL_fc1533f2d2c74f6eadbdb35339855b30",
              "IPY_MODEL_046fa5084c6e444383fea992ef57ec65",
              "IPY_MODEL_c092174d78ed4df6af4339567599ba90"
            ],
            "layout": "IPY_MODEL_9b45ce37b44d407c81b3471678c05fb9"
          }
        },
        "fc1533f2d2c74f6eadbdb35339855b30": {
          "model_module": "@jupyter-widgets/controls",
          "model_name": "HTMLModel",
          "model_module_version": "1.5.0",
          "state": {
            "_dom_classes": [],
            "_model_module": "@jupyter-widgets/controls",
            "_model_module_version": "1.5.0",
            "_model_name": "HTMLModel",
            "_view_count": null,
            "_view_module": "@jupyter-widgets/controls",
            "_view_module_version": "1.5.0",
            "_view_name": "HTMLView",
            "description": "",
            "description_tooltip": null,
            "layout": "IPY_MODEL_eb9a8389dd0945f98d4006d1f571d1a1",
            "placeholder": "​",
            "style": "IPY_MODEL_10e2ee2a59e649e8a4bad97f4544cc98",
            "value": "Downloading: 100%"
          }
        },
        "046fa5084c6e444383fea992ef57ec65": {
          "model_module": "@jupyter-widgets/controls",
          "model_name": "FloatProgressModel",
          "model_module_version": "1.5.0",
          "state": {
            "_dom_classes": [],
            "_model_module": "@jupyter-widgets/controls",
            "_model_module_version": "1.5.0",
            "_model_name": "FloatProgressModel",
            "_view_count": null,
            "_view_module": "@jupyter-widgets/controls",
            "_view_module_version": "1.5.0",
            "_view_name": "ProgressView",
            "bar_style": "success",
            "description": "",
            "description_tooltip": null,
            "layout": "IPY_MODEL_3eb9458cad214f9abdd3501d88491450",
            "max": 304137561,
            "min": 0,
            "orientation": "horizontal",
            "style": "IPY_MODEL_dc691443bc5f42858a881f78fe869264",
            "value": 304137561
          }
        },
        "c092174d78ed4df6af4339567599ba90": {
          "model_module": "@jupyter-widgets/controls",
          "model_name": "HTMLModel",
          "model_module_version": "1.5.0",
          "state": {
            "_dom_classes": [],
            "_model_module": "@jupyter-widgets/controls",
            "_model_module_version": "1.5.0",
            "_model_name": "HTMLModel",
            "_view_count": null,
            "_view_module": "@jupyter-widgets/controls",
            "_view_module_version": "1.5.0",
            "_view_name": "HTMLView",
            "description": "",
            "description_tooltip": null,
            "layout": "IPY_MODEL_e0bf1c346b434296a91e9137124f7482",
            "placeholder": "​",
            "style": "IPY_MODEL_d379a32e98c042c297b5943252217736",
            "value": " 304M/304M [00:07&lt;00:00, 43.0MB/s]"
          }
        },
        "9b45ce37b44d407c81b3471678c05fb9": {
          "model_module": "@jupyter-widgets/base",
          "model_name": "LayoutModel",
          "model_module_version": "1.2.0",
          "state": {
            "_model_module": "@jupyter-widgets/base",
            "_model_module_version": "1.2.0",
            "_model_name": "LayoutModel",
            "_view_count": null,
            "_view_module": "@jupyter-widgets/base",
            "_view_module_version": "1.2.0",
            "_view_name": "LayoutView",
            "align_content": null,
            "align_items": null,
            "align_self": null,
            "border": null,
            "bottom": null,
            "display": null,
            "flex": null,
            "flex_flow": null,
            "grid_area": null,
            "grid_auto_columns": null,
            "grid_auto_flow": null,
            "grid_auto_rows": null,
            "grid_column": null,
            "grid_gap": null,
            "grid_row": null,
            "grid_template_areas": null,
            "grid_template_columns": null,
            "grid_template_rows": null,
            "height": null,
            "justify_content": null,
            "justify_items": null,
            "left": null,
            "margin": null,
            "max_height": null,
            "max_width": null,
            "min_height": null,
            "min_width": null,
            "object_fit": null,
            "object_position": null,
            "order": null,
            "overflow": null,
            "overflow_x": null,
            "overflow_y": null,
            "padding": null,
            "right": null,
            "top": null,
            "visibility": null,
            "width": null
          }
        },
        "eb9a8389dd0945f98d4006d1f571d1a1": {
          "model_module": "@jupyter-widgets/base",
          "model_name": "LayoutModel",
          "model_module_version": "1.2.0",
          "state": {
            "_model_module": "@jupyter-widgets/base",
            "_model_module_version": "1.2.0",
            "_model_name": "LayoutModel",
            "_view_count": null,
            "_view_module": "@jupyter-widgets/base",
            "_view_module_version": "1.2.0",
            "_view_name": "LayoutView",
            "align_content": null,
            "align_items": null,
            "align_self": null,
            "border": null,
            "bottom": null,
            "display": null,
            "flex": null,
            "flex_flow": null,
            "grid_area": null,
            "grid_auto_columns": null,
            "grid_auto_flow": null,
            "grid_auto_rows": null,
            "grid_column": null,
            "grid_gap": null,
            "grid_row": null,
            "grid_template_areas": null,
            "grid_template_columns": null,
            "grid_template_rows": null,
            "height": null,
            "justify_content": null,
            "justify_items": null,
            "left": null,
            "margin": null,
            "max_height": null,
            "max_width": null,
            "min_height": null,
            "min_width": null,
            "object_fit": null,
            "object_position": null,
            "order": null,
            "overflow": null,
            "overflow_x": null,
            "overflow_y": null,
            "padding": null,
            "right": null,
            "top": null,
            "visibility": null,
            "width": null
          }
        },
        "10e2ee2a59e649e8a4bad97f4544cc98": {
          "model_module": "@jupyter-widgets/controls",
          "model_name": "DescriptionStyleModel",
          "model_module_version": "1.5.0",
          "state": {
            "_model_module": "@jupyter-widgets/controls",
            "_model_module_version": "1.5.0",
            "_model_name": "DescriptionStyleModel",
            "_view_count": null,
            "_view_module": "@jupyter-widgets/base",
            "_view_module_version": "1.2.0",
            "_view_name": "StyleView",
            "description_width": ""
          }
        },
        "3eb9458cad214f9abdd3501d88491450": {
          "model_module": "@jupyter-widgets/base",
          "model_name": "LayoutModel",
          "model_module_version": "1.2.0",
          "state": {
            "_model_module": "@jupyter-widgets/base",
            "_model_module_version": "1.2.0",
            "_model_name": "LayoutModel",
            "_view_count": null,
            "_view_module": "@jupyter-widgets/base",
            "_view_module_version": "1.2.0",
            "_view_name": "LayoutView",
            "align_content": null,
            "align_items": null,
            "align_self": null,
            "border": null,
            "bottom": null,
            "display": null,
            "flex": null,
            "flex_flow": null,
            "grid_area": null,
            "grid_auto_columns": null,
            "grid_auto_flow": null,
            "grid_auto_rows": null,
            "grid_column": null,
            "grid_gap": null,
            "grid_row": null,
            "grid_template_areas": null,
            "grid_template_columns": null,
            "grid_template_rows": null,
            "height": null,
            "justify_content": null,
            "justify_items": null,
            "left": null,
            "margin": null,
            "max_height": null,
            "max_width": null,
            "min_height": null,
            "min_width": null,
            "object_fit": null,
            "object_position": null,
            "order": null,
            "overflow": null,
            "overflow_x": null,
            "overflow_y": null,
            "padding": null,
            "right": null,
            "top": null,
            "visibility": null,
            "width": null
          }
        },
        "dc691443bc5f42858a881f78fe869264": {
          "model_module": "@jupyter-widgets/controls",
          "model_name": "ProgressStyleModel",
          "model_module_version": "1.5.0",
          "state": {
            "_model_module": "@jupyter-widgets/controls",
            "_model_module_version": "1.5.0",
            "_model_name": "ProgressStyleModel",
            "_view_count": null,
            "_view_module": "@jupyter-widgets/base",
            "_view_module_version": "1.2.0",
            "_view_name": "StyleView",
            "bar_color": null,
            "description_width": ""
          }
        },
        "e0bf1c346b434296a91e9137124f7482": {
          "model_module": "@jupyter-widgets/base",
          "model_name": "LayoutModel",
          "model_module_version": "1.2.0",
          "state": {
            "_model_module": "@jupyter-widgets/base",
            "_model_module_version": "1.2.0",
            "_model_name": "LayoutModel",
            "_view_count": null,
            "_view_module": "@jupyter-widgets/base",
            "_view_module_version": "1.2.0",
            "_view_name": "LayoutView",
            "align_content": null,
            "align_items": null,
            "align_self": null,
            "border": null,
            "bottom": null,
            "display": null,
            "flex": null,
            "flex_flow": null,
            "grid_area": null,
            "grid_auto_columns": null,
            "grid_auto_flow": null,
            "grid_auto_rows": null,
            "grid_column": null,
            "grid_gap": null,
            "grid_row": null,
            "grid_template_areas": null,
            "grid_template_columns": null,
            "grid_template_rows": null,
            "height": null,
            "justify_content": null,
            "justify_items": null,
            "left": null,
            "margin": null,
            "max_height": null,
            "max_width": null,
            "min_height": null,
            "min_width": null,
            "object_fit": null,
            "object_position": null,
            "order": null,
            "overflow": null,
            "overflow_x": null,
            "overflow_y": null,
            "padding": null,
            "right": null,
            "top": null,
            "visibility": null,
            "width": null
          }
        },
        "d379a32e98c042c297b5943252217736": {
          "model_module": "@jupyter-widgets/controls",
          "model_name": "DescriptionStyleModel",
          "model_module_version": "1.5.0",
          "state": {
            "_model_module": "@jupyter-widgets/controls",
            "_model_module_version": "1.5.0",
            "_model_name": "DescriptionStyleModel",
            "_view_count": null,
            "_view_module": "@jupyter-widgets/base",
            "_view_module_version": "1.2.0",
            "_view_name": "StyleView",
            "description_width": ""
          }
        }
      }
    }
  },
  "nbformat": 4,
  "nbformat_minor": 0
}